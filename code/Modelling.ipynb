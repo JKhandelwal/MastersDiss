{
 "cells": [
  {
   "cell_type": "markdown",
   "metadata": {},
   "source": [
    "# Modelling Code"
   ]
  },
  {
   "cell_type": "code",
   "execution_count": 1,
   "metadata": {},
   "outputs": [],
   "source": [
    "import nltk\n",
    "import functools\n",
    "import operator\n",
    "import nltk\n",
    "import itertools\n",
    "import gdelt\n",
    "from nltk.corpus import stopwords\n",
    "import pandas as pd\n",
    "from datetime import datetime \n",
    "import numpy as np\n",
    "import matplotlib.pyplot as plt\n",
    "import seaborn as sns\n",
    "import wget\n",
    "import requests"
   ]
  },
  {
   "cell_type": "markdown",
   "metadata": {},
   "source": [
    "Read the USA China Data"
   ]
  },
  {
   "cell_type": "code",
   "execution_count": 2,
   "metadata": {},
   "outputs": [],
   "source": [
    "us_chn_data = pd.read_csv(\"fin_test\")"
   ]
  },
  {
   "cell_type": "code",
   "execution_count": 3,
   "metadata": {},
   "outputs": [
    {
     "data": {
      "text/html": [
       "<div>\n",
       "<style scoped>\n",
       "    .dataframe tbody tr th:only-of-type {\n",
       "        vertical-align: middle;\n",
       "    }\n",
       "\n",
       "    .dataframe tbody tr th {\n",
       "        vertical-align: top;\n",
       "    }\n",
       "\n",
       "    .dataframe thead th {\n",
       "        text-align: right;\n",
       "    }\n",
       "</style>\n",
       "<table border=\"1\" class=\"dataframe\">\n",
       "  <thead>\n",
       "    <tr style=\"text-align: right;\">\n",
       "      <th></th>\n",
       "      <th>SQLDATE</th>\n",
       "      <th>Actor1Code</th>\n",
       "      <th>Actor2Code</th>\n",
       "      <th>EventCode</th>\n",
       "      <th>DATEADDED</th>\n",
       "      <th>ActionGeo_Lat</th>\n",
       "      <th>ActionGeo_Long</th>\n",
       "      <th>NumMentions</th>\n",
       "      <th>AvgTone</th>\n",
       "      <th>QuadClass</th>\n",
       "      <th>GoldsteinScale</th>\n",
       "      <th>NumArticles</th>\n",
       "      <th>SOURCEURL</th>\n",
       "    </tr>\n",
       "  </thead>\n",
       "  <tbody>\n",
       "    <tr>\n",
       "      <th>0</th>\n",
       "      <td>20200301</td>\n",
       "      <td>CHN</td>\n",
       "      <td>USA</td>\n",
       "      <td>256</td>\n",
       "      <td>20200301200000</td>\n",
       "      <td>35.0000</td>\n",
       "      <td>105.000</td>\n",
       "      <td>3</td>\n",
       "      <td>-2.698023</td>\n",
       "      <td>1</td>\n",
       "      <td>-0.3</td>\n",
       "      <td>3</td>\n",
       "      <td>http://www.wboc.com/story/41836455/virus-cases...</td>\n",
       "    </tr>\n",
       "    <tr>\n",
       "      <th>1</th>\n",
       "      <td>20200302</td>\n",
       "      <td>CHN</td>\n",
       "      <td>USA</td>\n",
       "      <td>256</td>\n",
       "      <td>20200302000000</td>\n",
       "      <td>35.0000</td>\n",
       "      <td>105.000</td>\n",
       "      <td>6</td>\n",
       "      <td>-2.781947</td>\n",
       "      <td>1</td>\n",
       "      <td>-0.3</td>\n",
       "      <td>6</td>\n",
       "      <td>https://www.wiscnews.com/news/world/virus-acce...</td>\n",
       "    </tr>\n",
       "    <tr>\n",
       "      <th>2</th>\n",
       "      <td>20200302</td>\n",
       "      <td>USA</td>\n",
       "      <td>CHN</td>\n",
       "      <td>192</td>\n",
       "      <td>20200302123000</td>\n",
       "      <td>35.0000</td>\n",
       "      <td>105.000</td>\n",
       "      <td>8</td>\n",
       "      <td>-0.351494</td>\n",
       "      <td>4</td>\n",
       "      <td>-9.5</td>\n",
       "      <td>8</td>\n",
       "      <td>https://www.thesundaily.my/opinion/birds-of-a-...</td>\n",
       "    </tr>\n",
       "    <tr>\n",
       "      <th>3</th>\n",
       "      <td>20200302</td>\n",
       "      <td>CHN</td>\n",
       "      <td>USA</td>\n",
       "      <td>15</td>\n",
       "      <td>20200302174500</td>\n",
       "      <td>35.0000</td>\n",
       "      <td>105.000</td>\n",
       "      <td>10</td>\n",
       "      <td>-18.243243</td>\n",
       "      <td>1</td>\n",
       "      <td>0.0</td>\n",
       "      <td>10</td>\n",
       "      <td>https://www.wwnytv.com/2020/03/02/robinson-ple...</td>\n",
       "    </tr>\n",
       "    <tr>\n",
       "      <th>4</th>\n",
       "      <td>20200302</td>\n",
       "      <td>USA</td>\n",
       "      <td>CHN</td>\n",
       "      <td>15</td>\n",
       "      <td>20200302174500</td>\n",
       "      <td>35.0000</td>\n",
       "      <td>105.000</td>\n",
       "      <td>4</td>\n",
       "      <td>-18.243243</td>\n",
       "      <td>1</td>\n",
       "      <td>0.0</td>\n",
       "      <td>2</td>\n",
       "      <td>https://www.wwnytv.com/2020/03/02/robinson-ple...</td>\n",
       "    </tr>\n",
       "    <tr>\n",
       "      <th>...</th>\n",
       "      <td>...</td>\n",
       "      <td>...</td>\n",
       "      <td>...</td>\n",
       "      <td>...</td>\n",
       "      <td>...</td>\n",
       "      <td>...</td>\n",
       "      <td>...</td>\n",
       "      <td>...</td>\n",
       "      <td>...</td>\n",
       "      <td>...</td>\n",
       "      <td>...</td>\n",
       "      <td>...</td>\n",
       "      <td>...</td>\n",
       "    </tr>\n",
       "    <tr>\n",
       "      <th>3620</th>\n",
       "      <td>20190416</td>\n",
       "      <td>USA</td>\n",
       "      <td>CHN</td>\n",
       "      <td>174</td>\n",
       "      <td>20200415184500</td>\n",
       "      <td>39.9289</td>\n",
       "      <td>116.388</td>\n",
       "      <td>2</td>\n",
       "      <td>-4.403048</td>\n",
       "      <td>4</td>\n",
       "      <td>-5.0</td>\n",
       "      <td>2</td>\n",
       "      <td>https://thediplomat.com/2020/04/covid-19-will-...</td>\n",
       "    </tr>\n",
       "    <tr>\n",
       "      <th>3621</th>\n",
       "      <td>20200416</td>\n",
       "      <td>USA</td>\n",
       "      <td>CHN</td>\n",
       "      <td>163</td>\n",
       "      <td>20200416081500</td>\n",
       "      <td>39.9289</td>\n",
       "      <td>116.388</td>\n",
       "      <td>1</td>\n",
       "      <td>-3.926097</td>\n",
       "      <td>4</td>\n",
       "      <td>-8.0</td>\n",
       "      <td>1</td>\n",
       "      <td>https://www.telegraph.co.uk/politics/2020/04/1...</td>\n",
       "    </tr>\n",
       "    <tr>\n",
       "      <th>3622</th>\n",
       "      <td>20200416</td>\n",
       "      <td>CHN</td>\n",
       "      <td>USA</td>\n",
       "      <td>183</td>\n",
       "      <td>20200416190000</td>\n",
       "      <td>39.9289</td>\n",
       "      <td>116.388</td>\n",
       "      <td>2</td>\n",
       "      <td>-7.387863</td>\n",
       "      <td>4</td>\n",
       "      <td>-10.0</td>\n",
       "      <td>2</td>\n",
       "      <td>https://www.taipeitimes.com/News/world/archive...</td>\n",
       "    </tr>\n",
       "    <tr>\n",
       "      <th>3623</th>\n",
       "      <td>20200317</td>\n",
       "      <td>USA</td>\n",
       "      <td>CHN</td>\n",
       "      <td>193</td>\n",
       "      <td>20200416153000</td>\n",
       "      <td>39.9289</td>\n",
       "      <td>116.388</td>\n",
       "      <td>4</td>\n",
       "      <td>-3.011204</td>\n",
       "      <td>4</td>\n",
       "      <td>-10.0</td>\n",
       "      <td>4</td>\n",
       "      <td>https://www.japantimes.co.jp/2020/04/17/</td>\n",
       "    </tr>\n",
       "    <tr>\n",
       "      <th>3624</th>\n",
       "      <td>20200415</td>\n",
       "      <td>USA</td>\n",
       "      <td>CHN</td>\n",
       "      <td>1722</td>\n",
       "      <td>20200415201500</td>\n",
       "      <td>39.9289</td>\n",
       "      <td>116.388</td>\n",
       "      <td>8</td>\n",
       "      <td>-4.015296</td>\n",
       "      <td>4</td>\n",
       "      <td>-5.0</td>\n",
       "      <td>8</td>\n",
       "      <td>https://www.breitbart.com/the-media/2020/04/15...</td>\n",
       "    </tr>\n",
       "  </tbody>\n",
       "</table>\n",
       "<p>3625 rows × 13 columns</p>\n",
       "</div>"
      ],
      "text/plain": [
       "       SQLDATE Actor1Code Actor2Code  EventCode       DATEADDED  \\\n",
       "0     20200301        CHN        USA        256  20200301200000   \n",
       "1     20200302        CHN        USA        256  20200302000000   \n",
       "2     20200302        USA        CHN        192  20200302123000   \n",
       "3     20200302        CHN        USA         15  20200302174500   \n",
       "4     20200302        USA        CHN         15  20200302174500   \n",
       "...        ...        ...        ...        ...             ...   \n",
       "3620  20190416        USA        CHN        174  20200415184500   \n",
       "3621  20200416        USA        CHN        163  20200416081500   \n",
       "3622  20200416        CHN        USA        183  20200416190000   \n",
       "3623  20200317        USA        CHN        193  20200416153000   \n",
       "3624  20200415        USA        CHN       1722  20200415201500   \n",
       "\n",
       "      ActionGeo_Lat  ActionGeo_Long  NumMentions    AvgTone  QuadClass  \\\n",
       "0           35.0000         105.000            3  -2.698023          1   \n",
       "1           35.0000         105.000            6  -2.781947          1   \n",
       "2           35.0000         105.000            8  -0.351494          4   \n",
       "3           35.0000         105.000           10 -18.243243          1   \n",
       "4           35.0000         105.000            4 -18.243243          1   \n",
       "...             ...             ...          ...        ...        ...   \n",
       "3620        39.9289         116.388            2  -4.403048          4   \n",
       "3621        39.9289         116.388            1  -3.926097          4   \n",
       "3622        39.9289         116.388            2  -7.387863          4   \n",
       "3623        39.9289         116.388            4  -3.011204          4   \n",
       "3624        39.9289         116.388            8  -4.015296          4   \n",
       "\n",
       "      GoldsteinScale  NumArticles  \\\n",
       "0               -0.3            3   \n",
       "1               -0.3            6   \n",
       "2               -9.5            8   \n",
       "3                0.0           10   \n",
       "4                0.0            2   \n",
       "...              ...          ...   \n",
       "3620            -5.0            2   \n",
       "3621            -8.0            1   \n",
       "3622           -10.0            2   \n",
       "3623           -10.0            4   \n",
       "3624            -5.0            8   \n",
       "\n",
       "                                              SOURCEURL  \n",
       "0     http://www.wboc.com/story/41836455/virus-cases...  \n",
       "1     https://www.wiscnews.com/news/world/virus-acce...  \n",
       "2     https://www.thesundaily.my/opinion/birds-of-a-...  \n",
       "3     https://www.wwnytv.com/2020/03/02/robinson-ple...  \n",
       "4     https://www.wwnytv.com/2020/03/02/robinson-ple...  \n",
       "...                                                 ...  \n",
       "3620  https://thediplomat.com/2020/04/covid-19-will-...  \n",
       "3621  https://www.telegraph.co.uk/politics/2020/04/1...  \n",
       "3622  https://www.taipeitimes.com/News/world/archive...  \n",
       "3623           https://www.japantimes.co.jp/2020/04/17/  \n",
       "3624  https://www.breitbart.com/the-media/2020/04/15...  \n",
       "\n",
       "[3625 rows x 13 columns]"
      ]
     },
     "execution_count": 3,
     "metadata": {},
     "output_type": "execute_result"
    }
   ],
   "source": [
    "us_chn_data"
   ]
  },
  {
   "cell_type": "markdown",
   "metadata": {},
   "source": [
    "Aggregate by Dates"
   ]
  },
  {
   "cell_type": "code",
   "execution_count": 3,
   "metadata": {},
   "outputs": [],
   "source": [
    "new_data = us_chn_data.groupby('SQLDATE', as_index=False, sort=False)['GoldsteinScale'].mean()\n",
    "format_str = '%Y%m%d'\n",
    "new_data.SQLDATE = [datetime.strptime(str(x), format_str) for x in new_data.SQLDATE]\n",
    "goldstein = new_data[new_data.SQLDATE > datetime(2020,2,29)].sort_values(by=\"SQLDATE\")"
   ]
  },
  {
   "cell_type": "code",
   "execution_count": 4,
   "metadata": {},
   "outputs": [],
   "source": [
    "new_data = us_chn_data.groupby('SQLDATE', as_index=False, sort=False)['AvgTone'].mean()\n",
    "new_data.SQLDATE = [datetime.strptime(str(x), format_str) for x in new_data.SQLDATE]\n",
    "tone = new_data[new_data.SQLDATE > datetime(2020,2,29)].sort_values(by=\"SQLDATE\")"
   ]
  },
  {
   "cell_type": "code",
   "execution_count": 5,
   "metadata": {},
   "outputs": [],
   "source": [
    "total_data = pd.merge(tone, goldstein, on=\"SQLDATE\")\n",
    "total_data[\"SQLDATE\"] = pd.to_datetime(total_data[\"SQLDATE\"])"
   ]
  },
  {
   "cell_type": "code",
   "execution_count": 6,
   "metadata": {},
   "outputs": [
    {
     "data": {
      "text/html": [
       "<div>\n",
       "<style scoped>\n",
       "    .dataframe tbody tr th:only-of-type {\n",
       "        vertical-align: middle;\n",
       "    }\n",
       "\n",
       "    .dataframe tbody tr th {\n",
       "        vertical-align: top;\n",
       "    }\n",
       "\n",
       "    .dataframe thead th {\n",
       "        text-align: right;\n",
       "    }\n",
       "</style>\n",
       "<table border=\"1\" class=\"dataframe\">\n",
       "  <thead>\n",
       "    <tr style=\"text-align: right;\">\n",
       "      <th></th>\n",
       "      <th>SQLDATE</th>\n",
       "      <th>GoldsteinScale</th>\n",
       "    </tr>\n",
       "  </thead>\n",
       "  <tbody>\n",
       "    <tr>\n",
       "      <th>68</th>\n",
       "      <td>2020-04-25</td>\n",
       "      <td>1.159459</td>\n",
       "    </tr>\n",
       "    <tr>\n",
       "      <th>70</th>\n",
       "      <td>2020-04-26</td>\n",
       "      <td>1.585294</td>\n",
       "    </tr>\n",
       "    <tr>\n",
       "      <th>69</th>\n",
       "      <td>2020-04-27</td>\n",
       "      <td>0.615385</td>\n",
       "    </tr>\n",
       "    <tr>\n",
       "      <th>49</th>\n",
       "      <td>2020-04-28</td>\n",
       "      <td>-0.274026</td>\n",
       "    </tr>\n",
       "    <tr>\n",
       "      <th>50</th>\n",
       "      <td>2020-04-29</td>\n",
       "      <td>-2.288406</td>\n",
       "    </tr>\n",
       "  </tbody>\n",
       "</table>\n",
       "</div>"
      ],
      "text/plain": [
       "      SQLDATE  GoldsteinScale\n",
       "68 2020-04-25        1.159459\n",
       "70 2020-04-26        1.585294\n",
       "69 2020-04-27        0.615385\n",
       "49 2020-04-28       -0.274026\n",
       "50 2020-04-29       -2.288406"
      ]
     },
     "execution_count": 6,
     "metadata": {},
     "output_type": "execute_result"
    }
   ],
   "source": [
    "goldstein.tail()"
   ]
  },
  {
   "cell_type": "markdown",
   "metadata": {},
   "source": [
    "Calculate dow daily changes, and merge"
   ]
  },
  {
   "cell_type": "code",
   "execution_count": 7,
   "metadata": {},
   "outputs": [],
   "source": [
    "dow = pd.read_csv(\"dow.csv\")\n",
    "dow[\"Diff\"] = dow[\"Open\"] - dow[\"Close\"]\n",
    "dow[\"Date\"] = pd.to_datetime(dow[\"Date\"])"
   ]
  },
  {
   "cell_type": "code",
   "execution_count": 8,
   "metadata": {},
   "outputs": [
    {
     "data": {
      "text/html": [
       "<div>\n",
       "<style scoped>\n",
       "    .dataframe tbody tr th:only-of-type {\n",
       "        vertical-align: middle;\n",
       "    }\n",
       "\n",
       "    .dataframe tbody tr th {\n",
       "        vertical-align: top;\n",
       "    }\n",
       "\n",
       "    .dataframe thead th {\n",
       "        text-align: right;\n",
       "    }\n",
       "</style>\n",
       "<table border=\"1\" class=\"dataframe\">\n",
       "  <thead>\n",
       "    <tr style=\"text-align: right;\">\n",
       "      <th></th>\n",
       "      <th>SQLDATE</th>\n",
       "      <th>AvgTone</th>\n",
       "      <th>GoldsteinScale</th>\n",
       "      <th>Date</th>\n",
       "    </tr>\n",
       "  </thead>\n",
       "  <tbody>\n",
       "    <tr>\n",
       "      <th>0</th>\n",
       "      <td>2020-03-01</td>\n",
       "      <td>-2.669227</td>\n",
       "      <td>-1.296000</td>\n",
       "      <td>NaT</td>\n",
       "    </tr>\n",
       "    <tr>\n",
       "      <th>1</th>\n",
       "      <td>2020-03-02</td>\n",
       "      <td>-2.298869</td>\n",
       "      <td>-1.674000</td>\n",
       "      <td>2020-03-02</td>\n",
       "    </tr>\n",
       "    <tr>\n",
       "      <th>2</th>\n",
       "      <td>2020-03-03</td>\n",
       "      <td>-3.788864</td>\n",
       "      <td>-3.372414</td>\n",
       "      <td>2020-03-03</td>\n",
       "    </tr>\n",
       "    <tr>\n",
       "      <th>3</th>\n",
       "      <td>2020-03-04</td>\n",
       "      <td>-3.350338</td>\n",
       "      <td>-3.457692</td>\n",
       "      <td>2020-03-04</td>\n",
       "    </tr>\n",
       "    <tr>\n",
       "      <th>4</th>\n",
       "      <td>2020-03-05</td>\n",
       "      <td>-2.504286</td>\n",
       "      <td>0.081395</td>\n",
       "      <td>2020-03-05</td>\n",
       "    </tr>\n",
       "  </tbody>\n",
       "</table>\n",
       "</div>"
      ],
      "text/plain": [
       "     SQLDATE   AvgTone  GoldsteinScale       Date\n",
       "0 2020-03-01 -2.669227       -1.296000        NaT\n",
       "1 2020-03-02 -2.298869       -1.674000 2020-03-02\n",
       "2 2020-03-03 -3.788864       -3.372414 2020-03-03\n",
       "3 2020-03-04 -3.350338       -3.457692 2020-03-04\n",
       "4 2020-03-05 -2.504286        0.081395 2020-03-05"
      ]
     },
     "execution_count": 8,
     "metadata": {},
     "output_type": "execute_result"
    }
   ],
   "source": [
    "merging_data = pd.merge(total_data, dow[\"Date\"], how=\"left\", left_on=\"SQLDATE\", right_on=\"Date\")\n",
    "merging_data.head()"
   ]
  },
  {
   "cell_type": "markdown",
   "metadata": {},
   "source": [
    "Algorithm which merges weekend and any missing data into previous day figures"
   ]
  },
  {
   "cell_type": "code",
   "execution_count": 9,
   "metadata": {},
   "outputs": [],
   "source": [
    "def merge_column(df, cols):\n",
    "    new_df = pd.DataFrame()\n",
    "    date_match = df[\"Date\"]\n",
    "    fst_occurrence = np.where(pd.isnull(date_match))[0][0]\n",
    "    if fst_occurrence == 0:\n",
    "        true_fst_occurrence = date_match.first_valid_index()\n",
    "        df = df.iloc[true_fst_occurrence:]\n",
    "        date_match = df[\"Date\"]\n",
    "    \n",
    "    for i in cols:\n",
    "        col_value = df[i]\n",
    "        new_col = []\n",
    "        j = 0\n",
    "        while j < len(date_match):\n",
    "            n = 1\n",
    "            if (j+n) < len(date_match) and pd.isnull(date_match[j + n]):\n",
    "                total = col_value.iloc[j]\n",
    "                while (j+n) < len(date_match) and pd.isnull(date_match[j + n]):\n",
    "                    total = total + col_value.iloc[j + n]\n",
    "                    n = n + 1\n",
    "                new_col.append(total/n)\n",
    "            else:\n",
    "                new_col.append(col_value.iloc[j])\n",
    "    \n",
    "            j = j + n \n",
    "        \n",
    "        \n",
    "        new_df[i] = new_col\n",
    "\n",
    "    not_null = date_match[date_match.notnull()]\n",
    "    new_df[\"Date\"] = not_null.reset_index(drop=True)\n",
    "    \n",
    "    return new_df"
   ]
  },
  {
   "cell_type": "code",
   "execution_count": 10,
   "metadata": {},
   "outputs": [],
   "source": [
    "final_df = merge_column(merging_data, [\"GoldsteinScale\", \"AvgTone\"])"
   ]
  },
  {
   "cell_type": "code",
   "execution_count": 11,
   "metadata": {},
   "outputs": [],
   "source": [
    "final_df = pd.merge(final_df, dow, on=\"Date\")"
   ]
  },
  {
   "cell_type": "code",
   "execution_count": 12,
   "metadata": {},
   "outputs": [],
   "source": [
    "final_df.set_index('Date', inplace=True)"
   ]
  },
  {
   "cell_type": "code",
   "execution_count": 13,
   "metadata": {},
   "outputs": [],
   "source": [
    "final_df.drop([\"Open\", \"Close\", \"Low\", \"High\", \"Adj Close\", \"Volume\"], axis=1, inplace=True)"
   ]
  },
  {
   "cell_type": "markdown",
   "metadata": {},
   "source": [
    "Turn difference binary, 0 represents a fall, 1 represents a rise"
   ]
  },
  {
   "cell_type": "code",
   "execution_count": 14,
   "metadata": {},
   "outputs": [],
   "source": [
    "def func(x):\n",
    "    if x < 0:\n",
    "        return 0 \n",
    "    if x > 0:\n",
    "        return 1 \n",
    "    return 0"
   ]
  },
  {
   "cell_type": "code",
   "execution_count": 15,
   "metadata": {},
   "outputs": [],
   "source": [
    "final_df[\"Diff\"] = final_df[\"Diff\"].apply(func)"
   ]
  },
  {
   "cell_type": "code",
   "execution_count": 16,
   "metadata": {},
   "outputs": [
    {
     "data": {
      "text/plain": [
       "GoldsteinScale    float64\n",
       "AvgTone           float64\n",
       "Diff                int64\n",
       "dtype: object"
      ]
     },
     "execution_count": 16,
     "metadata": {},
     "output_type": "execute_result"
    }
   ],
   "source": [
    "final_df.dtypes"
   ]
  },
  {
   "cell_type": "code",
   "execution_count": 17,
   "metadata": {
    "scrolled": true
   },
   "outputs": [],
   "source": [
    "final_df.Diff = final_df.Diff.shift(-1)"
   ]
  },
  {
   "cell_type": "code",
   "execution_count": 18,
   "metadata": {},
   "outputs": [],
   "source": [
    "final_df.drop(final_df.tail(1).index, inplace=True)"
   ]
  },
  {
   "cell_type": "code",
   "execution_count": 19,
   "metadata": {},
   "outputs": [
    {
     "data": {
      "text/html": [
       "<div>\n",
       "<style scoped>\n",
       "    .dataframe tbody tr th:only-of-type {\n",
       "        vertical-align: middle;\n",
       "    }\n",
       "\n",
       "    .dataframe tbody tr th {\n",
       "        vertical-align: top;\n",
       "    }\n",
       "\n",
       "    .dataframe thead th {\n",
       "        text-align: right;\n",
       "    }\n",
       "</style>\n",
       "<table border=\"1\" class=\"dataframe\">\n",
       "  <thead>\n",
       "    <tr style=\"text-align: right;\">\n",
       "      <th></th>\n",
       "      <th>GoldsteinScale</th>\n",
       "      <th>AvgTone</th>\n",
       "      <th>Diff</th>\n",
       "    </tr>\n",
       "    <tr>\n",
       "      <th>Date</th>\n",
       "      <th></th>\n",
       "      <th></th>\n",
       "      <th></th>\n",
       "    </tr>\n",
       "  </thead>\n",
       "  <tbody>\n",
       "    <tr>\n",
       "      <th>2020-03-02</th>\n",
       "      <td>-1.674000</td>\n",
       "      <td>-2.298869</td>\n",
       "      <td>1.0</td>\n",
       "    </tr>\n",
       "    <tr>\n",
       "      <th>2020-03-03</th>\n",
       "      <td>-3.372414</td>\n",
       "      <td>-3.788864</td>\n",
       "      <td>0.0</td>\n",
       "    </tr>\n",
       "    <tr>\n",
       "      <th>2020-03-04</th>\n",
       "      <td>-3.457692</td>\n",
       "      <td>-3.350338</td>\n",
       "      <td>1.0</td>\n",
       "    </tr>\n",
       "    <tr>\n",
       "      <th>2020-03-05</th>\n",
       "      <td>0.081395</td>\n",
       "      <td>-2.504286</td>\n",
       "      <td>0.0</td>\n",
       "    </tr>\n",
       "    <tr>\n",
       "      <th>2020-03-06</th>\n",
       "      <td>-1.303922</td>\n",
       "      <td>-2.169450</td>\n",
       "      <td>1.0</td>\n",
       "    </tr>\n",
       "  </tbody>\n",
       "</table>\n",
       "</div>"
      ],
      "text/plain": [
       "            GoldsteinScale   AvgTone  Diff\n",
       "Date                                      \n",
       "2020-03-02       -1.674000 -2.298869   1.0\n",
       "2020-03-03       -3.372414 -3.788864   0.0\n",
       "2020-03-04       -3.457692 -3.350338   1.0\n",
       "2020-03-05        0.081395 -2.504286   0.0\n",
       "2020-03-06       -1.303922 -2.169450   1.0"
      ]
     },
     "execution_count": 19,
     "metadata": {},
     "output_type": "execute_result"
    }
   ],
   "source": [
    "final_df.head()"
   ]
  },
  {
   "cell_type": "markdown",
   "metadata": {},
   "source": [
    "## Classifiers"
   ]
  },
  {
   "cell_type": "code",
   "execution_count": 20,
   "metadata": {},
   "outputs": [],
   "source": [
    "from sklearn.model_selection import train_test_split\n",
    "from sklearn.metrics import r2_score, accuracy_score"
   ]
  },
  {
   "cell_type": "code",
   "execution_count": 21,
   "metadata": {},
   "outputs": [],
   "source": [
    "def split(final_df):\n",
    "    X = final_df.drop(\"Diff\", axis=1)\n",
    "    Y = final_df[\"Diff\"]\n",
    "    return train_test_split(X, Y, stratify=Y, random_state=42, test_size=0.2)"
   ]
  },
  {
   "cell_type": "code",
   "execution_count": 22,
   "metadata": {},
   "outputs": [],
   "source": [
    "from sklearn.linear_model import LogisticRegression\n",
    "from sklearn.ensemble import RandomForestClassifier\n",
    "from sklearn.naive_bayes import BernoulliNB\n",
    "from sklearn.svm import SVC"
   ]
  },
  {
   "cell_type": "code",
   "execution_count": 23,
   "metadata": {},
   "outputs": [],
   "source": [
    "random_state = 7\n",
    "\n",
    "def rf(X_train, X_test, Y_train, Y_test):\n",
    "    forest = RandomForestClassifier(random_state=random_state)\n",
    "    forest.fit(X_train, Y_train)\n",
    "    predict = forest.predict(X_test)\n",
    "    accuracy = accuracy_score(Y_test, predict)\n",
    "    print(accuracy)\n",
    "    return forest, accuracy\n",
    "\n",
    "def log(X_train, X_test, Y_train, Y_test):\n",
    "    log = LogisticRegression(random_state=random_state)\n",
    "    log.fit(X_train, Y_train)\n",
    "    predict = log.predict(X_test)\n",
    "    accuracy = accuracy_score(Y_test, predict)\n",
    "    print(accuracy)\n",
    "    return log, accuracy\n",
    "\n",
    "def nb(X_train, X_test, Y_train, Y_test):\n",
    "    regr = BernoulliNB()\n",
    "    regr.fit(X_train, Y_train)\n",
    "    predict = regr.predict(X_test)\n",
    "    accuracy = accuracy_score(Y_test, predict)\n",
    "    print(accuracy)\n",
    "    return regr, accuracy\n",
    "\n",
    "def svm(X_train, X_test, Y_train, Y_test):\n",
    "    svm = SVC(random_state=random_state)\n",
    "    svm.fit(X_train, Y_train)\n",
    "    predict = svm.predict(X_test)\n",
    "    accuracy = accuracy_score(Y_test, predict)\n",
    "    print(accuracy)\n",
    "    return svm, accuracy"
   ]
  },
  {
   "cell_type": "code",
   "execution_count": 24,
   "metadata": {},
   "outputs": [],
   "source": [
    "Results = []"
   ]
  },
  {
   "cell_type": "markdown",
   "metadata": {},
   "source": [
    "## No Smoothing"
   ]
  },
  {
   "cell_type": "code",
   "execution_count": 25,
   "metadata": {},
   "outputs": [
    {
     "name": "stdout",
     "output_type": "stream",
     "text": [
      "0.4444444444444444\n",
      "0.3333333333333333\n",
      "0.4444444444444444\n",
      "0.4444444444444444\n"
     ]
    }
   ],
   "source": [
    "copy_df = final_df.copy()\n",
    "X_train, X_test, Y_train, Y_test = split(copy_df) \n",
    "\n",
    "nb_clf, acc_nb_clf = nb(X_train, X_test, Y_train, Y_test)\n",
    "log_clf, acc_log_clf = log(X_train, X_test, Y_train, Y_test)\n",
    "rf_clf, acc_rf_clf = rf(X_train, X_test, Y_train, Y_test)\n",
    "svm_clf, acc_svm_clf = svm(X_train, X_test, Y_train, Y_test)"
   ]
  },
  {
   "cell_type": "code",
   "execution_count": 26,
   "metadata": {},
   "outputs": [],
   "source": [
    "copy_df[\"prev_day\"] = copy_df[\"Diff\"].shift(1)\n",
    "copy_df.dropna(inplace=True)"
   ]
  },
  {
   "cell_type": "code",
   "execution_count": 27,
   "metadata": {
    "scrolled": true
   },
   "outputs": [
    {
     "name": "stdout",
     "output_type": "stream",
     "text": [
      "0.75\n",
      "0.75\n",
      "0.625\n",
      "0.625\n"
     ]
    }
   ],
   "source": [
    "X_train, X_test, Y_train, Y_test = split(copy_df) \n",
    "\n",
    "nb_clf_p, acc_nb_clf_p = nb(X_train, X_test, Y_train, Y_test)\n",
    "log_clf_p, acc_log_clf_p = log(X_train, X_test, Y_train, Y_test)\n",
    "rf_clf_p, acc_rf_clf_p = rf(X_train, X_test, Y_train, Y_test)\n",
    "svm_clf_p, acc_svm_clf_p = svm(X_train, X_test, Y_train, Y_test)"
   ]
  },
  {
   "cell_type": "code",
   "execution_count": 28,
   "metadata": {},
   "outputs": [],
   "source": [
    "Results = Results + ([\n",
    "    (\"nb_clf_p\", nb_clf_p, acc_nb_clf_p), \n",
    "    (\"log_clf_p\", log_clf_p, acc_log_clf_p), \n",
    "    (\"rf_clf_p\", rf_clf_p, acc_rf_clf_p), \n",
    "    (\"svm_clf_p\", svm_clf_p, acc_svm_clf_p)\n",
    "])"
   ]
  },
  {
   "cell_type": "markdown",
   "metadata": {},
   "source": [
    "## Using average lag, so each day is weighted the same"
   ]
  },
  {
   "cell_type": "code",
   "execution_count": 29,
   "metadata": {},
   "outputs": [],
   "source": [
    "copy_df = final_df.copy()\n",
    "k=3\n",
    "copy_df.GoldsteinScale = copy_df[\"GoldsteinScale\"].rolling(k).mean()\n",
    "copy_df.AvgTone = copy_df[\"AvgTone\"].rolling(k).mean()\n",
    "copy_df.drop(final_df.head(k-1).index, inplace=True)"
   ]
  },
  {
   "cell_type": "code",
   "execution_count": 30,
   "metadata": {},
   "outputs": [
    {
     "name": "stdout",
     "output_type": "stream",
     "text": [
      "0.625\n",
      "0.25\n",
      "0.625\n",
      "0.5\n"
     ]
    }
   ],
   "source": [
    "X_train, X_test, Y_train, Y_test = split(copy_df) \n",
    "\n",
    "nb_clf_a, acc_nb_clf_a = nb(X_train, X_test, Y_train, Y_test)\n",
    "log_clf_a, acc_log_clf_a = log(X_train, X_test, Y_train, Y_test)\n",
    "rf_clf_a, acc_rf_clf_a = rf(X_train, X_test, Y_train, Y_test)\n",
    "svm_clf_a, acc_svm_clf_a = svm(X_train, X_test, Y_train, Y_test)"
   ]
  },
  {
   "cell_type": "code",
   "execution_count": 31,
   "metadata": {},
   "outputs": [],
   "source": [
    "copy_df[\"prev_day\"] = copy_df[\"Diff\"].shift(1)\n",
    "copy_df.dropna(inplace=True)"
   ]
  },
  {
   "cell_type": "code",
   "execution_count": 32,
   "metadata": {
    "scrolled": true
   },
   "outputs": [
    {
     "name": "stdout",
     "output_type": "stream",
     "text": [
      "0.625\n",
      "0.625\n",
      "0.75\n",
      "0.625\n"
     ]
    }
   ],
   "source": [
    "X_train, X_test, Y_train, Y_test = split(copy_df) \n",
    "\n",
    "a_nb_clf_p, acc_a_nb_clf_p = nb(X_train, X_test, Y_train, Y_test)\n",
    "a_log_clf_p, acc_a_log_clf_p = log(X_train, X_test, Y_train, Y_test)\n",
    "a_rf_clf_p, acc_a_rf_clf_p = rf(X_train, X_test, Y_train, Y_test)\n",
    "a_svm_clf_p, acc_a_svm_clf_p = svm(X_train, X_test, Y_train, Y_test)"
   ]
  },
  {
   "cell_type": "code",
   "execution_count": 33,
   "metadata": {},
   "outputs": [],
   "source": [
    "Results = Results + ([\n",
    "\n",
    "(\"a_nb_clf_p\", a_nb_clf_p, acc_a_nb_clf_p),\n",
    "(\"a_log_clf_p\", a_log_clf_p, acc_a_log_clf_p),\n",
    "(\"a_rf_clf_p\", a_rf_clf_p, acc_a_rf_clf_p),\n",
    "(\"a_svm_clf_p\", a_svm_clf_p, acc_a_svm_clf_p)\n",
    "\n",
    "]) "
   ]
  },
  {
   "cell_type": "markdown",
   "metadata": {},
   "source": [
    "## Using Gaussian smoothing so effect of x days is prevalent, but not the same"
   ]
  },
  {
   "cell_type": "code",
   "execution_count": 34,
   "metadata": {},
   "outputs": [],
   "source": [
    "from scipy.stats import norm\n",
    "import math\n",
    "\n",
    "def half_gaussian_convolution(input):\n",
    "    normal_weighting = norm.pdf(np.array(range(-len(input) + 1, 1)), scale=(len(input) - 1) / 1.6448536269514722)\n",
    "    normal_weighting = normal_weighting / np.sum(normal_weighting)\n",
    "    return np.sum(normal_weighting * input)\n"
   ]
  },
  {
   "cell_type": "code",
   "execution_count": 35,
   "metadata": {},
   "outputs": [],
   "source": [
    "k=3 \n",
    "gauss_df = final_df.copy()\n",
    "gauss_df.GoldsteinScale = gauss_df[\"GoldsteinScale\"].rolling(k).apply(func=half_gaussian_convolution)\n",
    "gauss_df.AvgTone = gauss_df[\"AvgTone\"].rolling(k).apply(func=half_gaussian_convolution)\n",
    "gauss_df.dropna(inplace=True)"
   ]
  },
  {
   "cell_type": "code",
   "execution_count": 36,
   "metadata": {},
   "outputs": [
    {
     "name": "stdout",
     "output_type": "stream",
     "text": [
      "0.375\n",
      "0.25\n",
      "0.625\n",
      "0.5\n"
     ]
    }
   ],
   "source": [
    "X_train, X_test, Y_train, Y_test = split(gauss_df) \n",
    "\n",
    "nb_clf_g, acc_nb_clf_g = nb(X_train, X_test, Y_train, Y_test)\n",
    "log_clf_g, acc_log_clf_g = log(X_train, X_test, Y_train, Y_test)\n",
    "rf_clf_g, acc_rf_clf_g = rf(X_train, X_test, Y_train, Y_test)\n",
    "svm_clf_g, acc_svm_clf_g = svm(X_train, X_test, Y_train, Y_test)"
   ]
  },
  {
   "cell_type": "code",
   "execution_count": 37,
   "metadata": {},
   "outputs": [],
   "source": [
    "gauss_df[\"prev_day\"] = gauss_df[\"Diff\"].shift(1)\n",
    "gauss_df.dropna(inplace=True)"
   ]
  },
  {
   "cell_type": "code",
   "execution_count": 38,
   "metadata": {},
   "outputs": [
    {
     "name": "stdout",
     "output_type": "stream",
     "text": [
      "0.625\n",
      "0.625\n",
      "0.75\n",
      "0.625\n"
     ]
    }
   ],
   "source": [
    "X_train, X_test, Y_train, Y_test = split(gauss_df) \n",
    "\n",
    "g_nb_clf_p, acc_g_nb_clf_p = nb(X_train, X_test, Y_train, Y_test)\n",
    "g_log_clf_p, acc_g_log_clf_p = log(X_train, X_test, Y_train, Y_test)\n",
    "g_rf_clf_p, acc_g_rf_clf_p = rf(X_train, X_test, Y_train, Y_test)\n",
    "g_svm_clf_p, acc_g_svm_clf_p = svm(X_train, X_test, Y_train, Y_test)"
   ]
  },
  {
   "cell_type": "code",
   "execution_count": 39,
   "metadata": {},
   "outputs": [],
   "source": [
    "Results = Results + ([\n",
    "\n",
    "(\"g_nb_clf_p\", g_nb_clf_p, acc_g_nb_clf_p),\n",
    "(\"g_log_clf_p\", g_log_clf_p, acc_g_log_clf_p),\n",
    "(\"g_rf_clf_p\", g_rf_clf_p, acc_g_rf_clf_p),\n",
    "(\"g_svm_clf_p\", g_svm_clf_p, acc_g_svm_clf_p)\n",
    "\n",
    "]) "
   ]
  },
  {
   "cell_type": "markdown",
   "metadata": {},
   "source": [
    "## Exponential Smoothing"
   ]
  },
  {
   "cell_type": "code",
   "execution_count": 40,
   "metadata": {},
   "outputs": [],
   "source": [
    "from statsmodels.tsa.api import ExponentialSmoothing, SimpleExpSmoothing, Holt"
   ]
  },
  {
   "cell_type": "code",
   "execution_count": 41,
   "metadata": {},
   "outputs": [],
   "source": [
    "exp_smooth = final_df.copy()"
   ]
  },
  {
   "cell_type": "code",
   "execution_count": 42,
   "metadata": {},
   "outputs": [],
   "source": [
    "exp_smooth.GoldsteinScale = exp_smooth.GoldsteinScale.ewm(span=3).mean()\n",
    "exp_smooth.AvgTone = exp_smooth.AvgTone.ewm(span=3).mean()"
   ]
  },
  {
   "cell_type": "code",
   "execution_count": 43,
   "metadata": {},
   "outputs": [
    {
     "name": "stdout",
     "output_type": "stream",
     "text": [
      "0.4444444444444444\n",
      "0.4444444444444444\n",
      "0.2222222222222222\n",
      "0.4444444444444444\n"
     ]
    }
   ],
   "source": [
    "X_train, X_test, Y_train, Y_test = split(exp_smooth) \n",
    "\n",
    "nb_clf_e, acc_nb_clf_e = nb(X_train, X_test, Y_train, Y_test)\n",
    "log_clf_e, acc_log_clf_e = log(X_train, X_test, Y_train, Y_test)\n",
    "rf_clf_e, acc_rf_clf_e = rf(X_train, X_test, Y_train, Y_test)\n",
    "svm_clf_e, acc_svm_clf_e = svm(X_train, X_test, Y_train, Y_test)"
   ]
  },
  {
   "cell_type": "code",
   "execution_count": 44,
   "metadata": {},
   "outputs": [],
   "source": [
    "exp_smooth[\"prev_day\"] = exp_smooth[\"Diff\"].shift(1)\n",
    "exp_smooth.dropna(inplace=True)"
   ]
  },
  {
   "cell_type": "code",
   "execution_count": 45,
   "metadata": {},
   "outputs": [
    {
     "name": "stdout",
     "output_type": "stream",
     "text": [
      "0.75\n",
      "0.75\n",
      "0.75\n",
      "0.625\n"
     ]
    }
   ],
   "source": [
    "X_train, X_test, Y_train, Y_test = split(exp_smooth) \n",
    "\n",
    "e_nb_clf_p, acc_e_nb_clf_p = nb(X_train, X_test, Y_train, Y_test)\n",
    "e_log_clf_p, acc_e_log_clf_p = log(X_train, X_test, Y_train, Y_test)\n",
    "e_rf_clf_p, acc_e_rf_clf_p = rf(X_train, X_test, Y_train, Y_test)\n",
    "e_svm_clf_p, acc_e_svm_clf_p = svm(X_train, X_test, Y_train, Y_test)"
   ]
  },
  {
   "cell_type": "code",
   "execution_count": 46,
   "metadata": {},
   "outputs": [],
   "source": [
    "Results = Results + ([\n",
    "\n",
    "(\"e_nb_clf_p\", e_nb_clf_p, acc_e_nb_clf_p),\n",
    "(\"e_log_clf_p\", e_log_clf_p, acc_e_log_clf_p),\n",
    "(\"e_rf_clf_p\", e_rf_clf_p, acc_e_rf_clf_p),\n",
    "(\"e_svm_clf_p\", e_svm_clf_p, acc_e_svm_clf_p)\n",
    "\n",
    "])"
   ]
  },
  {
   "cell_type": "markdown",
   "metadata": {},
   "source": [
    "## Neural Net"
   ]
  },
  {
   "cell_type": "code",
   "execution_count": 48,
   "metadata": {},
   "outputs": [],
   "source": [
    "import tensorflow as tf\n",
    "from tensorflow import keras"
   ]
  },
  {
   "cell_type": "code",
   "execution_count": 49,
   "metadata": {},
   "outputs": [],
   "source": [
    "from tensorflow.keras.layers import *"
   ]
  },
  {
   "cell_type": "code",
   "execution_count": 176,
   "metadata": {},
   "outputs": [],
   "source": [
    "tf.random.set_seed(42)"
   ]
  },
  {
   "cell_type": "code",
   "execution_count": 177,
   "metadata": {},
   "outputs": [],
   "source": [
    "nn_df = final_df.copy()"
   ]
  },
  {
   "cell_type": "code",
   "execution_count": 178,
   "metadata": {},
   "outputs": [],
   "source": [
    "nn_df[\"Diff\"] = [int(i) for i in nn_df[\"Diff\"]]"
   ]
  },
  {
   "cell_type": "code",
   "execution_count": 179,
   "metadata": {},
   "outputs": [],
   "source": [
    "nn_df[\"prev_day\"] = nn_df[\"Diff\"].shift(1)\n",
    "nn_df.dropna(inplace=True)"
   ]
  },
  {
   "cell_type": "code",
   "execution_count": 180,
   "metadata": {},
   "outputs": [],
   "source": [
    "X_train, X_test, Y_train, Y_test = split(nn_df) "
   ]
  },
  {
   "cell_type": "code",
   "execution_count": 181,
   "metadata": {},
   "outputs": [],
   "source": [
    "model = keras.Sequential()"
   ]
  },
  {
   "cell_type": "code",
   "execution_count": null,
   "metadata": {
    "scrolled": true
   },
   "outputs": [],
   "source": [
    "model.add(keras.layers.Input(shape=X_train.shape[1:]))\n",
    "model.add(keras.layers.Dense(128, activation='relu'))\n",
    "model.add(keras.layers.Dense(128, activation='relu'))\n",
    "model.add(keras.layers.Dense(1, activation='sigmoid'))"
   ]
  },
  {
   "cell_type": "code",
   "execution_count": null,
   "metadata": {},
   "outputs": [],
   "source": [
    "model.summary()"
   ]
  },
  {
   "cell_type": "code",
   "execution_count": null,
   "metadata": {},
   "outputs": [],
   "source": [
    "from tensorflow.keras.optimizers import *"
   ]
  },
  {
   "cell_type": "code",
   "execution_count": null,
   "metadata": {},
   "outputs": [],
   "source": [
    "model.compile(\n",
    "    optimizer=keras.optimizers.SGD(),\n",
    "    loss=keras.losses.BinaryCrossentropy(),\n",
    "    metrics=[\"accuracy\"],\n",
    ")"
   ]
  },
  {
   "cell_type": "code",
   "execution_count": null,
   "metadata": {},
   "outputs": [],
   "source": [
    "history = model.fit(\n",
    "    X_train,\n",
    "    Y_train,\n",
    "    epochs=30,\n",
    "    verbose=0,\n",
    "#     validation_data=(X_test, Y_test),\n",
    ")"
   ]
  },
  {
   "cell_type": "code",
   "execution_count": null,
   "metadata": {},
   "outputs": [],
   "source": [
    "model.evaluate(X_test, Y_test)"
   ]
  },
  {
   "cell_type": "code",
   "execution_count": null,
   "metadata": {},
   "outputs": [],
   "source": [
    "Results.append((\"nn\", model, 0.5))"
   ]
  },
  {
   "cell_type": "markdown",
   "metadata": {},
   "source": [
    "## Manual Lagging"
   ]
  },
  {
   "cell_type": "code",
   "execution_count": 47,
   "metadata": {},
   "outputs": [],
   "source": [
    "man_lag = final_df.copy()\n",
    "\n",
    "for i in [\"GoldsteinScale\", \"AvgTone\"]:\n",
    "    for j in range(1,5):\n",
    "        man_lag[i + str(j)] = man_lag[i].shift(j)"
   ]
  },
  {
   "cell_type": "code",
   "execution_count": 48,
   "metadata": {},
   "outputs": [],
   "source": [
    "man_lag.dropna(inplace=True)"
   ]
  },
  {
   "cell_type": "code",
   "execution_count": 49,
   "metadata": {},
   "outputs": [],
   "source": [
    "from statsmodels.regression.linear_model import OLS"
   ]
  },
  {
   "cell_type": "code",
   "execution_count": 50,
   "metadata": {},
   "outputs": [
    {
     "name": "stdout",
     "output_type": "stream",
     "text": [
      "0.375\n",
      "0.25\n",
      "0.375\n",
      "0.375\n"
     ]
    }
   ],
   "source": [
    "X_train, X_test, Y_train, Y_test = split(man_lag) \n",
    "\n",
    "nb_clf_man, acc_nb_clf_man = nb(X_train, X_test, Y_train, Y_test)\n",
    "log_clf_man, acc_log_clf_man = log(X_train, X_test, Y_train, Y_test)\n",
    "rf_clf_man, acc_rf_clf_man = rf(X_train, X_test, Y_train, Y_test)\n",
    "svm_clf_man, acc_svm_clf_man = svm(X_train, X_test, Y_train, Y_test)"
   ]
  },
  {
   "cell_type": "code",
   "execution_count": 51,
   "metadata": {},
   "outputs": [],
   "source": [
    "man_lag[\"prev_day\"] = man_lag[\"Diff\"].shift(1)\n",
    "man_lag.dropna(inplace=True)"
   ]
  },
  {
   "cell_type": "code",
   "execution_count": 52,
   "metadata": {},
   "outputs": [
    {
     "name": "stdout",
     "output_type": "stream",
     "text": [
      "0.5\n",
      "0.5\n",
      "0.625\n",
      "0.375\n"
     ]
    }
   ],
   "source": [
    "X_train, X_test, Y_train, Y_test = split(man_lag) \n",
    "\n",
    "man_nb_clf_p, acc_man_nb_clf_p = nb(X_train, X_test, Y_train, Y_test)\n",
    "man_log_clf_p, acc_man_log_clf_p = log(X_train, X_test, Y_train, Y_test)\n",
    "man_rf_clf_p, acc_man_rf_clf_p = rf(X_train, X_test, Y_train, Y_test)\n",
    "man_svm_clf_p, acc_man_svm_clf_p = svm(X_train, X_test, Y_train, Y_test)"
   ]
  },
  {
   "cell_type": "code",
   "execution_count": 53,
   "metadata": {},
   "outputs": [],
   "source": [
    "Results = Results + ([\n",
    "\n",
    "(\"man_nb_clf_p\", man_nb_clf_p, acc_man_nb_clf_p),\n",
    "(\"man_log_clf_p\", man_log_clf_p, acc_man_log_clf_p),\n",
    "(\"man_rf_clf_p\", man_rf_clf_p, acc_man_rf_clf_p),\n",
    "(\"man_svm_clf_p\", man_svm_clf_p, acc_man_svm_clf_p)\n",
    "\n",
    "])\n"
   ]
  },
  {
   "cell_type": "markdown",
   "metadata": {},
   "source": [
    "## OLS"
   ]
  },
  {
   "cell_type": "code",
   "execution_count": 57,
   "metadata": {
    "scrolled": true
   },
   "outputs": [],
   "source": [
    "ols = OLS(Y_train, X_train)"
   ]
  },
  {
   "cell_type": "code",
   "execution_count": 58,
   "metadata": {},
   "outputs": [],
   "source": [
    "res = ols.fit()"
   ]
  },
  {
   "cell_type": "code",
   "execution_count": 59,
   "metadata": {},
   "outputs": [
    {
     "data": {
      "text/plain": [
       "GoldsteinScale    -0.051478\n",
       "AvgTone           -0.255230\n",
       "GoldsteinScale1   -0.057975\n",
       "GoldsteinScale2   -0.006400\n",
       "GoldsteinScale3    0.094149\n",
       "GoldsteinScale4    0.018423\n",
       "AvgTone1           0.311692\n",
       "AvgTone2          -0.099537\n",
       "AvgTone3          -0.336495\n",
       "AvgTone4           0.156176\n",
       "prev_day          -0.575584\n",
       "dtype: float64"
      ]
     },
     "execution_count": 59,
     "metadata": {},
     "output_type": "execute_result"
    }
   ],
   "source": [
    "res.params"
   ]
  },
  {
   "cell_type": "code",
   "execution_count": 60,
   "metadata": {},
   "outputs": [
    {
     "data": {
      "text/html": [
       "<table class=\"simpletable\">\n",
       "<caption>OLS Regression Results</caption>\n",
       "<tr>\n",
       "  <th>Dep. Variable:</th>          <td>Diff</td>       <th>  R-squared (uncentered):</th>      <td>   0.735</td>\n",
       "</tr>\n",
       "<tr>\n",
       "  <th>Model:</th>                   <td>OLS</td>       <th>  Adj. R-squared (uncentered):</th> <td>   0.563</td>\n",
       "</tr>\n",
       "<tr>\n",
       "  <th>Method:</th>             <td>Least Squares</td>  <th>  F-statistic:       </th>          <td>   4.280</td>\n",
       "</tr>\n",
       "<tr>\n",
       "  <th>Date:</th>             <td>Sun, 09 Aug 2020</td> <th>  Prob (F-statistic):</th>           <td>0.00375</td>\n",
       "</tr>\n",
       "<tr>\n",
       "  <th>Time:</th>                 <td>17:10:16</td>     <th>  Log-Likelihood:    </th>          <td> -11.449</td>\n",
       "</tr>\n",
       "<tr>\n",
       "  <th>No. Observations:</th>      <td>    28</td>      <th>  AIC:               </th>          <td>   44.90</td>\n",
       "</tr>\n",
       "<tr>\n",
       "  <th>Df Residuals:</th>          <td>    17</td>      <th>  BIC:               </th>          <td>   59.55</td>\n",
       "</tr>\n",
       "<tr>\n",
       "  <th>Df Model:</th>              <td>    11</td>      <th>                     </th>              <td> </td>   \n",
       "</tr>\n",
       "<tr>\n",
       "  <th>Covariance Type:</th>      <td>nonrobust</td>    <th>                     </th>              <td> </td>   \n",
       "</tr>\n",
       "</table>\n",
       "<table class=\"simpletable\">\n",
       "<tr>\n",
       "         <td></td>            <th>coef</th>     <th>std err</th>      <th>t</th>      <th>P>|t|</th>  <th>[0.025</th>    <th>0.975]</th>  \n",
       "</tr>\n",
       "<tr>\n",
       "  <th>GoldsteinScale</th>  <td>   -0.0515</td> <td>    0.115</td> <td>   -0.446</td> <td> 0.661</td> <td>   -0.295</td> <td>    0.192</td>\n",
       "</tr>\n",
       "<tr>\n",
       "  <th>AvgTone</th>         <td>   -0.2552</td> <td>    0.190</td> <td>   -1.345</td> <td> 0.196</td> <td>   -0.656</td> <td>    0.145</td>\n",
       "</tr>\n",
       "<tr>\n",
       "  <th>GoldsteinScale1</th> <td>   -0.0580</td> <td>    0.100</td> <td>   -0.578</td> <td> 0.571</td> <td>   -0.270</td> <td>    0.154</td>\n",
       "</tr>\n",
       "<tr>\n",
       "  <th>GoldsteinScale2</th> <td>   -0.0064</td> <td>    0.107</td> <td>   -0.060</td> <td> 0.953</td> <td>   -0.233</td> <td>    0.220</td>\n",
       "</tr>\n",
       "<tr>\n",
       "  <th>GoldsteinScale3</th> <td>    0.0941</td> <td>    0.098</td> <td>    0.956</td> <td> 0.352</td> <td>   -0.114</td> <td>    0.302</td>\n",
       "</tr>\n",
       "<tr>\n",
       "  <th>GoldsteinScale4</th> <td>    0.0184</td> <td>    0.097</td> <td>    0.191</td> <td> 0.851</td> <td>   -0.185</td> <td>    0.222</td>\n",
       "</tr>\n",
       "<tr>\n",
       "  <th>AvgTone1</th>        <td>    0.3117</td> <td>    0.223</td> <td>    1.396</td> <td> 0.181</td> <td>   -0.159</td> <td>    0.783</td>\n",
       "</tr>\n",
       "<tr>\n",
       "  <th>AvgTone2</th>        <td>   -0.0995</td> <td>    0.212</td> <td>   -0.470</td> <td> 0.644</td> <td>   -0.546</td> <td>    0.347</td>\n",
       "</tr>\n",
       "<tr>\n",
       "  <th>AvgTone3</th>        <td>   -0.3365</td> <td>    0.218</td> <td>   -1.543</td> <td> 0.141</td> <td>   -0.797</td> <td>    0.124</td>\n",
       "</tr>\n",
       "<tr>\n",
       "  <th>AvgTone4</th>        <td>    0.1562</td> <td>    0.175</td> <td>    0.893</td> <td> 0.385</td> <td>   -0.213</td> <td>    0.525</td>\n",
       "</tr>\n",
       "<tr>\n",
       "  <th>prev_day</th>        <td>   -0.5756</td> <td>    0.196</td> <td>   -2.931</td> <td> 0.009</td> <td>   -0.990</td> <td>   -0.161</td>\n",
       "</tr>\n",
       "</table>\n",
       "<table class=\"simpletable\">\n",
       "<tr>\n",
       "  <th>Omnibus:</th>       <td> 0.557</td> <th>  Durbin-Watson:     </th> <td>   1.789</td>\n",
       "</tr>\n",
       "<tr>\n",
       "  <th>Prob(Omnibus):</th> <td> 0.757</td> <th>  Jarque-Bera (JB):  </th> <td>   0.537</td>\n",
       "</tr>\n",
       "<tr>\n",
       "  <th>Skew:</th>          <td>-0.296</td> <th>  Prob(JB):          </th> <td>   0.764</td>\n",
       "</tr>\n",
       "<tr>\n",
       "  <th>Kurtosis:</th>      <td> 2.667</td> <th>  Cond. No.          </th> <td>    26.5</td>\n",
       "</tr>\n",
       "</table><br/><br/>Warnings:<br/>[1] Standard Errors assume that the covariance matrix of the errors is correctly specified."
      ],
      "text/plain": [
       "<class 'statsmodels.iolib.summary.Summary'>\n",
       "\"\"\"\n",
       "                                 OLS Regression Results                                \n",
       "=======================================================================================\n",
       "Dep. Variable:                   Diff   R-squared (uncentered):                   0.735\n",
       "Model:                            OLS   Adj. R-squared (uncentered):              0.563\n",
       "Method:                 Least Squares   F-statistic:                              4.280\n",
       "Date:                Sun, 09 Aug 2020   Prob (F-statistic):                     0.00375\n",
       "Time:                        17:10:16   Log-Likelihood:                         -11.449\n",
       "No. Observations:                  28   AIC:                                      44.90\n",
       "Df Residuals:                      17   BIC:                                      59.55\n",
       "Df Model:                          11                                                  \n",
       "Covariance Type:            nonrobust                                                  \n",
       "===================================================================================\n",
       "                      coef    std err          t      P>|t|      [0.025      0.975]\n",
       "-----------------------------------------------------------------------------------\n",
       "GoldsteinScale     -0.0515      0.115     -0.446      0.661      -0.295       0.192\n",
       "AvgTone            -0.2552      0.190     -1.345      0.196      -0.656       0.145\n",
       "GoldsteinScale1    -0.0580      0.100     -0.578      0.571      -0.270       0.154\n",
       "GoldsteinScale2    -0.0064      0.107     -0.060      0.953      -0.233       0.220\n",
       "GoldsteinScale3     0.0941      0.098      0.956      0.352      -0.114       0.302\n",
       "GoldsteinScale4     0.0184      0.097      0.191      0.851      -0.185       0.222\n",
       "AvgTone1            0.3117      0.223      1.396      0.181      -0.159       0.783\n",
       "AvgTone2           -0.0995      0.212     -0.470      0.644      -0.546       0.347\n",
       "AvgTone3           -0.3365      0.218     -1.543      0.141      -0.797       0.124\n",
       "AvgTone4            0.1562      0.175      0.893      0.385      -0.213       0.525\n",
       "prev_day           -0.5756      0.196     -2.931      0.009      -0.990      -0.161\n",
       "==============================================================================\n",
       "Omnibus:                        0.557   Durbin-Watson:                   1.789\n",
       "Prob(Omnibus):                  0.757   Jarque-Bera (JB):                0.537\n",
       "Skew:                          -0.296   Prob(JB):                        0.764\n",
       "Kurtosis:                       2.667   Cond. No.                         26.5\n",
       "==============================================================================\n",
       "\n",
       "Warnings:\n",
       "[1] Standard Errors assume that the covariance matrix of the errors is correctly specified.\n",
       "\"\"\""
      ]
     },
     "execution_count": 60,
     "metadata": {},
     "output_type": "execute_result"
    }
   ],
   "source": [
    "res.summary()"
   ]
  },
  {
   "cell_type": "code",
   "execution_count": 61,
   "metadata": {},
   "outputs": [
    {
     "data": {
      "text/plain": [
       "Date\n",
       "2020-04-15    0.475883\n",
       "2020-03-11   -0.490553\n",
       "2020-03-27    0.031453\n",
       "2020-04-07    0.563550\n",
       "2020-04-21    0.417322\n",
       "2020-03-20    0.353223\n",
       "2020-03-25    1.172797\n",
       "2020-04-09    0.513153\n",
       "dtype: float64"
      ]
     },
     "execution_count": 61,
     "metadata": {},
     "output_type": "execute_result"
    }
   ],
   "source": [
    "res.predict(X_test)"
   ]
  },
  {
   "cell_type": "code",
   "execution_count": null,
   "metadata": {},
   "outputs": [],
   "source": [
    "Y_test"
   ]
  },
  {
   "cell_type": "markdown",
   "metadata": {},
   "source": [
    "## Calculating the Best Model"
   ]
  },
  {
   "cell_type": "code",
   "execution_count": 54,
   "metadata": {},
   "outputs": [],
   "source": [
    "sort = sorted(Results, key=lambda x: x[2], reverse=True)"
   ]
  },
  {
   "cell_type": "code",
   "execution_count": 55,
   "metadata": {},
   "outputs": [
    {
     "data": {
      "text/plain": [
       "[0.75,\n",
       " 0.75,\n",
       " 0.75,\n",
       " 0.75,\n",
       " 0.75,\n",
       " 0.75,\n",
       " 0.75,\n",
       " 0.625,\n",
       " 0.625,\n",
       " 0.625,\n",
       " 0.625,\n",
       " 0.625,\n",
       " 0.625,\n",
       " 0.625,\n",
       " 0.625,\n",
       " 0.625,\n",
       " 0.625,\n",
       " 0.5,\n",
       " 0.5,\n",
       " 0.375]"
      ]
     },
     "execution_count": 55,
     "metadata": {},
     "output_type": "execute_result"
    }
   ],
   "source": [
    "[i[2] for i in sort]"
   ]
  },
  {
   "cell_type": "markdown",
   "metadata": {},
   "source": [
    "sort = sort[0:6]"
   ]
  },
  {
   "cell_type": "code",
   "execution_count": 56,
   "metadata": {},
   "outputs": [
    {
     "data": {
      "text/plain": [
       "['nb_clf_p',\n",
       " 'log_clf_p',\n",
       " 'a_rf_clf_p',\n",
       " 'g_rf_clf_p',\n",
       " 'e_nb_clf_p',\n",
       " 'e_log_clf_p',\n",
       " 'e_rf_clf_p']"
      ]
     },
     "execution_count": 56,
     "metadata": {},
     "output_type": "execute_result"
    }
   ],
   "source": [
    "[i[0] for i in sort[0:7]]"
   ]
  },
  {
   "cell_type": "markdown",
   "metadata": {},
   "source": [
    "I pick the exponentially smoothed random forest. Random forests did well in all examples, and if the results are tied (although on a tiny sample size) I will pick the classifier with the best overall result"
   ]
  },
  {
   "cell_type": "code",
   "execution_count": 57,
   "metadata": {},
   "outputs": [],
   "source": [
    "results = pd.DataFrame([(str(i[0]), i[2]) for i in sort], columns=['Classifier', 'Accuracy',])"
   ]
  },
  {
   "cell_type": "code",
   "execution_count": 58,
   "metadata": {},
   "outputs": [],
   "source": [
    "results.Classifier = results.Classifier.str.replace(\"_clf_p\", \"\")\n",
    "results.Classifier = results.Classifier.str.replace(\"a_\", \"Averaged \")\n",
    "results.Classifier = results.Classifier.str.replace(\"g_\", \"Gaussian Averaged \")\n",
    "results.Classifier = results.Classifier.str.replace(\"e_\", \"Exponential \")\n",
    "results.Classifier = results.Classifier.str.replace(\"man_\", \"Manually 4 day lagged \")\n",
    "\n",
    "\n",
    "results.Classifier = results.Classifier.str.replace(\"nb\", \"Naive Bayes\")\n",
    "results.Classifier = results.Classifier.str.replace(\"rf\", \"Random Forests\")\n",
    "results.Classifier = results.Classifier.str.replace(\"log\", \"Logistic Regression\")\n",
    "results.Classifier = results.Classifier.str.replace(\"svm\", \"Support Vector Machine\")"
   ]
  },
  {
   "cell_type": "code",
   "execution_count": 59,
   "metadata": {},
   "outputs": [],
   "source": [
    "results = results.sort_values('Accuracy', ascending=False)"
   ]
  },
  {
   "cell_type": "code",
   "execution_count": 60,
   "metadata": {},
   "outputs": [
    {
     "name": "stdout",
     "output_type": "stream",
     "text": [
      "\\begin{tabular}{lr}\n",
      "\\toprule\n",
      "                                   Classifier &  Accuracy \\\\\n",
      "\\midrule\n",
      "                                  Naive Bayes &     0.750 \\\\\n",
      "                      Averaged Random Forests &     0.750 \\\\\n",
      "             Gaussian Averaged Random Forests &     0.750 \\\\\n",
      "                      Exponential Naive Bayes &     0.750 \\\\\n",
      "              Exponential Logistic Regression &     0.750 \\\\\n",
      "                   Exponential Random Forests &     0.750 \\\\\n",
      "                          Logistic Regression &     0.750 \\\\\n",
      "                Gaussian Averaged Naive Bayes &     0.625 \\\\\n",
      "         Manually 4 day lagged Random Forests &     0.625 \\\\\n",
      "           Exponential Support Vector Machine &     0.625 \\\\\n",
      "     Gaussian Averaged Support Vector Machine &     0.625 \\\\\n",
      "        Gaussian Averaged Logistic Regression &     0.625 \\\\\n",
      "                 Averaged Logistic Regression &     0.625 \\\\\n",
      "              Averaged Support Vector Machine &     0.625 \\\\\n",
      "                         Averaged Naive Bayes &     0.625 \\\\\n",
      "                       Support Vector Machine &     0.625 \\\\\n",
      "                               Random Forests &     0.625 \\\\\n",
      "            Manually 4 day lagged Naive Bayes &     0.500 \\\\\n",
      "    Manually 4 day lagged Logistic Regression &     0.500 \\\\\n",
      " Manually 4 day lagged Support Vector Machine &     0.375 \\\\\n",
      "\\bottomrule\n",
      "\\end{tabular}\n",
      "\n"
     ]
    },
    {
     "data": {
      "text/plain": [
       "(None,)"
      ]
     },
     "execution_count": 60,
     "metadata": {},
     "output_type": "execute_result"
    }
   ],
   "source": [
    "print(results.to_latex(index=False)),"
   ]
  },
  {
   "cell_type": "code",
   "execution_count": 61,
   "metadata": {},
   "outputs": [],
   "source": [
    "best_model = e_rf_clf_p"
   ]
  },
  {
   "cell_type": "markdown",
   "metadata": {},
   "source": [
    "## Hyperparam tuning"
   ]
  },
  {
   "cell_type": "markdown",
   "metadata": {},
   "source": [
    "This didn't improve the result thus it was left"
   ]
  },
  {
   "cell_type": "code",
   "execution_count": 149,
   "metadata": {},
   "outputs": [
    {
     "data": {
      "text/plain": [
       "{'n_estimators': [10,\n",
       "  20,\n",
       "  30,\n",
       "  40,\n",
       "  50,\n",
       "  60,\n",
       "  70,\n",
       "  80,\n",
       "  90,\n",
       "  100,\n",
       "  110,\n",
       "  120,\n",
       "  130,\n",
       "  140,\n",
       "  150,\n",
       "  160,\n",
       "  170,\n",
       "  180,\n",
       "  190,\n",
       "  200,\n",
       "  210,\n",
       "  220,\n",
       "  230,\n",
       "  240,\n",
       "  250,\n",
       "  260,\n",
       "  270,\n",
       "  280,\n",
       "  290,\n",
       "  300,\n",
       "  310,\n",
       "  320,\n",
       "  330,\n",
       "  340,\n",
       "  350,\n",
       "  360,\n",
       "  370,\n",
       "  380,\n",
       "  390,\n",
       "  400,\n",
       "  410,\n",
       "  420,\n",
       "  430,\n",
       "  440,\n",
       "  450,\n",
       "  460,\n",
       "  470,\n",
       "  480,\n",
       "  490,\n",
       "  500,\n",
       "  510,\n",
       "  520,\n",
       "  530,\n",
       "  540,\n",
       "  550,\n",
       "  560,\n",
       "  570,\n",
       "  580,\n",
       "  590,\n",
       "  600,\n",
       "  610,\n",
       "  620,\n",
       "  630,\n",
       "  640,\n",
       "  650,\n",
       "  660,\n",
       "  670,\n",
       "  680,\n",
       "  690,\n",
       "  700,\n",
       "  710,\n",
       "  720,\n",
       "  730,\n",
       "  740,\n",
       "  750,\n",
       "  760,\n",
       "  770,\n",
       "  780,\n",
       "  790,\n",
       "  800,\n",
       "  810,\n",
       "  820,\n",
       "  830,\n",
       "  840,\n",
       "  850,\n",
       "  860,\n",
       "  870,\n",
       "  880,\n",
       "  890,\n",
       "  900,\n",
       "  910,\n",
       "  920,\n",
       "  930,\n",
       "  940,\n",
       "  950,\n",
       "  960,\n",
       "  970,\n",
       "  980,\n",
       "  990,\n",
       "  1000,\n",
       "  1010,\n",
       "  1020,\n",
       "  1030,\n",
       "  1040,\n",
       "  1050,\n",
       "  1060,\n",
       "  1070,\n",
       "  1080,\n",
       "  1090,\n",
       "  1100,\n",
       "  1110,\n",
       "  1120,\n",
       "  1130,\n",
       "  1140,\n",
       "  1150,\n",
       "  1160,\n",
       "  1170,\n",
       "  1180,\n",
       "  1190,\n",
       "  1200,\n",
       "  1210,\n",
       "  1220,\n",
       "  1230,\n",
       "  1240,\n",
       "  1250,\n",
       "  1260,\n",
       "  1270,\n",
       "  1280,\n",
       "  1290,\n",
       "  1300,\n",
       "  1310,\n",
       "  1320,\n",
       "  1330,\n",
       "  1340,\n",
       "  1350,\n",
       "  1360,\n",
       "  1370,\n",
       "  1380,\n",
       "  1390,\n",
       "  1400,\n",
       "  1410,\n",
       "  1420,\n",
       "  1430,\n",
       "  1440,\n",
       "  1450,\n",
       "  1460,\n",
       "  1470,\n",
       "  1480,\n",
       "  1490,\n",
       "  1500,\n",
       "  1510,\n",
       "  1520,\n",
       "  1530,\n",
       "  1540,\n",
       "  1550,\n",
       "  1560,\n",
       "  1570,\n",
       "  1580,\n",
       "  1590,\n",
       "  1600,\n",
       "  1610,\n",
       "  1620,\n",
       "  1630,\n",
       "  1640,\n",
       "  1650,\n",
       "  1660,\n",
       "  1670,\n",
       "  1680,\n",
       "  1690,\n",
       "  1700,\n",
       "  1710,\n",
       "  1720,\n",
       "  1730,\n",
       "  1740,\n",
       "  1750,\n",
       "  1760,\n",
       "  1770,\n",
       "  1780,\n",
       "  1790,\n",
       "  1800,\n",
       "  1810,\n",
       "  1820,\n",
       "  1830,\n",
       "  1840,\n",
       "  1850,\n",
       "  1860,\n",
       "  1870,\n",
       "  1880,\n",
       "  1890,\n",
       "  1900,\n",
       "  1910,\n",
       "  1920,\n",
       "  1930,\n",
       "  1940,\n",
       "  1950,\n",
       "  1960,\n",
       "  1970,\n",
       "  1980,\n",
       "  1990,\n",
       "  2000],\n",
       " 'max_features': ['auto', 'sqrt'],\n",
       " 'max_depth': [10, 20, 30, 40, 50, 60, 70, 80, 90, 100, 110, None],\n",
       " 'min_samples_split': [2, 5, 10],\n",
       " 'min_samples_leaf': [1, 2, 4],\n",
       " 'bootstrap': [True, False]}"
      ]
     },
     "execution_count": 149,
     "metadata": {},
     "output_type": "execute_result"
    }
   ],
   "source": [
    "from sklearn.model_selection import RandomizedSearchCV\n",
    "\n",
    "# Number of trees in random forest\n",
    "n_estimators = [int(x) for x in np.linspace(start = 10, stop = 2000, num = 200)]\n",
    "# Number of features to consider at every split\n",
    "max_features = ['auto', 'sqrt']\n",
    "# Maximum number of levels in tree\n",
    "max_depth = [int(x) for x in np.linspace(10, 110, num = 11)]\n",
    "max_depth.append(None)\n",
    "# Minimum number of samples required to split a node\n",
    "min_samples_split = [2, 5, 10]\n",
    "# Minimum number of samples required at each leaf node\n",
    "min_samples_leaf = [1, 2, 4]\n",
    "# Method of selecting samples for training each tree\n",
    "bootstrap = [True, False]\n",
    "# Create the random grid\n",
    "random_grid = {'n_estimators': n_estimators,\n",
    "               'max_features': max_features,\n",
    "               'max_depth': max_depth,\n",
    "               'min_samples_split': min_samples_split,\n",
    "               'min_samples_leaf': min_samples_leaf,\n",
    "               'bootstrap': bootstrap}\n",
    "random_grid"
   ]
  },
  {
   "cell_type": "code",
   "execution_count": null,
   "metadata": {},
   "outputs": [],
   "source": []
  },
  {
   "cell_type": "code",
   "execution_count": 156,
   "metadata": {},
   "outputs": [],
   "source": [
    "exp_smooth = final_df.copy()\n",
    "\n",
    "exp_smooth.GoldsteinScale = exp_smooth.GoldsteinScale.ewm(span=3).mean()\n",
    "exp_smooth.AvgTone = exp_smooth.AvgTone.ewm(span=3).mean()\n",
    "\n",
    "exp_smooth[\"prev_day\"] = exp_smooth[\"Diff\"].shift(1)\n",
    "exp_smooth.dropna(inplace=True)\n",
    "\n",
    "X_train, X_test, Y_train, Y_test = split(exp_smooth)\n",
    "# Use the random grid to search for best hyperparameters\n",
    "# First create the base model to tune\n",
    "rf = RandomForestClassifier()\n",
    "\n"
   ]
  },
  {
   "cell_type": "code",
   "execution_count": 167,
   "metadata": {},
   "outputs": [
    {
     "name": "stdout",
     "output_type": "stream",
     "text": [
      "Fitting 5 folds for each of 500 candidates, totalling 2500 fits\n"
     ]
    },
    {
     "name": "stderr",
     "output_type": "stream",
     "text": [
      "[Parallel(n_jobs=-1)]: Using backend LokyBackend with 24 concurrent workers.\n",
      "[Parallel(n_jobs=-1)]: Done 114 tasks      | elapsed:   26.4s\n",
      "[Parallel(n_jobs=-1)]: Done 317 tasks      | elapsed:   52.3s\n",
      "[Parallel(n_jobs=-1)]: Done 600 tasks      | elapsed:  1.5min\n",
      "[Parallel(n_jobs=-1)]: Done 965 tasks      | elapsed:  2.3min\n",
      "[Parallel(n_jobs=-1)]: Done 1410 tasks      | elapsed:  3.2min\n",
      "[Parallel(n_jobs=-1)]: Done 1937 tasks      | elapsed:  4.2min\n",
      "[Parallel(n_jobs=-1)]: Done 2500 out of 2500 | elapsed:  5.4min finished\n"
     ]
    },
    {
     "data": {
      "text/plain": [
       "RandomizedSearchCV(cv=None, error_score=nan,\n",
       "                   estimator=RandomForestClassifier(bootstrap=True,\n",
       "                                                    ccp_alpha=0.0,\n",
       "                                                    class_weight=None,\n",
       "                                                    criterion='gini',\n",
       "                                                    max_depth=None,\n",
       "                                                    max_features='auto',\n",
       "                                                    max_leaf_nodes=None,\n",
       "                                                    max_samples=None,\n",
       "                                                    min_impurity_decrease=0.0,\n",
       "                                                    min_impurity_split=None,\n",
       "                                                    min_samples_leaf=1,\n",
       "                                                    min_samples_split=2,\n",
       "                                                    min_weight_fraction_leaf=0.0,\n",
       "                                                    n_estimators=100,\n",
       "                                                    n_j...\n",
       "                                        'max_depth': [10, 20, 30, 40, 50, 60,\n",
       "                                                      70, 80, 90, 100, 110,\n",
       "                                                      None],\n",
       "                                        'max_features': ['auto', 'sqrt'],\n",
       "                                        'min_samples_leaf': [1, 2, 4],\n",
       "                                        'min_samples_split': [2, 5, 10],\n",
       "                                        'n_estimators': [10, 20, 30, 40, 50, 60,\n",
       "                                                         70, 80, 90, 100, 110,\n",
       "                                                         120, 130, 140, 150,\n",
       "                                                         160, 170, 180, 190,\n",
       "                                                         200, 210, 220, 230,\n",
       "                                                         240, 250, 260, 270,\n",
       "                                                         280, 290, 300, ...]},\n",
       "                   pre_dispatch='2*n_jobs', random_state=42, refit=True,\n",
       "                   return_train_score=False, scoring='accuracy', verbose=2)"
      ]
     },
     "execution_count": 167,
     "metadata": {},
     "output_type": "execute_result"
    }
   ],
   "source": [
    "\n",
    "rf_random = RandomizedSearchCV(estimator = rf, scoring=\"accuracy\", n_iter=500, param_distributions = random_grid, verbose=2, random_state=42, n_jobs = -1)\n",
    "# Fit the random search model\n",
    "\n",
    "rf_random.fit(X_train, Y_train)"
   ]
  },
  {
   "cell_type": "code",
   "execution_count": 168,
   "metadata": {},
   "outputs": [
    {
     "name": "stdout",
     "output_type": "stream",
     "text": [
      "0.625\n"
     ]
    }
   ],
   "source": [
    "best_random = rf_random.best_estimator_\n",
    "predict = best_random.predict(X_test)\n",
    "accuracy = accuracy_score(Y_test, predict)\n",
    "print(accuracy)"
   ]
  },
  {
   "cell_type": "code",
   "execution_count": 165,
   "metadata": {},
   "outputs": [],
   "source": [
    "from sklearn.model_selection import GridSearchCV\n",
    "# Create the parameter grid based on the results of random search \n",
    "param_grid = {\n",
    "    'bootstrap': [True],\n",
    "    'max_depth': [10, 20, 50],\n",
    "    'max_features': [2, 3],\n",
    "    'min_samples_leaf': [1, 2, 3, 4, 5],\n",
    "    'min_samples_split': [1,2, 4, 8, 10, 12],\n",
    "    'n_estimators': [50, 100, 200, 300, 1000]\n",
    "}\n",
    "# Create a based model\n",
    "rf = RandomForestClassifier()\n",
    "# Instantiate the grid search model\n",
    "grid_search = GridSearchCV(estimator = rf, param_grid = param_grid, \n",
    "                          cv = 3, n_jobs = -1, verbose = 2)"
   ]
  },
  {
   "cell_type": "code",
   "execution_count": 166,
   "metadata": {},
   "outputs": [
    {
     "name": "stdout",
     "output_type": "stream",
     "text": [
      "Fitting 3 folds for each of 900 candidates, totalling 2700 fits\n"
     ]
    },
    {
     "name": "stderr",
     "output_type": "stream",
     "text": [
      "[Parallel(n_jobs=-1)]: Using backend LokyBackend with 24 concurrent workers.\n",
      "[Parallel(n_jobs=-1)]: Done 114 tasks      | elapsed:    9.5s\n",
      "[Parallel(n_jobs=-1)]: Done 317 tasks      | elapsed:   18.1s\n",
      "[Parallel(n_jobs=-1)]: Done 600 tasks      | elapsed:   30.0s\n",
      "[Parallel(n_jobs=-1)]: Done 965 tasks      | elapsed:   45.3s\n",
      "[Parallel(n_jobs=-1)]: Done 1410 tasks      | elapsed:  1.1min\n",
      "[Parallel(n_jobs=-1)]: Done 1937 tasks      | elapsed:  1.4min\n",
      "[Parallel(n_jobs=-1)]: Done 2544 tasks      | elapsed:  1.9min\n",
      "[Parallel(n_jobs=-1)]: Done 2700 out of 2700 | elapsed:  2.0min finished\n"
     ]
    },
    {
     "data": {
      "text/plain": [
       "GridSearchCV(cv=3, error_score=nan,\n",
       "             estimator=RandomForestClassifier(bootstrap=True, ccp_alpha=0.0,\n",
       "                                              class_weight=None,\n",
       "                                              criterion='gini', max_depth=None,\n",
       "                                              max_features='auto',\n",
       "                                              max_leaf_nodes=None,\n",
       "                                              max_samples=None,\n",
       "                                              min_impurity_decrease=0.0,\n",
       "                                              min_impurity_split=None,\n",
       "                                              min_samples_leaf=1,\n",
       "                                              min_samples_split=2,\n",
       "                                              min_weight_fraction_leaf=0.0,\n",
       "                                              n_estimators=100, n_jobs=None,\n",
       "                                              oob_score=False,\n",
       "                                              random_state=None, verbose=0,\n",
       "                                              warm_start=False),\n",
       "             iid='deprecated', n_jobs=-1,\n",
       "             param_grid={'bootstrap': [True], 'max_depth': [10, 20, 50],\n",
       "                         'max_features': [2, 3],\n",
       "                         'min_samples_leaf': [1, 2, 3, 4, 5],\n",
       "                         'min_samples_split': [1, 2, 4, 8, 10, 12],\n",
       "                         'n_estimators': [50, 100, 200, 300, 1000]},\n",
       "             pre_dispatch='2*n_jobs', refit=True, return_train_score=False,\n",
       "             scoring=None, verbose=2)"
      ]
     },
     "execution_count": 166,
     "metadata": {},
     "output_type": "execute_result"
    }
   ],
   "source": [
    "grid_search.fit(X_train, Y_train)"
   ]
  },
  {
   "cell_type": "code",
   "execution_count": null,
   "metadata": {},
   "outputs": [],
   "source": [
    "best_random = grid_search.best_estimator_\n",
    "predict = best_random.predict(X_test)\n",
    "accuracy = accuracy_score(Y_test, predict)\n",
    "print(accuracy)"
   ]
  },
  {
   "cell_type": "code",
   "execution_count": 164,
   "metadata": {
    "scrolled": true
   },
   "outputs": [
    {
     "data": {
      "text/plain": [
       "RandomForestClassifier(bootstrap=True, ccp_alpha=0.0, class_weight=None,\n",
       "                       criterion='gini', max_depth=None, max_features='auto',\n",
       "                       max_leaf_nodes=None, max_samples=None,\n",
       "                       min_impurity_decrease=0.0, min_impurity_split=None,\n",
       "                       min_samples_leaf=1, min_samples_split=2,\n",
       "                       min_weight_fraction_leaf=0.0, n_estimators=100,\n",
       "                       n_jobs=None, oob_score=False, random_state=7, verbose=0,\n",
       "                       warm_start=False)"
      ]
     },
     "execution_count": 164,
     "metadata": {},
     "output_type": "execute_result"
    }
   ],
   "source": [
    "best_model"
   ]
  },
  {
   "cell_type": "markdown",
   "metadata": {},
   "source": [
    "## Reference model, using just previous day"
   ]
  },
  {
   "cell_type": "code",
   "execution_count": 62,
   "metadata": {},
   "outputs": [],
   "source": [
    "ref_df = final_df.copy()"
   ]
  },
  {
   "cell_type": "code",
   "execution_count": 63,
   "metadata": {},
   "outputs": [],
   "source": [
    "ref_df[\"prev_day\"] = ref_df[\"Diff\"].shift(1)\n",
    "ref_df.dropna(inplace=True)"
   ]
  },
  {
   "cell_type": "code",
   "execution_count": 64,
   "metadata": {},
   "outputs": [
    {
     "data": {
      "text/plain": [
       "RandomForestClassifier(bootstrap=True, ccp_alpha=0.0, class_weight=None,\n",
       "                       criterion='gini', max_depth=None, max_features='auto',\n",
       "                       max_leaf_nodes=None, max_samples=None,\n",
       "                       min_impurity_decrease=0.0, min_impurity_split=None,\n",
       "                       min_samples_leaf=1, min_samples_split=2,\n",
       "                       min_weight_fraction_leaf=0.0, n_estimators=100,\n",
       "                       n_jobs=None, oob_score=False, random_state=None,\n",
       "                       verbose=0, warm_start=False)"
      ]
     },
     "execution_count": 64,
     "metadata": {},
     "output_type": "execute_result"
    }
   ],
   "source": [
    "X_train, X_test, Y_train, Y_test = split(ref_df.drop([\"GoldsteinScale\", \"AvgTone\"], axis=1))\n",
    "\n",
    "ref_clf = RandomForestClassifier()\n",
    "ref_clf.fit(X_train, Y_train)"
   ]
  },
  {
   "cell_type": "code",
   "execution_count": 65,
   "metadata": {},
   "outputs": [
    {
     "name": "stdout",
     "output_type": "stream",
     "text": [
      "0.75\n"
     ]
    }
   ],
   "source": [
    "predict = ref_clf.predict(X_test)\n",
    "print(accuracy_score(Y_test, predict))"
   ]
  },
  {
   "cell_type": "markdown",
   "metadata": {},
   "source": [
    "## Predictions"
   ]
  },
  {
   "cell_type": "code",
   "execution_count": 71,
   "metadata": {},
   "outputs": [],
   "source": [
    "url = \"https://query1.finance.yahoo.com/v7/finance/download/^DJI?period1=1588291200&period2=1593561600&interval=1d&events=history\"\n",
    "\n",
    "filename = requests.get(url)\n",
    "\n",
    "f= open('./may_june_dow.csv', 'wb')\n",
    "f.write(filename.content)\n",
    "f.close()"
   ]
  },
  {
   "cell_type": "markdown",
   "metadata": {},
   "source": [
    "Read the May June Data "
   ]
  },
  {
   "cell_type": "code",
   "execution_count": 66,
   "metadata": {},
   "outputs": [],
   "source": [
    "may_june_us_chn_data = pd.read_csv(\"MayJuneData.csv\")"
   ]
  },
  {
   "cell_type": "code",
   "execution_count": 67,
   "metadata": {},
   "outputs": [],
   "source": [
    "new_data = may_june_us_chn_data.groupby('SQLDATE', as_index=False, sort=False)['GoldsteinScale'].mean()\n",
    "format_str = '%Y%m%d'\n",
    "new_data.SQLDATE = [datetime.strptime(str(x), format_str) for x in new_data.SQLDATE]\n",
    "pred_goldstein = new_data[new_data.SQLDATE > datetime(2020,4,30)].sort_values(by=\"SQLDATE\")\n",
    "\n",
    "new_data = may_june_us_chn_data.groupby('SQLDATE', as_index=False, sort=False)['AvgTone'].mean()\n",
    "new_data.SQLDATE = [datetime.strptime(str(x), format_str) for x in new_data.SQLDATE]\n",
    "pred_tone = new_data[new_data.SQLDATE > datetime(2020,4,30)].sort_values(by=\"SQLDATE\")\n",
    "\n",
    "pred_data = pd.merge(pred_tone, pred_goldstein, on=\"SQLDATE\")\n",
    "pred_data[\"SQLDATE\"] = pd.to_datetime(pred_data[\"SQLDATE\"])"
   ]
  },
  {
   "cell_type": "code",
   "execution_count": 68,
   "metadata": {},
   "outputs": [
    {
     "data": {
      "text/html": [
       "<div>\n",
       "<style scoped>\n",
       "    .dataframe tbody tr th:only-of-type {\n",
       "        vertical-align: middle;\n",
       "    }\n",
       "\n",
       "    .dataframe tbody tr th {\n",
       "        vertical-align: top;\n",
       "    }\n",
       "\n",
       "    .dataframe thead th {\n",
       "        text-align: right;\n",
       "    }\n",
       "</style>\n",
       "<table border=\"1\" class=\"dataframe\">\n",
       "  <thead>\n",
       "    <tr style=\"text-align: right;\">\n",
       "      <th></th>\n",
       "      <th>SQLDATE</th>\n",
       "      <th>AvgTone</th>\n",
       "      <th>GoldsteinScale</th>\n",
       "    </tr>\n",
       "  </thead>\n",
       "  <tbody>\n",
       "    <tr>\n",
       "      <th>0</th>\n",
       "      <td>2020-05-01</td>\n",
       "      <td>-3.326702</td>\n",
       "      <td>0.546114</td>\n",
       "    </tr>\n",
       "    <tr>\n",
       "      <th>1</th>\n",
       "      <td>2020-05-02</td>\n",
       "      <td>-3.328630</td>\n",
       "      <td>0.264565</td>\n",
       "    </tr>\n",
       "    <tr>\n",
       "      <th>2</th>\n",
       "      <td>2020-05-03</td>\n",
       "      <td>-3.374564</td>\n",
       "      <td>1.082721</td>\n",
       "    </tr>\n",
       "    <tr>\n",
       "      <th>3</th>\n",
       "      <td>2020-05-04</td>\n",
       "      <td>-3.441615</td>\n",
       "      <td>0.579567</td>\n",
       "    </tr>\n",
       "    <tr>\n",
       "      <th>4</th>\n",
       "      <td>2020-05-05</td>\n",
       "      <td>-3.318267</td>\n",
       "      <td>0.104493</td>\n",
       "    </tr>\n",
       "    <tr>\n",
       "      <th>...</th>\n",
       "      <td>...</td>\n",
       "      <td>...</td>\n",
       "      <td>...</td>\n",
       "    </tr>\n",
       "    <tr>\n",
       "      <th>56</th>\n",
       "      <td>2020-06-26</td>\n",
       "      <td>-3.102075</td>\n",
       "      <td>0.218441</td>\n",
       "    </tr>\n",
       "    <tr>\n",
       "      <th>57</th>\n",
       "      <td>2020-06-27</td>\n",
       "      <td>-4.348583</td>\n",
       "      <td>-0.312575</td>\n",
       "    </tr>\n",
       "    <tr>\n",
       "      <th>58</th>\n",
       "      <td>2020-06-28</td>\n",
       "      <td>-3.036777</td>\n",
       "      <td>0.678022</td>\n",
       "    </tr>\n",
       "    <tr>\n",
       "      <th>59</th>\n",
       "      <td>2020-06-29</td>\n",
       "      <td>-3.177634</td>\n",
       "      <td>-0.272390</td>\n",
       "    </tr>\n",
       "    <tr>\n",
       "      <th>60</th>\n",
       "      <td>2020-06-30</td>\n",
       "      <td>-5.475570</td>\n",
       "      <td>-0.150000</td>\n",
       "    </tr>\n",
       "  </tbody>\n",
       "</table>\n",
       "<p>61 rows × 3 columns</p>\n",
       "</div>"
      ],
      "text/plain": [
       "      SQLDATE   AvgTone  GoldsteinScale\n",
       "0  2020-05-01 -3.326702        0.546114\n",
       "1  2020-05-02 -3.328630        0.264565\n",
       "2  2020-05-03 -3.374564        1.082721\n",
       "3  2020-05-04 -3.441615        0.579567\n",
       "4  2020-05-05 -3.318267        0.104493\n",
       "..        ...       ...             ...\n",
       "56 2020-06-26 -3.102075        0.218441\n",
       "57 2020-06-27 -4.348583       -0.312575\n",
       "58 2020-06-28 -3.036777        0.678022\n",
       "59 2020-06-29 -3.177634       -0.272390\n",
       "60 2020-06-30 -5.475570       -0.150000\n",
       "\n",
       "[61 rows x 3 columns]"
      ]
     },
     "execution_count": 68,
     "metadata": {},
     "output_type": "execute_result"
    }
   ],
   "source": [
    "pred_data"
   ]
  },
  {
   "cell_type": "code",
   "execution_count": 69,
   "metadata": {},
   "outputs": [
    {
     "data": {
      "text/html": [
       "<div>\n",
       "<style scoped>\n",
       "    .dataframe tbody tr th:only-of-type {\n",
       "        vertical-align: middle;\n",
       "    }\n",
       "\n",
       "    .dataframe tbody tr th {\n",
       "        vertical-align: top;\n",
       "    }\n",
       "\n",
       "    .dataframe thead th {\n",
       "        text-align: right;\n",
       "    }\n",
       "</style>\n",
       "<table border=\"1\" class=\"dataframe\">\n",
       "  <thead>\n",
       "    <tr style=\"text-align: right;\">\n",
       "      <th></th>\n",
       "      <th>SQLDATE</th>\n",
       "      <th>AvgTone</th>\n",
       "      <th>GoldsteinScale</th>\n",
       "      <th>Date</th>\n",
       "    </tr>\n",
       "  </thead>\n",
       "  <tbody>\n",
       "    <tr>\n",
       "      <th>0</th>\n",
       "      <td>2020-05-01</td>\n",
       "      <td>-3.326702</td>\n",
       "      <td>0.546114</td>\n",
       "      <td>2020-05-01</td>\n",
       "    </tr>\n",
       "    <tr>\n",
       "      <th>1</th>\n",
       "      <td>2020-05-02</td>\n",
       "      <td>-3.328630</td>\n",
       "      <td>0.264565</td>\n",
       "      <td>NaT</td>\n",
       "    </tr>\n",
       "    <tr>\n",
       "      <th>2</th>\n",
       "      <td>2020-05-03</td>\n",
       "      <td>-3.374564</td>\n",
       "      <td>1.082721</td>\n",
       "      <td>NaT</td>\n",
       "    </tr>\n",
       "    <tr>\n",
       "      <th>3</th>\n",
       "      <td>2020-05-04</td>\n",
       "      <td>-3.441615</td>\n",
       "      <td>0.579567</td>\n",
       "      <td>2020-05-04</td>\n",
       "    </tr>\n",
       "    <tr>\n",
       "      <th>4</th>\n",
       "      <td>2020-05-05</td>\n",
       "      <td>-3.318267</td>\n",
       "      <td>0.104493</td>\n",
       "      <td>2020-05-05</td>\n",
       "    </tr>\n",
       "  </tbody>\n",
       "</table>\n",
       "</div>"
      ],
      "text/plain": [
       "     SQLDATE   AvgTone  GoldsteinScale       Date\n",
       "0 2020-05-01 -3.326702        0.546114 2020-05-01\n",
       "1 2020-05-02 -3.328630        0.264565        NaT\n",
       "2 2020-05-03 -3.374564        1.082721        NaT\n",
       "3 2020-05-04 -3.441615        0.579567 2020-05-04\n",
       "4 2020-05-05 -3.318267        0.104493 2020-05-05"
      ]
     },
     "execution_count": 69,
     "metadata": {},
     "output_type": "execute_result"
    }
   ],
   "source": [
    "may_june_dow = pd.read_csv(\"may_june_dow.csv\")\n",
    "may_june_dow[\"Diff\"] = may_june_dow[\"Open\"] - may_june_dow[\"Close\"]\n",
    "may_june_dow[\"Date\"] = pd.to_datetime(may_june_dow[\"Date\"])\n",
    "\n",
    "may_merging_data = pd.merge(pred_data, may_june_dow[\"Date\"], how=\"left\", left_on=\"SQLDATE\", right_on=\"Date\")\n",
    "may_merging_data.head()"
   ]
  },
  {
   "cell_type": "code",
   "execution_count": 70,
   "metadata": {},
   "outputs": [],
   "source": [
    "pred_df = merge_column(may_merging_data, [\"GoldsteinScale\", \"AvgTone\"])\n",
    "pred_df = pd.merge(pred_df, may_june_dow, on=\"Date\")"
   ]
  },
  {
   "cell_type": "code",
   "execution_count": 71,
   "metadata": {},
   "outputs": [
    {
     "data": {
      "text/html": [
       "<div>\n",
       "<style scoped>\n",
       "    .dataframe tbody tr th:only-of-type {\n",
       "        vertical-align: middle;\n",
       "    }\n",
       "\n",
       "    .dataframe tbody tr th {\n",
       "        vertical-align: top;\n",
       "    }\n",
       "\n",
       "    .dataframe thead th {\n",
       "        text-align: right;\n",
       "    }\n",
       "</style>\n",
       "<table border=\"1\" class=\"dataframe\">\n",
       "  <thead>\n",
       "    <tr style=\"text-align: right;\">\n",
       "      <th></th>\n",
       "      <th>GoldsteinScale</th>\n",
       "      <th>AvgTone</th>\n",
       "      <th>Diff</th>\n",
       "    </tr>\n",
       "    <tr>\n",
       "      <th>Date</th>\n",
       "      <th></th>\n",
       "      <th></th>\n",
       "      <th></th>\n",
       "    </tr>\n",
       "  </thead>\n",
       "  <tbody>\n",
       "    <tr>\n",
       "      <th>2020-05-01</th>\n",
       "      <td>0.631133</td>\n",
       "      <td>-3.343299</td>\n",
       "      <td>0.0</td>\n",
       "    </tr>\n",
       "    <tr>\n",
       "      <th>2020-05-04</th>\n",
       "      <td>0.579567</td>\n",
       "      <td>-3.441615</td>\n",
       "      <td>1.0</td>\n",
       "    </tr>\n",
       "    <tr>\n",
       "      <th>2020-05-05</th>\n",
       "      <td>0.104493</td>\n",
       "      <td>-3.318267</td>\n",
       "      <td>1.0</td>\n",
       "    </tr>\n",
       "    <tr>\n",
       "      <th>2020-05-06</th>\n",
       "      <td>0.615290</td>\n",
       "      <td>-3.299201</td>\n",
       "      <td>0.0</td>\n",
       "    </tr>\n",
       "    <tr>\n",
       "      <th>2020-05-07</th>\n",
       "      <td>0.060809</td>\n",
       "      <td>-3.733817</td>\n",
       "      <td>0.0</td>\n",
       "    </tr>\n",
       "  </tbody>\n",
       "</table>\n",
       "</div>"
      ],
      "text/plain": [
       "            GoldsteinScale   AvgTone  Diff\n",
       "Date                                      \n",
       "2020-05-01        0.631133 -3.343299   0.0\n",
       "2020-05-04        0.579567 -3.441615   1.0\n",
       "2020-05-05        0.104493 -3.318267   1.0\n",
       "2020-05-06        0.615290 -3.299201   0.0\n",
       "2020-05-07        0.060809 -3.733817   0.0"
      ]
     },
     "execution_count": 71,
     "metadata": {},
     "output_type": "execute_result"
    }
   ],
   "source": [
    "pred_df.set_index('Date', inplace=True)\n",
    "pred_df.drop([\"Open\", \"Close\", \"Low\", \"High\", \"Adj Close\", \"Volume\"], axis=1, inplace=True)\n",
    "pred_df[\"Diff\"] = pred_df[\"Diff\"].apply(func)\n",
    "pred_df.Diff = pred_df.Diff.shift(-1)\n",
    "pred_df.drop(pred_df.tail(1).index, inplace=True)\n",
    "pred_df.head()"
   ]
  },
  {
   "cell_type": "markdown",
   "metadata": {},
   "source": [
    "### Model Predictions"
   ]
  },
  {
   "cell_type": "code",
   "execution_count": 90,
   "metadata": {},
   "outputs": [],
   "source": [
    "pred_copy_df = pred_df.copy()\n",
    "k=3\n",
    "pred_copy_df.GoldsteinScale = pred_copy_df[\"GoldsteinScale\"].ewm(span=k).mean()\n",
    "pred_copy_df.AvgTone = pred_copy_df[\"AvgTone\"].ewm(span=k).mean()"
   ]
  },
  {
   "cell_type": "code",
   "execution_count": 91,
   "metadata": {},
   "outputs": [],
   "source": [
    "pred_copy_df.GoldsteinScale.fillna(pred_df.GoldsteinScale, inplace=True)\n",
    "pred_copy_df.AvgTone.fillna(pred_df.AvgTone, inplace=True)"
   ]
  },
  {
   "cell_type": "code",
   "execution_count": 92,
   "metadata": {},
   "outputs": [],
   "source": [
    "pred_copy_df[\"prev_day\"] = pred_copy_df[\"Diff\"].shift(1)\n",
    "pred_copy_df.dropna(inplace=True)"
   ]
  },
  {
   "cell_type": "code",
   "execution_count": 93,
   "metadata": {},
   "outputs": [],
   "source": [
    "portfolio_copy = pred_copy_df.copy()"
   ]
  },
  {
   "cell_type": "code",
   "execution_count": 94,
   "metadata": {},
   "outputs": [
    {
     "ename": "NameError",
     "evalue": "name 'best_random' is not defined",
     "output_type": "error",
     "traceback": [
      "\u001b[0;31m---------------------------------------------------------------------------\u001b[0m",
      "\u001b[0;31mNameError\u001b[0m                                 Traceback (most recent call last)",
      "\u001b[0;32m<ipython-input-94-1df37551f7c3>\u001b[0m in \u001b[0;36m<module>\u001b[0;34m\u001b[0m\n\u001b[0;32m----> 1\u001b[0;31m \u001b[0mmodel_predictions\u001b[0m \u001b[0;34m=\u001b[0m \u001b[0mbest_random\u001b[0m\u001b[0;34m.\u001b[0m\u001b[0mpredict\u001b[0m\u001b[0;34m(\u001b[0m\u001b[0mpred_copy_df\u001b[0m\u001b[0;34m.\u001b[0m\u001b[0mdrop\u001b[0m\u001b[0;34m(\u001b[0m\u001b[0;34m[\u001b[0m\u001b[0;34m\"Diff\"\u001b[0m\u001b[0;34m]\u001b[0m\u001b[0;34m,\u001b[0m \u001b[0maxis\u001b[0m\u001b[0;34m=\u001b[0m\u001b[0;36m1\u001b[0m\u001b[0;34m)\u001b[0m\u001b[0;34m)\u001b[0m\u001b[0;34m\u001b[0m\u001b[0;34m\u001b[0m\u001b[0m\n\u001b[0m\u001b[1;32m      2\u001b[0m \u001b[0maccuracy_score\u001b[0m\u001b[0;34m(\u001b[0m\u001b[0mpred_copy_df\u001b[0m\u001b[0;34m[\u001b[0m\u001b[0;34m\"Diff\"\u001b[0m\u001b[0;34m]\u001b[0m\u001b[0;34m,\u001b[0m \u001b[0mmodel_predictions\u001b[0m\u001b[0;34m)\u001b[0m\u001b[0;34m\u001b[0m\u001b[0;34m\u001b[0m\u001b[0m\n",
      "\u001b[0;31mNameError\u001b[0m: name 'best_random' is not defined"
     ]
    }
   ],
   "source": [
    "model_predictions = best_random.predict(pred_copy_df.drop([\"Diff\"], axis=1))\n",
    "accuracy_score(pred_copy_df[\"Diff\"], model_predictions)"
   ]
  },
  {
   "cell_type": "code",
   "execution_count": 95,
   "metadata": {},
   "outputs": [
    {
     "data": {
      "text/plain": [
       "0.625"
      ]
     },
     "execution_count": 95,
     "metadata": {},
     "output_type": "execute_result"
    }
   ],
   "source": [
    "model_predictions = best_model.predict(pred_copy_df.drop([\"Diff\"], axis=1))\n",
    "accuracy_score(pred_copy_df[\"Diff\"], model_predictions)"
   ]
  },
  {
   "cell_type": "code",
   "execution_count": 96,
   "metadata": {},
   "outputs": [
    {
     "data": {
      "text/plain": [
       "array([0.36041859, 0.42205844, 0.21752297])"
      ]
     },
     "execution_count": 96,
     "metadata": {},
     "output_type": "execute_result"
    }
   ],
   "source": [
    "best_model.feature_importances_"
   ]
  },
  {
   "cell_type": "markdown",
   "metadata": {},
   "source": [
    "Plot the confidences"
   ]
  },
  {
   "cell_type": "code",
   "execution_count": 97,
   "metadata": {},
   "outputs": [
    {
     "data": {
      "text/plain": [
       "<matplotlib.axes._subplots.AxesSubplot at 0x7f6bb96453d0>"
      ]
     },
     "execution_count": 97,
     "metadata": {},
     "output_type": "execute_result"
    },
    {
     "data": {
      "image/png": "[encoded data removed]",
      "text/plain": [
       "<Figure size 432x288 with 1 Axes>"
      ]
     },
     "metadata": {
      "needs_background": "light"
     },
     "output_type": "display_data"
    }
   ],
   "source": [
    "model_prob = [max(i) for i in best_model.predict_proba(pred_copy_df.drop([\"Diff\"], axis=1))]\n",
    "sns.distplot(model_prob)"
   ]
  },
  {
   "cell_type": "code",
   "execution_count": 98,
   "metadata": {
    "scrolled": true
   },
   "outputs": [
    {
     "data": {
      "text/plain": [
       "0.5"
      ]
     },
     "execution_count": 98,
     "metadata": {},
     "output_type": "execute_result"
    }
   ],
   "source": [
    "ref_predictions = ref_clf.predict(pred_copy_df[[\"prev_day\"]])\n",
    "ref_prob = [max(i) for i in ref_clf.predict_proba(pred_copy_df[[\"prev_day\"]])]\n",
    "accuracy_score(pred_copy_df[\"Diff\"], ref_predictions)"
   ]
  },
  {
   "cell_type": "code",
   "execution_count": 99,
   "metadata": {},
   "outputs": [],
   "source": [
    "temp_dow = may_june_dow.copy()\n",
    "temp_dow[\"Diff\"] = temp_dow[\"Diff\"].shift(-1)"
   ]
  },
  {
   "cell_type": "code",
   "execution_count": 100,
   "metadata": {},
   "outputs": [],
   "source": [
    "diff_dist = pd.merge(pred_copy_df, temp_dow[[\"Diff\", \"Date\"]], how=\"left\", left_on=\"Date\", right_on=\"Date\")"
   ]
  },
  {
   "cell_type": "code",
   "execution_count": 101,
   "metadata": {},
   "outputs": [],
   "source": [
    "diff_dist[\"model_pred\"] = model_predictions\n",
    "diff_dist[\"ref_pred\"] = ref_predictions"
   ]
  },
  {
   "cell_type": "code",
   "execution_count": 102,
   "metadata": {},
   "outputs": [],
   "source": [
    "diff_dist = diff_dist[[\"Date\", \"Diff_x\", \"Diff_y\", \"model_pred\", \"ref_pred\"]]"
   ]
  },
  {
   "cell_type": "code",
   "execution_count": 103,
   "metadata": {},
   "outputs": [
    {
     "data": {
      "text/html": [
       "<div>\n",
       "<style scoped>\n",
       "    .dataframe tbody tr th:only-of-type {\n",
       "        vertical-align: middle;\n",
       "    }\n",
       "\n",
       "    .dataframe tbody tr th {\n",
       "        vertical-align: top;\n",
       "    }\n",
       "\n",
       "    .dataframe thead th {\n",
       "        text-align: right;\n",
       "    }\n",
       "</style>\n",
       "<table border=\"1\" class=\"dataframe\">\n",
       "  <thead>\n",
       "    <tr style=\"text-align: right;\">\n",
       "      <th></th>\n",
       "      <th>Date</th>\n",
       "      <th>Diff_x</th>\n",
       "      <th>Diff_y</th>\n",
       "      <th>model_pred</th>\n",
       "      <th>ref_pred</th>\n",
       "    </tr>\n",
       "  </thead>\n",
       "  <tbody>\n",
       "    <tr>\n",
       "      <th>0</th>\n",
       "      <td>2020-05-04</td>\n",
       "      <td>1.0</td>\n",
       "      <td>75.791015</td>\n",
       "      <td>1.0</td>\n",
       "      <td>1.0</td>\n",
       "    </tr>\n",
       "    <tr>\n",
       "      <th>1</th>\n",
       "      <td>2020-05-05</td>\n",
       "      <td>1.0</td>\n",
       "      <td>314.240234</td>\n",
       "      <td>0.0</td>\n",
       "      <td>0.0</td>\n",
       "    </tr>\n",
       "    <tr>\n",
       "      <th>2</th>\n",
       "      <td>2020-05-06</td>\n",
       "      <td>0.0</td>\n",
       "      <td>-38.679687</td>\n",
       "      <td>0.0</td>\n",
       "      <td>0.0</td>\n",
       "    </tr>\n",
       "    <tr>\n",
       "      <th>3</th>\n",
       "      <td>2020-05-07</td>\n",
       "      <td>0.0</td>\n",
       "      <td>-223.500000</td>\n",
       "      <td>0.0</td>\n",
       "      <td>1.0</td>\n",
       "    </tr>\n",
       "    <tr>\n",
       "      <th>4</th>\n",
       "      <td>2020-05-08</td>\n",
       "      <td>1.0</td>\n",
       "      <td>34.458985</td>\n",
       "      <td>1.0</td>\n",
       "      <td>1.0</td>\n",
       "    </tr>\n",
       "  </tbody>\n",
       "</table>\n",
       "</div>"
      ],
      "text/plain": [
       "        Date  Diff_x      Diff_y  model_pred  ref_pred\n",
       "0 2020-05-04     1.0   75.791015         1.0       1.0\n",
       "1 2020-05-05     1.0  314.240234         0.0       0.0\n",
       "2 2020-05-06     0.0  -38.679687         0.0       0.0\n",
       "3 2020-05-07     0.0 -223.500000         0.0       1.0\n",
       "4 2020-05-08     1.0   34.458985         1.0       1.0"
      ]
     },
     "execution_count": 103,
     "metadata": {},
     "output_type": "execute_result"
    }
   ],
   "source": [
    "diff_dist.head()"
   ]
  },
  {
   "cell_type": "code",
   "execution_count": 104,
   "metadata": {},
   "outputs": [],
   "source": [
    "correct_predictions = diff_dist[diff_dist[\"Diff_x\"] == diff_dist[\"model_pred\"]]\n",
    "incorrect_predictions = diff_dist[diff_dist[\"Diff_x\"] != diff_dist[\"model_pred\"]]"
   ]
  },
  {
   "cell_type": "markdown",
   "metadata": {},
   "source": [
    "Plot the distributions of the daily differences for the correct vs incorrect predictions "
   ]
  },
  {
   "cell_type": "code",
   "execution_count": 105,
   "metadata": {},
   "outputs": [
    {
     "data": {
      "image/png": "[encoded data removed]",
      "text/plain": [
       "<Figure size 720x432 with 1 Axes>"
      ]
     },
     "metadata": {
      "needs_background": "light"
     },
     "output_type": "display_data"
    }
   ],
   "source": [
    "fig = plt.figure(figsize=(10,6))\n",
    "sns.distplot(correct_predictions[\"Diff_y\"])\n",
    "sns.distplot(incorrect_predictions[\"Diff_y\"])\n",
    "fig.legend(labels=['Correct Predictions','Incorrect Predictions'])\n",
    "plt.savefig(\"dist_of_model.png\")"
   ]
  },
  {
   "cell_type": "code",
   "execution_count": 115,
   "metadata": {},
   "outputs": [
    {
     "data": {
      "image/png": "[encoded data removed]",
      "text/plain": [
       "<Figure size 720x432 with 1 Axes>"
      ]
     },
     "metadata": {
      "needs_background": "light"
     },
     "output_type": "display_data"
    }
   ],
   "source": [
    "fig = plt.figure(figsize=(10,6))\n",
    "sns.distplot(correct_predictions[\"Diff_y\"])\n",
    "sns.distplot(incorrect_predictions[\"Diff_y\"])\n",
    "fig.legend(labels=['Correct Predictions','Incorrect Predictions'])\n",
    "plt.xlabel(\"Magnitude of Stock Difference\")\n",
    "plt.title(\"Distribution of Differences for \\n Correctly or Incorrectly Predicted Differences\")\n",
    "plt.savefig(\"dist_of_model.png\")"
   ]
  },
  {
   "cell_type": "code",
   "execution_count": 107,
   "metadata": {},
   "outputs": [
    {
     "data": {
      "text/html": [
       "<div>\n",
       "<style scoped>\n",
       "    .dataframe tbody tr th:only-of-type {\n",
       "        vertical-align: middle;\n",
       "    }\n",
       "\n",
       "    .dataframe tbody tr th {\n",
       "        vertical-align: top;\n",
       "    }\n",
       "\n",
       "    .dataframe thead th {\n",
       "        text-align: right;\n",
       "    }\n",
       "</style>\n",
       "<table border=\"1\" class=\"dataframe\">\n",
       "  <thead>\n",
       "    <tr style=\"text-align: right;\">\n",
       "      <th></th>\n",
       "      <th>Date</th>\n",
       "      <th>Diff_x</th>\n",
       "      <th>Diff_y</th>\n",
       "      <th>model_pred</th>\n",
       "      <th>ref_pred</th>\n",
       "    </tr>\n",
       "  </thead>\n",
       "  <tbody>\n",
       "    <tr>\n",
       "      <th>0</th>\n",
       "      <td>2020-05-04</td>\n",
       "      <td>1.0</td>\n",
       "      <td>75.791015</td>\n",
       "      <td>1.0</td>\n",
       "      <td>1.0</td>\n",
       "    </tr>\n",
       "    <tr>\n",
       "      <th>1</th>\n",
       "      <td>2020-05-05</td>\n",
       "      <td>1.0</td>\n",
       "      <td>314.240234</td>\n",
       "      <td>0.0</td>\n",
       "      <td>0.0</td>\n",
       "    </tr>\n",
       "    <tr>\n",
       "      <th>2</th>\n",
       "      <td>2020-05-06</td>\n",
       "      <td>0.0</td>\n",
       "      <td>-38.679687</td>\n",
       "      <td>0.0</td>\n",
       "      <td>0.0</td>\n",
       "    </tr>\n",
       "    <tr>\n",
       "      <th>3</th>\n",
       "      <td>2020-05-07</td>\n",
       "      <td>0.0</td>\n",
       "      <td>-223.500000</td>\n",
       "      <td>0.0</td>\n",
       "      <td>1.0</td>\n",
       "    </tr>\n",
       "    <tr>\n",
       "      <th>4</th>\n",
       "      <td>2020-05-08</td>\n",
       "      <td>1.0</td>\n",
       "      <td>34.458985</td>\n",
       "      <td>1.0</td>\n",
       "      <td>1.0</td>\n",
       "    </tr>\n",
       "  </tbody>\n",
       "</table>\n",
       "</div>"
      ],
      "text/plain": [
       "        Date  Diff_x      Diff_y  model_pred  ref_pred\n",
       "0 2020-05-04     1.0   75.791015         1.0       1.0\n",
       "1 2020-05-05     1.0  314.240234         0.0       0.0\n",
       "2 2020-05-06     0.0  -38.679687         0.0       0.0\n",
       "3 2020-05-07     0.0 -223.500000         0.0       1.0\n",
       "4 2020-05-08     1.0   34.458985         1.0       1.0"
      ]
     },
     "execution_count": 107,
     "metadata": {},
     "output_type": "execute_result"
    }
   ],
   "source": [
    "diff_dist.head()"
   ]
  },
  {
   "cell_type": "code",
   "execution_count": 108,
   "metadata": {},
   "outputs": [],
   "source": [
    "diff_dist.replace(0, -1, inplace=True)"
   ]
  },
  {
   "cell_type": "markdown",
   "metadata": {},
   "source": [
    "Plot the differences through time along with whether each day was predicted correctly or not "
   ]
  },
  {
   "cell_type": "code",
   "execution_count": 116,
   "metadata": {},
   "outputs": [
    {
     "data": {
      "image/png": "[encoded data removed]",
      "text/plain": [
       "<Figure size 720x720 with 2 Axes>"
      ]
     },
     "metadata": {
      "needs_background": "light"
     },
     "output_type": "display_data"
    }
   ],
   "source": [
    "\n",
    "fig, axes = plt.subplots(2, 1, figsize=(10,10),  sharex=True)\n",
    "\n",
    "for i, ax in enumerate(axes.flatten()):\n",
    "    if i == 1:\n",
    "        fig.add_subplot(ax)\n",
    "        ax.bar(diff_dist[\"Date\"], diff_dist[\"model_pred\"], color=diff_dist[\"model_pred\"].map({1: 'g', -1: 'r'}))\n",
    "        ax.set_ylabel(\"Correct or Incorrect Prediction \\n Green: Correct, Red: Incorrect\")\n",
    "#         clrs = ['green' if x == 1 else 'red' for x in  diff_dist[\"model_pred\"]]\n",
    "#         sns.barplot(diff_dist[\"Date\"], diff_dist[\"model_pred\"], palette=clrs)\n",
    "    else:\n",
    "        fig.add_subplot(ax)\n",
    "        sns.lineplot(diff_dist[\"Date\"], diff_dist[\"Diff_y\"])\n",
    "        ax.set_ylabel(\"The Daily Difference between Open and Close prices \\n of the Dow Jones Index \")\n",
    "#         ax.plot(diff_dist[\"Date\"], diff_dist[\"Diff_y\"])\n",
    "\n",
    "plt.subplots_adjust(wspace=0, hspace=0)\n",
    "fig.suptitle(\"Daily Difference Plotted With Correct and Incorrect Predictions \\n Over the May-June Time Period\")\n",
    "plt.margins(x=0, y=0)\n",
    "plt.tight_layout()\n",
    "fig.subplots_adjust(top=0.88)\n",
    "plt.xlabel(\"Date\")\n",
    "plt.savefig(\"model_pred_time.png\")\n",
    "plt.show()"
   ]
  },
  {
   "cell_type": "code",
   "execution_count": 251,
   "metadata": {},
   "outputs": [
    {
     "data": {
      "image/png": "[encoded data removed]",
      "text/plain": [
       "<Figure size 720x720 with 2 Axes>"
      ]
     },
     "metadata": {
      "needs_background": "light"
     },
     "output_type": "display_data"
    }
   ],
   "source": [
    "\n",
    "fig, axes = plt.subplots(2, 1, figsize=(10,10),  sharex=True)\n",
    "\n",
    "for i, ax in enumerate(axes.flatten()):\n",
    "    if i == 1:\n",
    "        fig.add_subplot(ax)\n",
    "        ax.bar(diff_dist[\"Date\"], diff_dist[\"model_pred\"], color=diff_dist[\"model_pred\"].map({1: 'g', -1: 'r'}))\n",
    "#         clrs = ['green' if x == 1 else 'red' for x in  diff_dist[\"model_pred\"]]\n",
    "#         sns.barplot(diff_dist[\"Date\"], diff_dist[\"model_pred\"], palette=clrs)\n",
    "    else:\n",
    "        fig.add_subplot(ax)\n",
    "        sns.lineplot(diff_dist[\"Date\"], diff_dist[\"Diff_y\"])\n",
    "#         ax.plot(diff_dist[\"Date\"], diff_dist[\"Diff_y\"])\n",
    "\n",
    "plt.subplots_adjust(wspace=0, hspace=0)\n",
    "fig.suptitle(\"Model Predictions Over Time\")\n",
    "plt.margins(x=0, y=0)\n",
    "plt.tight_layout()\n",
    "fig.subplots_adjust(top=0.88)\n",
    "plt.xlabel(\"Date\")\n",
    "plt.savefig(\"model_pred_time.png\")\n",
    "plt.show()"
   ]
  },
  {
   "cell_type": "markdown",
   "metadata": {},
   "source": [
    "### Portfolio testing"
   ]
  },
  {
   "cell_type": "code",
   "execution_count": 98,
   "metadata": {},
   "outputs": [],
   "source": [
    "def get_file(url, fname):\n",
    "    filename = requests.get(url)\n",
    "    f= open(fname, 'wb')\n",
    "    f.write(filename.content)\n",
    "    f.close()"
   ]
  },
  {
   "cell_type": "markdown",
   "metadata": {},
   "source": [
    "Run a simple portfolio"
   ]
  },
  {
   "cell_type": "code",
   "execution_count": 163,
   "metadata": {},
   "outputs": [],
   "source": [
    "def run_portfolio(predictions, confidence, price, \\\n",
    "                  initial_shares, initial_capital, sensitivity_threshold \\\n",
    "                 ,buy_factor, sell_factor):\n",
    "    \n",
    "    shares = [initial_shares]\n",
    "    capital = [initial_capital] \n",
    "    total = [capital[0] + shares[0] * price[0]]\n",
    "\n",
    "\n",
    "    for i, value in enumerate(predictions):\n",
    "        if capital[i] != 0 and value == 1 and confidence[i] > sensitivity_threshold:\n",
    "            curr_price = price[i]\n",
    "            shares_to_buy = ((capital[i] * buy_factor) // curr_price)\n",
    "            capital.append(capital[i] - (shares_to_buy * curr_price))\n",
    "            shares.append(shares[i] + shares_to_buy)\n",
    "\n",
    "        elif shares[i] > 0 and value == 0 and confidence[i] > sensitivity_threshold:\n",
    "            curr_price = price[i]\n",
    "            shares_to_sell = np.ceil(shares[i] * sell_factor)\n",
    "            capital.append(capital[i] + shares_to_sell * curr_price)\n",
    "            shares.append(shares[i] - shares_to_sell) \n",
    "        else:\n",
    "            capital.append(capital[i])\n",
    "            shares.append(shares[i])\n",
    "\n",
    "        total.append(capital[i] + shares[i] * price[i])\n",
    "    \n",
    "    return pd.DataFrame(np.column_stack([capital, shares, total]), \n",
    "                               columns=['Capital', 'Number of Shares', 'Total Asset Value'])\n",
    "\n"
   ]
  },
  {
   "cell_type": "code",
   "execution_count": 181,
   "metadata": {},
   "outputs": [],
   "source": [
    "def plot_returns(x, df_model, df_ref, name, cap, buy, sell, thresh):\n",
    "    fig, axes = plt.subplots(3, 1, figsize=(10,10),  sharex=True)\n",
    "    for i, ax in enumerate(axes.flatten()):\n",
    "        fig.add_subplot(ax)\n",
    "        sns.lineplot(x, df_model.iloc[:, i][1:], label=\"Predictive Model\")\n",
    "        sns.lineplot(x, df_ref.iloc[:, i][1:], label=\"Reference Model\")\n",
    "        ax.legend()\n",
    "    plt.suptitle(\"Portfolio of Apple shares \\n Initial capital: \" \\\n",
    "                 + str(cap) + \" Buy Factor: \" + str(buy) + \"\\n Sell Factor: \" + str(sell) + \" Confidence Threshold \" + str(thresh))\n",
    "    plt.xlabel(\"Date\")\n",
    "    plt.savefig(name + \".png\")\n",
    "    plt.show()"
   ]
  },
  {
   "cell_type": "markdown",
   "metadata": {},
   "source": [
    "### Apple"
   ]
  },
  {
   "cell_type": "code",
   "execution_count": 132,
   "metadata": {},
   "outputs": [],
   "source": [
    "url = \"https://query1.finance.yahoo.com/v7/finance/download/AAPL?period1=1588291200&period2=1593648000&interval=1d&events=history\"\n",
    "fname = \"apple.csv\""
   ]
  },
  {
   "cell_type": "code",
   "execution_count": 133,
   "metadata": {},
   "outputs": [],
   "source": [
    "get_file(url, fname)"
   ]
  },
  {
   "cell_type": "code",
   "execution_count": 134,
   "metadata": {},
   "outputs": [],
   "source": [
    "fname = \"apple.csv\"\n",
    "apple = pd.read_csv(fname)\n",
    "apple[\"Date\"] = pd.to_datetime(apple[\"Date\"])\n",
    "\n",
    "merged_apple = pd.merge(portfolio_copy, apple, on=\"Date\")\n",
    "merged_apple[\"confidence\"] = model_prob\n",
    "merged_apple[\"diff_pred\"] = model_predictions\n",
    "merged_apple = merged_apple[[\"Date\", \"Close\", \"confidence\", \"diff_pred\"]]\n",
    "\n",
    "merged_apple_ref = pd.merge(portfolio_copy, apple, on=\"Date\")\n",
    "merged_apple_ref[\"confidence\"] = ref_prob\n",
    "merged_apple_ref[\"diff_pred\"] = ref_predictions\n",
    "merged_apple_ref = merged_apple_ref[[\"Date\", \"Close\", \"confidence\", \"diff_pred\"]]"
   ]
  },
  {
   "cell_type": "code",
   "execution_count": 184,
   "metadata": {},
   "outputs": [
    {
     "data": {
      "image/png": "[encoded data removed]",
      "text/plain": [
       "<Figure size 720x720 with 3 Axes>"
      ]
     },
     "metadata": {
      "needs_background": "light"
     },
     "output_type": "display_data"
    }
   ],
   "source": [
    "initial_shares = 0\n",
    "initial_capital = 2000\n",
    "sensitivity_threshold = 0.6 \n",
    "buy_factor = 1/2\n",
    "sell_factor = 1/2\n",
    "\n",
    "# Calculate for Model\n",
    "df = merged_apple\n",
    "return_df = run_portfolio(df[\"diff_pred\"], df[\"confidence\"], df[\"Close\"],\n",
    "             initial_shares, initial_capital, sensitivity_threshold, buy_factor, sell_factor)\n",
    "\n",
    "# Calculate for Reference Model\n",
    "df = merged_apple_ref\n",
    "return_df_ref = run_portfolio(df[\"diff_pred\"], df[\"confidence\"], df[\"Close\"],\n",
    "             initial_shares, initial_capital, sensitivity_threshold, buy_factor, sell_factor)\n",
    "\n",
    "plot_returns(merged_apple[\"Date\"], return_df, return_df_ref, \"portfolio_1\", initial_capital, buy_factor, sell_factor, sensitivity_threshold)"
   ]
  },
  {
   "cell_type": "markdown",
   "metadata": {},
   "source": [
    "### United Health Group"
   ]
  },
  {
   "cell_type": "code",
   "execution_count": 362,
   "metadata": {},
   "outputs": [],
   "source": [
    "fname = \"UnitedHealthGroup.csv\"\n",
    "url = \"https://query1.finance.yahoo.com/v7/finance/download/UNH?period1=1588291200&period2=1593648000&interval=1d&events=history\""
   ]
  },
  {
   "cell_type": "code",
   "execution_count": 344,
   "metadata": {},
   "outputs": [],
   "source": [
    "get_file(url, fname)"
   ]
  },
  {
   "cell_type": "code",
   "execution_count": 121,
   "metadata": {},
   "outputs": [],
   "source": [
    "fname = \"UnitedHealthGroup.csv\"\n",
    "\n",
    "unh = pd.read_csv(fname)\n",
    "unh[\"Date\"] = pd.to_datetime(unh[\"Date\"])\n",
    "\n",
    "unh_model = pd.merge(portfolio_copy, unh, on=\"Date\")\n",
    "unh_model[\"confidence\"] = model_prob\n",
    "unh_model[\"diff_pred\"] = model_predictions\n",
    "unh_model = unh_model[[\"Date\", \"Close\", \"confidence\", \"diff_pred\"]]\n",
    "\n",
    "unh_ref = pd.merge(portfolio_copy, unh, on=\"Date\")\n",
    "unh_ref[\"confidence\"] = ref_prob\n",
    "unh_ref[\"diff_pred\"] = ref_predictions\n",
    "unh_ref = unh_ref[[\"Date\", \"Close\", \"confidence\", \"diff_pred\"]]"
   ]
  },
  {
   "cell_type": "code",
   "execution_count": 138,
   "metadata": {},
   "outputs": [
    {
     "data": {
      "image/png": "[encoded data removed]",
      "text/plain": [
       "<Figure size 720x720 with 3 Axes>"
      ]
     },
     "metadata": {
      "needs_background": "light"
     },
     "output_type": "display_data"
    }
   ],
   "source": [
    "initial_shares = 0\n",
    "initial_capital = 5000\n",
    "sensitivity_threshold = 0.6 \n",
    "buy_factor = 5/6\n",
    "sell_factor = 5/8\n",
    "\n",
    "# Calculate for Model\n",
    "df = unh_model\n",
    "return_df = run_portfolio(df[\"diff_pred\"], df[\"confidence\"], df[\"Close\"],\n",
    "             initial_shares, initial_capital, sensitivity_threshold, buy_factor, sell_factor)\n",
    "\n",
    "# Calculate for Reference Model\n",
    "df = unh_ref\n",
    "return_df_ref = run_portfolio(df[\"diff_pred\"], df[\"confidence\"], df[\"Close\"],\n",
    "             initial_shares, initial_capital, sensitivity_threshold, buy_factor, sell_factor)\n",
    "\n",
    "plot_returns(unh_model[\"Date\"], return_df, return_df_ref)"
   ]
  },
  {
   "cell_type": "markdown",
   "metadata": {},
   "source": [
    "### Dow Inc"
   ]
  },
  {
   "cell_type": "code",
   "execution_count": 356,
   "metadata": {},
   "outputs": [],
   "source": [
    "url = \"https://query1.finance.yahoo.com/v7/finance/download/DOW?period1=1588291200&period2=1593648000&interval=1d&events=history\"\n",
    "fname = \"DowInc.csv\""
   ]
  },
  {
   "cell_type": "code",
   "execution_count": 302,
   "metadata": {},
   "outputs": [],
   "source": [
    "get_file(url, fname)"
   ]
  },
  {
   "cell_type": "code",
   "execution_count": 117,
   "metadata": {},
   "outputs": [],
   "source": [
    "fname = \"DowInc.csv\"\n",
    "dow = pd.read_csv(fname)\n",
    "dow[\"Date\"] = pd.to_datetime(dow[\"Date\"])\n",
    "\n",
    "dow_inc_model = pd.merge(portfolio_copy, dow, on=\"Date\")\n",
    "dow_inc_model[\"confidence\"] = model_prob\n",
    "dow_inc_model[\"diff_pred\"] = model_predictions\n",
    "dow_inc_model = dow_inc_model[[\"Date\", \"Close\", \"confidence\", \"diff_pred\"]]\n",
    "\n",
    "dow_inc_ref = pd.merge(portfolio_copy, dow, on=\"Date\")\n",
    "dow_inc_ref[\"confidence\"] = ref_prob\n",
    "dow_inc_ref[\"diff_pred\"] = ref_predictions\n",
    "dow_inc_ref = dow_inc_ref[[\"Date\", \"Close\", \"confidence\", \"diff_pred\"]]"
   ]
  },
  {
   "cell_type": "code",
   "execution_count": 139,
   "metadata": {
    "scrolled": true
   },
   "outputs": [
    {
     "data": {
      "image/png": "[encoded data removed]",
      "text/plain": [
       "<Figure size 720x720 with 3 Axes>"
      ]
     },
     "metadata": {
      "needs_background": "light"
     },
     "output_type": "display_data"
    }
   ],
   "source": [
    "initial_shares = 0\n",
    "initial_capital = 5000\n",
    "sensitivity_threshold = 0.6 \n",
    "buy_factor = 5/6\n",
    "sell_factor = 5/8\n",
    "\n",
    "# Calculate for Model\n",
    "df = dow_inc_model\n",
    "return_df = run_portfolio(df[\"diff_pred\"], df[\"confidence\"], df[\"Close\"],\n",
    "             initial_shares, initial_capital, sensitivity_threshold, buy_factor, sell_factor)\n",
    "\n",
    "# Calculate for Reference Model\n",
    "df = dow_inc_ref\n",
    "return_df_ref = run_portfolio(df[\"diff_pred\"], df[\"confidence\"], df[\"Close\"],\n",
    "             initial_shares, initial_capital, sensitivity_threshold, buy_factor, sell_factor)\n",
    "\n",
    "plot_returns(dow_inc_model[\"Date\"], return_df, return_df_ref)"
   ]
  },
  {
   "cell_type": "code",
   "execution_count": 191,
   "metadata": {},
   "outputs": [
    {
     "data": {
      "text/plain": [
       "Index(['GoldsteinScale', 'AvgTone', 'prev_day'], dtype='object')"
      ]
     },
     "execution_count": 191,
     "metadata": {},
     "output_type": "execute_result"
    }
   ],
   "source": [
    "X_train.columns"
   ]
  },
  {
   "cell_type": "markdown",
   "metadata": {},
   "source": [
    "Plot the feature names"
   ]
  },
  {
   "cell_type": "code",
   "execution_count": 194,
   "metadata": {},
   "outputs": [
    {
     "data": {
      "image/png": "[encoded data removed]",
      "text/plain": [
       "<Figure size 432x288 with 1 Axes>"
      ]
     },
     "metadata": {
      "needs_background": "light"
     },
     "output_type": "display_data"
    }
   ],
   "source": [
    "sns.barplot(X_train.columns, best_model.feature_importances_)\n",
    "plt.xlabel(\"Feature Name\")\n",
    "plt.ylabel(\"Feature Importance\")\n",
    "plt.title(\"Feature importances for the Best Model\")\n",
    "plt.savefig(\"feature_importance.png\")"
   ]
  },
  {
   "cell_type": "code",
   "execution_count": null,
   "metadata": {},
   "outputs": [],
   "source": []
  }
 ],
 "metadata": {
  "kernelspec": {
   "display_name": "Python 3",
   "language": "python",
   "name": "python3"
  },
  "language_info": {
   "codemirror_mode": {
    "name": "ipython",
    "version": 3
   },
   "file_extension": ".py",
   "mimetype": "text/x-python",
   "name": "python",
   "nbconvert_exporter": "python",
   "pygments_lexer": "ipython3",
   "version": "3.7.8"
  }
 },
 "nbformat": 4,
 "nbformat_minor": 4
}
