{
 "cells": [
  {
   "cell_type": "code",
   "execution_count": 3,
   "metadata": {},
   "outputs": [
    {
     "name": "stderr",
     "output_type": "stream",
     "text": [
      "Loading required package: nardl\n",
      "\n",
      "Registered S3 method overwritten by 'quantmod':\n",
      "  method            from\n",
      "  as.zoo.data.frame zoo \n",
      "\n",
      "Loading required package: dynlm\n",
      "\n",
      "Loading required package: zoo\n",
      "\n",
      "\n",
      "Attaching package: ‘zoo’\n",
      "\n",
      "\n",
      "The following objects are masked from ‘package:base’:\n",
      "\n",
      "    as.Date, as.Date.numeric\n",
      "\n",
      "\n"
     ]
    }
   ],
   "source": [
    "library(\"dLagM\")"
   ]
  },
  {
   "cell_type": "code",
   "execution_count": 18,
   "metadata": {},
   "outputs": [
    {
     "name": "stderr",
     "output_type": "stream",
     "text": [
      "\n",
      "Attaching package: ‘dplyr’\n",
      "\n",
      "\n",
      "The following objects are masked from ‘package:stats’:\n",
      "\n",
      "    filter, lag\n",
      "\n",
      "\n",
      "The following objects are masked from ‘package:base’:\n",
      "\n",
      "    intersect, setdiff, setequal, union\n",
      "\n",
      "\n"
     ]
    }
   ],
   "source": [
    "library(\"dplyr\")"
   ]
  },
  {
   "cell_type": "code",
   "execution_count": 63,
   "metadata": {},
   "outputs": [],
   "source": [
    "input <- read.csv(\"outputdata.csv\")"
   ]
  },
  {
   "cell_type": "code",
   "execution_count": 64,
   "metadata": {
    "scrolled": true
   },
   "outputs": [
    {
     "data": {
      "text/html": [
       "<table>\n",
       "<caption>A data.frame: 41 × 4</caption>\n",
       "<thead>\n",
       "\t<tr><th scope=col>Date</th><th scope=col>GoldsteinScale</th><th scope=col>AvgTone</th><th scope=col>Diff</th></tr>\n",
       "\t<tr><th scope=col>&lt;fct&gt;</th><th scope=col>&lt;dbl&gt;</th><th scope=col>&lt;dbl&gt;</th><th scope=col>&lt;dbl&gt;</th></tr>\n",
       "</thead>\n",
       "<tbody>\n",
       "\t<tr><td>2020-03-02</td><td>-1.674000000</td><td>-2.298869</td><td> 1</td></tr>\n",
       "\t<tr><td>2020-03-03</td><td>-3.372413793</td><td>-3.788864</td><td>-1</td></tr>\n",
       "\t<tr><td>2020-03-04</td><td>-3.457692308</td><td>-3.350338</td><td> 1</td></tr>\n",
       "\t<tr><td>2020-03-05</td><td> 0.081395349</td><td>-2.504286</td><td>-1</td></tr>\n",
       "\t<tr><td>2020-03-06</td><td>-1.303921569</td><td>-2.169450</td><td> 1</td></tr>\n",
       "\t<tr><td>2020-03-09</td><td>-2.173948718</td><td>-2.609812</td><td>-1</td></tr>\n",
       "\t<tr><td>2020-03-10</td><td>-0.367441860</td><td>-3.628694</td><td> 1</td></tr>\n",
       "\t<tr><td>2020-03-11</td><td>-0.852380952</td><td>-2.584191</td><td> 1</td></tr>\n",
       "\t<tr><td>2020-03-12</td><td>-1.011320755</td><td>-3.742268</td><td>-1</td></tr>\n",
       "\t<tr><td>2020-03-13</td><td>-1.025806452</td><td>-3.163854</td><td> 1</td></tr>\n",
       "\t<tr><td>2020-03-16</td><td> 0.045973266</td><td>-3.586085</td><td>-1</td></tr>\n",
       "\t<tr><td>2020-03-17</td><td>-0.591964286</td><td>-3.924332</td><td> 1</td></tr>\n",
       "\t<tr><td>2020-03-18</td><td>-0.575000000</td><td>-4.101445</td><td>-1</td></tr>\n",
       "\t<tr><td>2020-03-19</td><td>-0.097500000</td><td>-4.256634</td><td> 1</td></tr>\n",
       "\t<tr><td>2020-03-20</td><td> 0.101086957</td><td>-4.457244</td><td> 1</td></tr>\n",
       "\t<tr><td>2020-03-23</td><td>-0.023261418</td><td>-4.425156</td><td>-1</td></tr>\n",
       "\t<tr><td>2020-03-24</td><td>-0.160606061</td><td>-3.521923</td><td>-1</td></tr>\n",
       "\t<tr><td>2020-03-25</td><td>-0.269841270</td><td>-3.776831</td><td>-1</td></tr>\n",
       "\t<tr><td>2020-03-26</td><td>-1.798550725</td><td>-3.967459</td><td> 1</td></tr>\n",
       "\t<tr><td>2020-03-27</td><td> 0.716190476</td><td>-3.605155</td><td>-1</td></tr>\n",
       "\t<tr><td>2020-03-30</td><td>-1.176178186</td><td>-2.694083</td><td> 1</td></tr>\n",
       "\t<tr><td>2020-03-31</td><td>-0.515094340</td><td>-2.780508</td><td> 1</td></tr>\n",
       "\t<tr><td>2020-04-01</td><td>-1.260655738</td><td>-3.339616</td><td>-1</td></tr>\n",
       "\t<tr><td>2020-04-02</td><td> 1.008571429</td><td>-4.058095</td><td> 1</td></tr>\n",
       "\t<tr><td>2020-04-03</td><td>-1.460493827</td><td>-3.587941</td><td>-1</td></tr>\n",
       "\t<tr><td>2020-04-06</td><td> 0.741755793</td><td>-2.987982</td><td> 1</td></tr>\n",
       "\t<tr><td>2020-04-07</td><td>-0.679245283</td><td>-3.120059</td><td>-1</td></tr>\n",
       "\t<tr><td>2020-04-08</td><td> 1.575000000</td><td>-3.446856</td><td>-1</td></tr>\n",
       "\t<tr><td>2020-04-09</td><td> 0.709615385</td><td>-3.574916</td><td> 1</td></tr>\n",
       "\t<tr><td>2020-04-13</td><td> 1.454854790</td><td>-3.122238</td><td>-1</td></tr>\n",
       "\t<tr><td>2020-04-14</td><td> 0.470149254</td><td>-3.266990</td><td> 1</td></tr>\n",
       "\t<tr><td>2020-04-15</td><td>-1.718309859</td><td>-3.709003</td><td> 1</td></tr>\n",
       "\t<tr><td>2020-04-16</td><td> 0.224137931</td><td>-3.862709</td><td>-1</td></tr>\n",
       "\t<tr><td>2020-04-17</td><td> 1.183582090</td><td>-2.466417</td><td> 1</td></tr>\n",
       "\t<tr><td>2020-04-20</td><td> 0.294222716</td><td>-3.465265</td><td> 1</td></tr>\n",
       "\t<tr><td>2020-04-21</td><td>-2.539047619</td><td>-3.962936</td><td>-1</td></tr>\n",
       "\t<tr><td>2020-04-22</td><td>-1.188636364</td><td>-4.665033</td><td> 1</td></tr>\n",
       "\t<tr><td>2020-04-23</td><td>-0.008730159</td><td>-3.460957</td><td>-1</td></tr>\n",
       "\t<tr><td>2020-04-24</td><td> 0.725252525</td><td>-3.126611</td><td>-1</td></tr>\n",
       "\t<tr><td>2020-04-27</td><td> 1.120046064</td><td>-3.654183</td><td> 1</td></tr>\n",
       "\t<tr><td>2020-04-28</td><td>-0.274025974</td><td>-3.996464</td><td>-1</td></tr>\n",
       "</tbody>\n",
       "</table>\n"
      ],
      "text/latex": [
       "A data.frame: 41 × 4\n",
       "\\begin{tabular}{llll}\n",
       " Date & GoldsteinScale & AvgTone & Diff\\\\\n",
       " <fct> & <dbl> & <dbl> & <dbl>\\\\\n",
       "\\hline\n",
       "\t 2020-03-02 & -1.674000000 & -2.298869 &  1\\\\\n",
       "\t 2020-03-03 & -3.372413793 & -3.788864 & -1\\\\\n",
       "\t 2020-03-04 & -3.457692308 & -3.350338 &  1\\\\\n",
       "\t 2020-03-05 &  0.081395349 & -2.504286 & -1\\\\\n",
       "\t 2020-03-06 & -1.303921569 & -2.169450 &  1\\\\\n",
       "\t 2020-03-09 & -2.173948718 & -2.609812 & -1\\\\\n",
       "\t 2020-03-10 & -0.367441860 & -3.628694 &  1\\\\\n",
       "\t 2020-03-11 & -0.852380952 & -2.584191 &  1\\\\\n",
       "\t 2020-03-12 & -1.011320755 & -3.742268 & -1\\\\\n",
       "\t 2020-03-13 & -1.025806452 & -3.163854 &  1\\\\\n",
       "\t 2020-03-16 &  0.045973266 & -3.586085 & -1\\\\\n",
       "\t 2020-03-17 & -0.591964286 & -3.924332 &  1\\\\\n",
       "\t 2020-03-18 & -0.575000000 & -4.101445 & -1\\\\\n",
       "\t 2020-03-19 & -0.097500000 & -4.256634 &  1\\\\\n",
       "\t 2020-03-20 &  0.101086957 & -4.457244 &  1\\\\\n",
       "\t 2020-03-23 & -0.023261418 & -4.425156 & -1\\\\\n",
       "\t 2020-03-24 & -0.160606061 & -3.521923 & -1\\\\\n",
       "\t 2020-03-25 & -0.269841270 & -3.776831 & -1\\\\\n",
       "\t 2020-03-26 & -1.798550725 & -3.967459 &  1\\\\\n",
       "\t 2020-03-27 &  0.716190476 & -3.605155 & -1\\\\\n",
       "\t 2020-03-30 & -1.176178186 & -2.694083 &  1\\\\\n",
       "\t 2020-03-31 & -0.515094340 & -2.780508 &  1\\\\\n",
       "\t 2020-04-01 & -1.260655738 & -3.339616 & -1\\\\\n",
       "\t 2020-04-02 &  1.008571429 & -4.058095 &  1\\\\\n",
       "\t 2020-04-03 & -1.460493827 & -3.587941 & -1\\\\\n",
       "\t 2020-04-06 &  0.741755793 & -2.987982 &  1\\\\\n",
       "\t 2020-04-07 & -0.679245283 & -3.120059 & -1\\\\\n",
       "\t 2020-04-08 &  1.575000000 & -3.446856 & -1\\\\\n",
       "\t 2020-04-09 &  0.709615385 & -3.574916 &  1\\\\\n",
       "\t 2020-04-13 &  1.454854790 & -3.122238 & -1\\\\\n",
       "\t 2020-04-14 &  0.470149254 & -3.266990 &  1\\\\\n",
       "\t 2020-04-15 & -1.718309859 & -3.709003 &  1\\\\\n",
       "\t 2020-04-16 &  0.224137931 & -3.862709 & -1\\\\\n",
       "\t 2020-04-17 &  1.183582090 & -2.466417 &  1\\\\\n",
       "\t 2020-04-20 &  0.294222716 & -3.465265 &  1\\\\\n",
       "\t 2020-04-21 & -2.539047619 & -3.962936 & -1\\\\\n",
       "\t 2020-04-22 & -1.188636364 & -4.665033 &  1\\\\\n",
       "\t 2020-04-23 & -0.008730159 & -3.460957 & -1\\\\\n",
       "\t 2020-04-24 &  0.725252525 & -3.126611 & -1\\\\\n",
       "\t 2020-04-27 &  1.120046064 & -3.654183 &  1\\\\\n",
       "\t 2020-04-28 & -0.274025974 & -3.996464 & -1\\\\\n",
       "\\end{tabular}\n"
      ],
      "text/markdown": [
       "\n",
       "A data.frame: 41 × 4\n",
       "\n",
       "| Date &lt;fct&gt; | GoldsteinScale &lt;dbl&gt; | AvgTone &lt;dbl&gt; | Diff &lt;dbl&gt; |\n",
       "|---|---|---|---|\n",
       "| 2020-03-02 | -1.674000000 | -2.298869 |  1 |\n",
       "| 2020-03-03 | -3.372413793 | -3.788864 | -1 |\n",
       "| 2020-03-04 | -3.457692308 | -3.350338 |  1 |\n",
       "| 2020-03-05 |  0.081395349 | -2.504286 | -1 |\n",
       "| 2020-03-06 | -1.303921569 | -2.169450 |  1 |\n",
       "| 2020-03-09 | -2.173948718 | -2.609812 | -1 |\n",
       "| 2020-03-10 | -0.367441860 | -3.628694 |  1 |\n",
       "| 2020-03-11 | -0.852380952 | -2.584191 |  1 |\n",
       "| 2020-03-12 | -1.011320755 | -3.742268 | -1 |\n",
       "| 2020-03-13 | -1.025806452 | -3.163854 |  1 |\n",
       "| 2020-03-16 |  0.045973266 | -3.586085 | -1 |\n",
       "| 2020-03-17 | -0.591964286 | -3.924332 |  1 |\n",
       "| 2020-03-18 | -0.575000000 | -4.101445 | -1 |\n",
       "| 2020-03-19 | -0.097500000 | -4.256634 |  1 |\n",
       "| 2020-03-20 |  0.101086957 | -4.457244 |  1 |\n",
       "| 2020-03-23 | -0.023261418 | -4.425156 | -1 |\n",
       "| 2020-03-24 | -0.160606061 | -3.521923 | -1 |\n",
       "| 2020-03-25 | -0.269841270 | -3.776831 | -1 |\n",
       "| 2020-03-26 | -1.798550725 | -3.967459 |  1 |\n",
       "| 2020-03-27 |  0.716190476 | -3.605155 | -1 |\n",
       "| 2020-03-30 | -1.176178186 | -2.694083 |  1 |\n",
       "| 2020-03-31 | -0.515094340 | -2.780508 |  1 |\n",
       "| 2020-04-01 | -1.260655738 | -3.339616 | -1 |\n",
       "| 2020-04-02 |  1.008571429 | -4.058095 |  1 |\n",
       "| 2020-04-03 | -1.460493827 | -3.587941 | -1 |\n",
       "| 2020-04-06 |  0.741755793 | -2.987982 |  1 |\n",
       "| 2020-04-07 | -0.679245283 | -3.120059 | -1 |\n",
       "| 2020-04-08 |  1.575000000 | -3.446856 | -1 |\n",
       "| 2020-04-09 |  0.709615385 | -3.574916 |  1 |\n",
       "| 2020-04-13 |  1.454854790 | -3.122238 | -1 |\n",
       "| 2020-04-14 |  0.470149254 | -3.266990 |  1 |\n",
       "| 2020-04-15 | -1.718309859 | -3.709003 |  1 |\n",
       "| 2020-04-16 |  0.224137931 | -3.862709 | -1 |\n",
       "| 2020-04-17 |  1.183582090 | -2.466417 |  1 |\n",
       "| 2020-04-20 |  0.294222716 | -3.465265 |  1 |\n",
       "| 2020-04-21 | -2.539047619 | -3.962936 | -1 |\n",
       "| 2020-04-22 | -1.188636364 | -4.665033 |  1 |\n",
       "| 2020-04-23 | -0.008730159 | -3.460957 | -1 |\n",
       "| 2020-04-24 |  0.725252525 | -3.126611 | -1 |\n",
       "| 2020-04-27 |  1.120046064 | -3.654183 |  1 |\n",
       "| 2020-04-28 | -0.274025974 | -3.996464 | -1 |\n",
       "\n"
      ],
      "text/plain": [
       "   Date       GoldsteinScale AvgTone   Diff\n",
       "1  2020-03-02 -1.674000000   -2.298869  1  \n",
       "2  2020-03-03 -3.372413793   -3.788864 -1  \n",
       "3  2020-03-04 -3.457692308   -3.350338  1  \n",
       "4  2020-03-05  0.081395349   -2.504286 -1  \n",
       "5  2020-03-06 -1.303921569   -2.169450  1  \n",
       "6  2020-03-09 -2.173948718   -2.609812 -1  \n",
       "7  2020-03-10 -0.367441860   -3.628694  1  \n",
       "8  2020-03-11 -0.852380952   -2.584191  1  \n",
       "9  2020-03-12 -1.011320755   -3.742268 -1  \n",
       "10 2020-03-13 -1.025806452   -3.163854  1  \n",
       "11 2020-03-16  0.045973266   -3.586085 -1  \n",
       "12 2020-03-17 -0.591964286   -3.924332  1  \n",
       "13 2020-03-18 -0.575000000   -4.101445 -1  \n",
       "14 2020-03-19 -0.097500000   -4.256634  1  \n",
       "15 2020-03-20  0.101086957   -4.457244  1  \n",
       "16 2020-03-23 -0.023261418   -4.425156 -1  \n",
       "17 2020-03-24 -0.160606061   -3.521923 -1  \n",
       "18 2020-03-25 -0.269841270   -3.776831 -1  \n",
       "19 2020-03-26 -1.798550725   -3.967459  1  \n",
       "20 2020-03-27  0.716190476   -3.605155 -1  \n",
       "21 2020-03-30 -1.176178186   -2.694083  1  \n",
       "22 2020-03-31 -0.515094340   -2.780508  1  \n",
       "23 2020-04-01 -1.260655738   -3.339616 -1  \n",
       "24 2020-04-02  1.008571429   -4.058095  1  \n",
       "25 2020-04-03 -1.460493827   -3.587941 -1  \n",
       "26 2020-04-06  0.741755793   -2.987982  1  \n",
       "27 2020-04-07 -0.679245283   -3.120059 -1  \n",
       "28 2020-04-08  1.575000000   -3.446856 -1  \n",
       "29 2020-04-09  0.709615385   -3.574916  1  \n",
       "30 2020-04-13  1.454854790   -3.122238 -1  \n",
       "31 2020-04-14  0.470149254   -3.266990  1  \n",
       "32 2020-04-15 -1.718309859   -3.709003  1  \n",
       "33 2020-04-16  0.224137931   -3.862709 -1  \n",
       "34 2020-04-17  1.183582090   -2.466417  1  \n",
       "35 2020-04-20  0.294222716   -3.465265  1  \n",
       "36 2020-04-21 -2.539047619   -3.962936 -1  \n",
       "37 2020-04-22 -1.188636364   -4.665033  1  \n",
       "38 2020-04-23 -0.008730159   -3.460957 -1  \n",
       "39 2020-04-24  0.725252525   -3.126611 -1  \n",
       "40 2020-04-27  1.120046064   -3.654183  1  \n",
       "41 2020-04-28 -0.274025974   -3.996464 -1  "
      ]
     },
     "metadata": {},
     "output_type": "display_data"
    }
   ],
   "source": [
    "input"
   ]
  },
  {
   "cell_type": "code",
   "execution_count": 24,
   "metadata": {},
   "outputs": [],
   "source": [
    "?dlm"
   ]
  },
  {
   "cell_type": "code",
   "execution_count": 62,
   "metadata": {},
   "outputs": [
    {
     "ename": "ERROR",
     "evalue": "Error in dlm.default(y = input$Diff, x = input$GoldsteinScale + input$AvgTone, : Data series x and y both must be entered in a vector format!\n",
     "output_type": "error",
     "traceback": [
      "Error in dlm.default(y = input$Diff, x = input$GoldsteinScale + input$AvgTone, : Data series x and y both must be entered in a vector format!\nTraceback:\n",
      "1. dlm(y = input$Diff, x = input$GoldsteinScale + input$AvgTone, \n .     q = 3)",
      "2. dlm.default(y = input$Diff, x = input$GoldsteinScale + input$AvgTone, \n .     q = 3)",
      "3. stop(\"Data series x and y both must be entered in a vector format!\")"
     ]
    }
   ],
   "source": [
    "model <- dlm(y= input$Diff, x= input$GoldsteinScale + input$AvgTone, q=3)\n",
    "summary(model)"
   ]
  },
  {
   "cell_type": "code",
   "execution_count": 30,
   "metadata": {},
   "outputs": [
    {
     "name": "stdout",
     "output_type": "stream",
     "text": [
      "\n",
      "Call:\n",
      "lm(formula = model.formula, data = design)\n",
      "\n",
      "Residuals:\n",
      "     Min       1Q   Median       3Q      Max \n",
      "-1.26024 -0.97867  0.00102  0.95146  1.25498 \n",
      "\n",
      "Coefficients:\n",
      "            Estimate Std. Error t value Pr(>|t|)\n",
      "(Intercept)  0.03036    0.20415   0.149    0.883\n",
      "x.t          0.01988    0.17304   0.115    0.909\n",
      "x.1          0.11305    0.15784   0.716    0.479\n",
      "x.2         -0.08062    0.15086  -0.534    0.597\n",
      "x.3          0.04143    0.14909   0.278    0.783\n",
      "\n",
      "Residual standard error: 1.061 on 33 degrees of freedom\n",
      "Multiple R-squared:  0.02275,\tAdjusted R-squared:  -0.0957 \n",
      "F-statistic: 0.1921 on 4 and 33 DF,  p-value: 0.9408\n",
      "\n",
      "AIC and BIC values for the model:\n",
      "       AIC      BIC\n",
      "1 118.9647 128.7902\n"
     ]
    }
   ],
   "source": [
    "model <- dlm(y= input$Diff, x= input$GoldsteinScale , q=3)\n",
    "summary(model)"
   ]
  },
  {
   "cell_type": "code",
   "execution_count": 35,
   "metadata": {},
   "outputs": [],
   "source": [
    "mod2 <- koyckDlm(x=input$GoldsteinScale + input$AvgTone, y=input$Diff)"
   ]
  },
  {
   "cell_type": "code",
   "execution_count": 36,
   "metadata": {},
   "outputs": [
    {
     "name": "stdout",
     "output_type": "stream",
     "text": [
      "\n",
      "Call:\n",
      "\"Y ~ (Intercept) + Y.1 + X.t\"\n",
      "\n",
      "Residuals:\n",
      "     Min       1Q   Median       3Q      Max \n",
      "-2.25303 -0.62699 -0.05801  0.66005  2.00067 \n",
      "\n",
      "Coefficients:\n",
      "            Estimate Std. Error t value Pr(>|t|)  \n",
      "(Intercept)   1.4994     2.5140   0.596   0.5545  \n",
      "Y.1          -0.4580     0.2289  -2.000   0.0528 .\n",
      "X.t           0.3763     0.6413   0.587   0.5610  \n",
      "---\n",
      "Signif. codes:  0 ‘***’ 0.001 ‘**’ 0.01 ‘*’ 0.05 ‘.’ 0.1 ‘ ’ 1\n",
      "\n",
      "Residual standard error: 1.039 on 37 degrees of freedom\n",
      "Multiple R-Squared: 0.001086,\tAdjusted R-squared: -0.05291 \n",
      "Wald test: 5.788 on 2 and 37 DF,  p-value: 0.006498 \n",
      "\n",
      "Diagnostic tests:\n",
      "                 df1 df2 statistic   p-value\n",
      "Weak instruments   1  37 1.4630841 0.2341121\n",
      "Wu-Hausman         1  36 0.6386021 0.4294586\n",
      "\n",
      "                            alpha      beta        phi\n",
      "Geometric coefficients:  1.028382 0.3762549 -0.4579723\n"
     ]
    }
   ],
   "source": [
    "summary(mod2, diagnostics=TRUE)"
   ]
  },
  {
   "cell_type": "code",
   "execution_count": 44,
   "metadata": {},
   "outputs": [
    {
     "name": "stdout",
     "output_type": "stream",
     "text": [
      "\n",
      "Time series regression with \"ts\" data:\n",
      "Start = 2, End = 41\n",
      "\n",
      "Call:\n",
      "dynlm(formula = as.formula(model.text), data = data, start = 1)\n",
      "\n",
      "Residuals:\n",
      "     Min       1Q   Median       3Q      Max \n",
      "-1.62643 -0.54951  0.07887  0.47601  1.57871 \n",
      "\n",
      "Coefficients:\n",
      "            Estimate Std. Error t value Pr(>|t|)    \n",
      "(Intercept)  0.11720    0.54396   0.215 0.830621    \n",
      "X.t         -0.06121    0.10677  -0.573 0.569983    \n",
      "X.1          0.08397    0.10508   0.799 0.429459    \n",
      "Y.1         -0.57073    0.14055  -4.061 0.000252 ***\n",
      "---\n",
      "Signif. codes:  0 ‘***’ 0.001 ‘**’ 0.01 ‘*’ 0.05 ‘.’ 0.1 ‘ ’ 1\n",
      "\n",
      "Residual standard error: 0.87 on 36 degrees of freedom\n",
      "Multiple R-squared:  0.3188,\tAdjusted R-squared:  0.262 \n",
      "F-statistic: 5.615 on 3 and 36 DF,  p-value: 0.002902\n",
      "\n"
     ]
    }
   ],
   "source": [
    "# mod3 <- ardlDlm(x=input$GoldsteinScale + input$AvgTone, y=input$Diff, q=2, p=4)\n",
    "mod3 <- ardlDlm(x=input$GoldsteinScale + input$AvgTone, y=input$Diff)\n",
    "summary(mod3)"
   ]
  },
  {
   "cell_type": "code",
   "execution_count": 46,
   "metadata": {},
   "outputs": [
    {
     "data": {
      "text/html": [
       "<table>\n",
       "<caption>A data.frame: 3 × 11</caption>\n",
       "<thead>\n",
       "\t<tr><th></th><th scope=col>n</th><th scope=col>MAE</th><th scope=col>MPE</th><th scope=col>MAPE</th><th scope=col>sMAPE</th><th scope=col>MASE</th><th scope=col>MSE</th><th scope=col>MRAE</th><th scope=col>GMRAE</th><th scope=col>MBRAE</th><th scope=col>UMBRAE</th></tr>\n",
       "\t<tr><th></th><th scope=col>&lt;dbl&gt;</th><th scope=col>&lt;dbl&gt;</th><th scope=col>&lt;dbl&gt;</th><th scope=col>&lt;dbl&gt;</th><th scope=col>&lt;dbl&gt;</th><th scope=col>&lt;dbl&gt;</th><th scope=col>&lt;dbl&gt;</th><th scope=col>&lt;dbl&gt;</th><th scope=col>&lt;dbl&gt;</th><th scope=col>&lt;dbl&gt;</th><th scope=col>&lt;dbl&gt;</th></tr>\n",
       "</thead>\n",
       "<tbody>\n",
       "\t<tr><th scope=row>model</th><td>38</td><td>0.9694965</td><td>0.9694965</td><td>0.9694965</td><td>1.722281</td><td>0.6405602</td><td>0.9694965</td><td>2339798386</td><td>153.94519</td><td>0.4904260</td><td>0.9624233</td></tr>\n",
       "\t<tr><th scope=row>mod2</th><td>40</td><td>0.8081209</td><td>0.7256821</td><td>0.8081209</td><td>1.077776</td><td>0.5252786</td><td>0.9989135</td><td>3721446861</td><td> 64.00819</td><td>0.3611645</td><td>0.5653481</td></tr>\n",
       "\t<tr><th scope=row>mod3</th><td>40</td><td>0.6812291</td><td>0.6812291</td><td>0.6812291</td><td>0.901326</td><td>0.4427989</td><td>0.6812291</td><td>3493482647</td><td> 65.84532</td><td>0.3656402</td><td>0.5763925</td></tr>\n",
       "</tbody>\n",
       "</table>\n"
      ],
      "text/latex": [
       "A data.frame: 3 × 11\n",
       "\\begin{tabular}{r|lllllllllll}\n",
       "  & n & MAE & MPE & MAPE & sMAPE & MASE & MSE & MRAE & GMRAE & MBRAE & UMBRAE\\\\\n",
       "  & <dbl> & <dbl> & <dbl> & <dbl> & <dbl> & <dbl> & <dbl> & <dbl> & <dbl> & <dbl> & <dbl>\\\\\n",
       "\\hline\n",
       "\tmodel & 38 & 0.9694965 & 0.9694965 & 0.9694965 & 1.722281 & 0.6405602 & 0.9694965 & 2339798386 & 153.94519 & 0.4904260 & 0.9624233\\\\\n",
       "\tmod2 & 40 & 0.8081209 & 0.7256821 & 0.8081209 & 1.077776 & 0.5252786 & 0.9989135 & 3721446861 &  64.00819 & 0.3611645 & 0.5653481\\\\\n",
       "\tmod3 & 40 & 0.6812291 & 0.6812291 & 0.6812291 & 0.901326 & 0.4427989 & 0.6812291 & 3493482647 &  65.84532 & 0.3656402 & 0.5763925\\\\\n",
       "\\end{tabular}\n"
      ],
      "text/markdown": [
       "\n",
       "A data.frame: 3 × 11\n",
       "\n",
       "| <!--/--> | n &lt;dbl&gt; | MAE &lt;dbl&gt; | MPE &lt;dbl&gt; | MAPE &lt;dbl&gt; | sMAPE &lt;dbl&gt; | MASE &lt;dbl&gt; | MSE &lt;dbl&gt; | MRAE &lt;dbl&gt; | GMRAE &lt;dbl&gt; | MBRAE &lt;dbl&gt; | UMBRAE &lt;dbl&gt; |\n",
       "|---|---|---|---|---|---|---|---|---|---|---|---|\n",
       "| model | 38 | 0.9694965 | 0.9694965 | 0.9694965 | 1.722281 | 0.6405602 | 0.9694965 | 2339798386 | 153.94519 | 0.4904260 | 0.9624233 |\n",
       "| mod2 | 40 | 0.8081209 | 0.7256821 | 0.8081209 | 1.077776 | 0.5252786 | 0.9989135 | 3721446861 |  64.00819 | 0.3611645 | 0.5653481 |\n",
       "| mod3 | 40 | 0.6812291 | 0.6812291 | 0.6812291 | 0.901326 | 0.4427989 | 0.6812291 | 3493482647 |  65.84532 | 0.3656402 | 0.5763925 |\n",
       "\n"
      ],
      "text/plain": [
       "      n  MAE       MPE       MAPE      sMAPE    MASE      MSE       MRAE      \n",
       "model 38 0.9694965 0.9694965 0.9694965 1.722281 0.6405602 0.9694965 2339798386\n",
       "mod2  40 0.8081209 0.7256821 0.8081209 1.077776 0.5252786 0.9989135 3721446861\n",
       "mod3  40 0.6812291 0.6812291 0.6812291 0.901326 0.4427989 0.6812291 3493482647\n",
       "      GMRAE     MBRAE     UMBRAE   \n",
       "model 153.94519 0.4904260 0.9624233\n",
       "mod2   64.00819 0.3611645 0.5653481\n",
       "mod3   65.84532 0.3656402 0.5763925"
      ]
     },
     "metadata": {},
     "output_type": "display_data"
    }
   ],
   "source": [
    "GoF(model, mod2, mod3)"
   ]
  },
  {
   "cell_type": "code",
   "execution_count": null,
   "metadata": {},
   "outputs": [],
   "source": []
  }
 ],
 "metadata": {
  "kernelspec": {
   "display_name": "R",
   "language": "R",
   "name": "ir"
  },
  "language_info": {
   "codemirror_mode": "r",
   "file_extension": ".r",
   "mimetype": "text/x-r-source",
   "name": "R",
   "pygments_lexer": "r",
   "version": "3.6.3"
  }
 },
 "nbformat": 4,
 "nbformat_minor": 4
}
