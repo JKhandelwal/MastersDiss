{
 "cells": [
  {
   "cell_type": "code",
   "execution_count": 1,
   "metadata": {},
   "outputs": [],
   "source": [
    "import nltk\n",
    "import functools\n",
    "import operator\n",
    "import nltk\n",
    "import itertools\n",
    "import gdelt\n",
    "from nltk.corpus import stopwords\n",
    "import pandas as pd\n",
    "from datetime import datetime \n",
    "import numpy as np\n",
    "import matplotlib.pyplot as plt\n",
    "import seaborn as sns"
   ]
  },
  {
   "cell_type": "code",
   "execution_count": 2,
   "metadata": {},
   "outputs": [],
   "source": [
    "us_chn_data = pd.read_csv(\"fin_test\")"
   ]
  },
  {
   "cell_type": "code",
   "execution_count": 3,
   "metadata": {},
   "outputs": [
    {
     "data": {
      "text/html": [
       "<div>\n",
       "<style scoped>\n",
       "    .dataframe tbody tr th:only-of-type {\n",
       "        vertical-align: middle;\n",
       "    }\n",
       "\n",
       "    .dataframe tbody tr th {\n",
       "        vertical-align: top;\n",
       "    }\n",
       "\n",
       "    .dataframe thead th {\n",
       "        text-align: right;\n",
       "    }\n",
       "</style>\n",
       "<table border=\"1\" class=\"dataframe\">\n",
       "  <thead>\n",
       "    <tr style=\"text-align: right;\">\n",
       "      <th></th>\n",
       "      <th>SQLDATE</th>\n",
       "      <th>Actor1Code</th>\n",
       "      <th>Actor2Code</th>\n",
       "      <th>EventCode</th>\n",
       "      <th>DATEADDED</th>\n",
       "      <th>ActionGeo_Lat</th>\n",
       "      <th>ActionGeo_Long</th>\n",
       "      <th>NumMentions</th>\n",
       "      <th>AvgTone</th>\n",
       "      <th>QuadClass</th>\n",
       "      <th>GoldsteinScale</th>\n",
       "      <th>NumArticles</th>\n",
       "      <th>SOURCEURL</th>\n",
       "    </tr>\n",
       "  </thead>\n",
       "  <tbody>\n",
       "    <tr>\n",
       "      <th>0</th>\n",
       "      <td>20200301</td>\n",
       "      <td>CHN</td>\n",
       "      <td>USA</td>\n",
       "      <td>256</td>\n",
       "      <td>20200301200000</td>\n",
       "      <td>35.0000</td>\n",
       "      <td>105.000</td>\n",
       "      <td>3</td>\n",
       "      <td>-2.698023</td>\n",
       "      <td>1</td>\n",
       "      <td>-0.3</td>\n",
       "      <td>3</td>\n",
       "      <td>http://www.wboc.com/story/41836455/virus-cases...</td>\n",
       "    </tr>\n",
       "    <tr>\n",
       "      <th>1</th>\n",
       "      <td>20200302</td>\n",
       "      <td>CHN</td>\n",
       "      <td>USA</td>\n",
       "      <td>256</td>\n",
       "      <td>20200302000000</td>\n",
       "      <td>35.0000</td>\n",
       "      <td>105.000</td>\n",
       "      <td>6</td>\n",
       "      <td>-2.781947</td>\n",
       "      <td>1</td>\n",
       "      <td>-0.3</td>\n",
       "      <td>6</td>\n",
       "      <td>https://www.wiscnews.com/news/world/virus-acce...</td>\n",
       "    </tr>\n",
       "    <tr>\n",
       "      <th>2</th>\n",
       "      <td>20200302</td>\n",
       "      <td>USA</td>\n",
       "      <td>CHN</td>\n",
       "      <td>192</td>\n",
       "      <td>20200302123000</td>\n",
       "      <td>35.0000</td>\n",
       "      <td>105.000</td>\n",
       "      <td>8</td>\n",
       "      <td>-0.351494</td>\n",
       "      <td>4</td>\n",
       "      <td>-9.5</td>\n",
       "      <td>8</td>\n",
       "      <td>https://www.thesundaily.my/opinion/birds-of-a-...</td>\n",
       "    </tr>\n",
       "    <tr>\n",
       "      <th>3</th>\n",
       "      <td>20200302</td>\n",
       "      <td>CHN</td>\n",
       "      <td>USA</td>\n",
       "      <td>15</td>\n",
       "      <td>20200302174500</td>\n",
       "      <td>35.0000</td>\n",
       "      <td>105.000</td>\n",
       "      <td>10</td>\n",
       "      <td>-18.243243</td>\n",
       "      <td>1</td>\n",
       "      <td>0.0</td>\n",
       "      <td>10</td>\n",
       "      <td>https://www.wwnytv.com/2020/03/02/robinson-ple...</td>\n",
       "    </tr>\n",
       "    <tr>\n",
       "      <th>4</th>\n",
       "      <td>20200302</td>\n",
       "      <td>USA</td>\n",
       "      <td>CHN</td>\n",
       "      <td>15</td>\n",
       "      <td>20200302174500</td>\n",
       "      <td>35.0000</td>\n",
       "      <td>105.000</td>\n",
       "      <td>4</td>\n",
       "      <td>-18.243243</td>\n",
       "      <td>1</td>\n",
       "      <td>0.0</td>\n",
       "      <td>2</td>\n",
       "      <td>https://www.wwnytv.com/2020/03/02/robinson-ple...</td>\n",
       "    </tr>\n",
       "    <tr>\n",
       "      <th>...</th>\n",
       "      <td>...</td>\n",
       "      <td>...</td>\n",
       "      <td>...</td>\n",
       "      <td>...</td>\n",
       "      <td>...</td>\n",
       "      <td>...</td>\n",
       "      <td>...</td>\n",
       "      <td>...</td>\n",
       "      <td>...</td>\n",
       "      <td>...</td>\n",
       "      <td>...</td>\n",
       "      <td>...</td>\n",
       "      <td>...</td>\n",
       "    </tr>\n",
       "    <tr>\n",
       "      <th>3620</th>\n",
       "      <td>20190416</td>\n",
       "      <td>USA</td>\n",
       "      <td>CHN</td>\n",
       "      <td>174</td>\n",
       "      <td>20200415184500</td>\n",
       "      <td>39.9289</td>\n",
       "      <td>116.388</td>\n",
       "      <td>2</td>\n",
       "      <td>-4.403048</td>\n",
       "      <td>4</td>\n",
       "      <td>-5.0</td>\n",
       "      <td>2</td>\n",
       "      <td>https://thediplomat.com/2020/04/covid-19-will-...</td>\n",
       "    </tr>\n",
       "    <tr>\n",
       "      <th>3621</th>\n",
       "      <td>20200416</td>\n",
       "      <td>USA</td>\n",
       "      <td>CHN</td>\n",
       "      <td>163</td>\n",
       "      <td>20200416081500</td>\n",
       "      <td>39.9289</td>\n",
       "      <td>116.388</td>\n",
       "      <td>1</td>\n",
       "      <td>-3.926097</td>\n",
       "      <td>4</td>\n",
       "      <td>-8.0</td>\n",
       "      <td>1</td>\n",
       "      <td>https://www.telegraph.co.uk/politics/2020/04/1...</td>\n",
       "    </tr>\n",
       "    <tr>\n",
       "      <th>3622</th>\n",
       "      <td>20200416</td>\n",
       "      <td>CHN</td>\n",
       "      <td>USA</td>\n",
       "      <td>183</td>\n",
       "      <td>20200416190000</td>\n",
       "      <td>39.9289</td>\n",
       "      <td>116.388</td>\n",
       "      <td>2</td>\n",
       "      <td>-7.387863</td>\n",
       "      <td>4</td>\n",
       "      <td>-10.0</td>\n",
       "      <td>2</td>\n",
       "      <td>https://www.taipeitimes.com/News/world/archive...</td>\n",
       "    </tr>\n",
       "    <tr>\n",
       "      <th>3623</th>\n",
       "      <td>20200317</td>\n",
       "      <td>USA</td>\n",
       "      <td>CHN</td>\n",
       "      <td>193</td>\n",
       "      <td>20200416153000</td>\n",
       "      <td>39.9289</td>\n",
       "      <td>116.388</td>\n",
       "      <td>4</td>\n",
       "      <td>-3.011204</td>\n",
       "      <td>4</td>\n",
       "      <td>-10.0</td>\n",
       "      <td>4</td>\n",
       "      <td>https://www.japantimes.co.jp/2020/04/17/</td>\n",
       "    </tr>\n",
       "    <tr>\n",
       "      <th>3624</th>\n",
       "      <td>20200415</td>\n",
       "      <td>USA</td>\n",
       "      <td>CHN</td>\n",
       "      <td>1722</td>\n",
       "      <td>20200415201500</td>\n",
       "      <td>39.9289</td>\n",
       "      <td>116.388</td>\n",
       "      <td>8</td>\n",
       "      <td>-4.015296</td>\n",
       "      <td>4</td>\n",
       "      <td>-5.0</td>\n",
       "      <td>8</td>\n",
       "      <td>https://www.breitbart.com/the-media/2020/04/15...</td>\n",
       "    </tr>\n",
       "  </tbody>\n",
       "</table>\n",
       "<p>3625 rows × 13 columns</p>\n",
       "</div>"
      ],
      "text/plain": [
       "       SQLDATE Actor1Code Actor2Code  EventCode       DATEADDED  \\\n",
       "0     20200301        CHN        USA        256  20200301200000   \n",
       "1     20200302        CHN        USA        256  20200302000000   \n",
       "2     20200302        USA        CHN        192  20200302123000   \n",
       "3     20200302        CHN        USA         15  20200302174500   \n",
       "4     20200302        USA        CHN         15  20200302174500   \n",
       "...        ...        ...        ...        ...             ...   \n",
       "3620  20190416        USA        CHN        174  20200415184500   \n",
       "3621  20200416        USA        CHN        163  20200416081500   \n",
       "3622  20200416        CHN        USA        183  20200416190000   \n",
       "3623  20200317        USA        CHN        193  20200416153000   \n",
       "3624  20200415        USA        CHN       1722  20200415201500   \n",
       "\n",
       "      ActionGeo_Lat  ActionGeo_Long  NumMentions    AvgTone  QuadClass  \\\n",
       "0           35.0000         105.000            3  -2.698023          1   \n",
       "1           35.0000         105.000            6  -2.781947          1   \n",
       "2           35.0000         105.000            8  -0.351494          4   \n",
       "3           35.0000         105.000           10 -18.243243          1   \n",
       "4           35.0000         105.000            4 -18.243243          1   \n",
       "...             ...             ...          ...        ...        ...   \n",
       "3620        39.9289         116.388            2  -4.403048          4   \n",
       "3621        39.9289         116.388            1  -3.926097          4   \n",
       "3622        39.9289         116.388            2  -7.387863          4   \n",
       "3623        39.9289         116.388            4  -3.011204          4   \n",
       "3624        39.9289         116.388            8  -4.015296          4   \n",
       "\n",
       "      GoldsteinScale  NumArticles  \\\n",
       "0               -0.3            3   \n",
       "1               -0.3            6   \n",
       "2               -9.5            8   \n",
       "3                0.0           10   \n",
       "4                0.0            2   \n",
       "...              ...          ...   \n",
       "3620            -5.0            2   \n",
       "3621            -8.0            1   \n",
       "3622           -10.0            2   \n",
       "3623           -10.0            4   \n",
       "3624            -5.0            8   \n",
       "\n",
       "                                              SOURCEURL  \n",
       "0     http://www.wboc.com/story/41836455/virus-cases...  \n",
       "1     https://www.wiscnews.com/news/world/virus-acce...  \n",
       "2     https://www.thesundaily.my/opinion/birds-of-a-...  \n",
       "3     https://www.wwnytv.com/2020/03/02/robinson-ple...  \n",
       "4     https://www.wwnytv.com/2020/03/02/robinson-ple...  \n",
       "...                                                 ...  \n",
       "3620  https://thediplomat.com/2020/04/covid-19-will-...  \n",
       "3621  https://www.telegraph.co.uk/politics/2020/04/1...  \n",
       "3622  https://www.taipeitimes.com/News/world/archive...  \n",
       "3623           https://www.japantimes.co.jp/2020/04/17/  \n",
       "3624  https://www.breitbart.com/the-media/2020/04/15...  \n",
       "\n",
       "[3625 rows x 13 columns]"
      ]
     },
     "execution_count": 3,
     "metadata": {},
     "output_type": "execute_result"
    }
   ],
   "source": [
    "us_chn_data"
   ]
  },
  {
   "cell_type": "code",
   "execution_count": 4,
   "metadata": {},
   "outputs": [],
   "source": [
    "new_data = us_chn_data.groupby('SQLDATE', as_index=False, sort=False)['GoldsteinScale'].mean()\n",
    "format_str = '%Y%m%d'\n",
    "new_data.SQLDATE = [datetime.strptime(str(x), format_str) for x in new_data.SQLDATE]\n",
    "goldstein = new_data[new_data.SQLDATE > datetime(2020,2,29)].sort_values(by=\"SQLDATE\")"
   ]
  },
  {
   "cell_type": "code",
   "execution_count": 5,
   "metadata": {},
   "outputs": [],
   "source": [
    "new_data = us_chn_data.groupby('SQLDATE', as_index=False, sort=False)['AvgTone'].mean()\n",
    "new_data.SQLDATE = [datetime.strptime(str(x), format_str) for x in new_data.SQLDATE]\n",
    "tone = new_data[new_data.SQLDATE > datetime(2020,2,29)].sort_values(by=\"SQLDATE\")"
   ]
  },
  {
   "cell_type": "code",
   "execution_count": 6,
   "metadata": {},
   "outputs": [],
   "source": [
    "total_data = pd.merge(tone, goldstein, on=\"SQLDATE\")\n",
    "total_data[\"SQLDATE\"] = pd.to_datetime(total_data[\"SQLDATE\"])"
   ]
  },
  {
   "cell_type": "code",
   "execution_count": 7,
   "metadata": {},
   "outputs": [
    {
     "data": {
      "text/html": [
       "<div>\n",
       "<style scoped>\n",
       "    .dataframe tbody tr th:only-of-type {\n",
       "        vertical-align: middle;\n",
       "    }\n",
       "\n",
       "    .dataframe tbody tr th {\n",
       "        vertical-align: top;\n",
       "    }\n",
       "\n",
       "    .dataframe thead th {\n",
       "        text-align: right;\n",
       "    }\n",
       "</style>\n",
       "<table border=\"1\" class=\"dataframe\">\n",
       "  <thead>\n",
       "    <tr style=\"text-align: right;\">\n",
       "      <th></th>\n",
       "      <th>SQLDATE</th>\n",
       "      <th>GoldsteinScale</th>\n",
       "    </tr>\n",
       "  </thead>\n",
       "  <tbody>\n",
       "    <tr>\n",
       "      <th>68</th>\n",
       "      <td>2020-04-25</td>\n",
       "      <td>1.159459</td>\n",
       "    </tr>\n",
       "    <tr>\n",
       "      <th>70</th>\n",
       "      <td>2020-04-26</td>\n",
       "      <td>1.585294</td>\n",
       "    </tr>\n",
       "    <tr>\n",
       "      <th>69</th>\n",
       "      <td>2020-04-27</td>\n",
       "      <td>0.615385</td>\n",
       "    </tr>\n",
       "    <tr>\n",
       "      <th>49</th>\n",
       "      <td>2020-04-28</td>\n",
       "      <td>-0.274026</td>\n",
       "    </tr>\n",
       "    <tr>\n",
       "      <th>50</th>\n",
       "      <td>2020-04-29</td>\n",
       "      <td>-2.288406</td>\n",
       "    </tr>\n",
       "  </tbody>\n",
       "</table>\n",
       "</div>"
      ],
      "text/plain": [
       "      SQLDATE  GoldsteinScale\n",
       "68 2020-04-25        1.159459\n",
       "70 2020-04-26        1.585294\n",
       "69 2020-04-27        0.615385\n",
       "49 2020-04-28       -0.274026\n",
       "50 2020-04-29       -2.288406"
      ]
     },
     "execution_count": 7,
     "metadata": {},
     "output_type": "execute_result"
    }
   ],
   "source": [
    "goldstein.tail()"
   ]
  },
  {
   "cell_type": "code",
   "execution_count": 8,
   "metadata": {},
   "outputs": [],
   "source": [
    "dow = pd.read_csv(\"dow.csv\")\n",
    "dow[\"Diff\"] = dow[\"Open\"] - dow[\"Close\"]\n",
    "dow[\"Date\"] = pd.to_datetime(dow[\"Date\"])"
   ]
  },
  {
   "cell_type": "code",
   "execution_count": 9,
   "metadata": {},
   "outputs": [
    {
     "data": {
      "text/html": [
       "<div>\n",
       "<style scoped>\n",
       "    .dataframe tbody tr th:only-of-type {\n",
       "        vertical-align: middle;\n",
       "    }\n",
       "\n",
       "    .dataframe tbody tr th {\n",
       "        vertical-align: top;\n",
       "    }\n",
       "\n",
       "    .dataframe thead th {\n",
       "        text-align: right;\n",
       "    }\n",
       "</style>\n",
       "<table border=\"1\" class=\"dataframe\">\n",
       "  <thead>\n",
       "    <tr style=\"text-align: right;\">\n",
       "      <th></th>\n",
       "      <th>SQLDATE</th>\n",
       "      <th>AvgTone</th>\n",
       "      <th>GoldsteinScale</th>\n",
       "      <th>Date</th>\n",
       "    </tr>\n",
       "  </thead>\n",
       "  <tbody>\n",
       "    <tr>\n",
       "      <th>0</th>\n",
       "      <td>2020-03-01</td>\n",
       "      <td>-2.669227</td>\n",
       "      <td>-1.296000</td>\n",
       "      <td>NaT</td>\n",
       "    </tr>\n",
       "    <tr>\n",
       "      <th>1</th>\n",
       "      <td>2020-03-02</td>\n",
       "      <td>-2.298869</td>\n",
       "      <td>-1.674000</td>\n",
       "      <td>2020-03-02</td>\n",
       "    </tr>\n",
       "    <tr>\n",
       "      <th>2</th>\n",
       "      <td>2020-03-03</td>\n",
       "      <td>-3.788864</td>\n",
       "      <td>-3.372414</td>\n",
       "      <td>2020-03-03</td>\n",
       "    </tr>\n",
       "    <tr>\n",
       "      <th>3</th>\n",
       "      <td>2020-03-04</td>\n",
       "      <td>-3.350338</td>\n",
       "      <td>-3.457692</td>\n",
       "      <td>2020-03-04</td>\n",
       "    </tr>\n",
       "    <tr>\n",
       "      <th>4</th>\n",
       "      <td>2020-03-05</td>\n",
       "      <td>-2.504286</td>\n",
       "      <td>0.081395</td>\n",
       "      <td>2020-03-05</td>\n",
       "    </tr>\n",
       "  </tbody>\n",
       "</table>\n",
       "</div>"
      ],
      "text/plain": [
       "     SQLDATE   AvgTone  GoldsteinScale       Date\n",
       "0 2020-03-01 -2.669227       -1.296000        NaT\n",
       "1 2020-03-02 -2.298869       -1.674000 2020-03-02\n",
       "2 2020-03-03 -3.788864       -3.372414 2020-03-03\n",
       "3 2020-03-04 -3.350338       -3.457692 2020-03-04\n",
       "4 2020-03-05 -2.504286        0.081395 2020-03-05"
      ]
     },
     "execution_count": 9,
     "metadata": {},
     "output_type": "execute_result"
    }
   ],
   "source": [
    "merging_data = pd.merge(total_data, dow[\"Date\"], how=\"left\", left_on=\"SQLDATE\", right_on=\"Date\")\n",
    "merging_data.head()"
   ]
  },
  {
   "cell_type": "code",
   "execution_count": 10,
   "metadata": {},
   "outputs": [],
   "source": [
    "def merge_column(df, cols):\n",
    "    new_df = pd.DataFrame()\n",
    "    date_match = df[\"Date\"]\n",
    "    fst_occurrence = np.where(pd.isnull(date_match))[0][0]\n",
    "    if fst_occurrence == 0:\n",
    "        true_fst_occurrence = date_match.first_valid_index()\n",
    "        df = df.iloc[true_fst_occurrence:]\n",
    "        date_match = df[\"Date\"]\n",
    "    \n",
    "    for i in cols:\n",
    "        col_value = df[i]\n",
    "        new_col = []\n",
    "        j = 0\n",
    "        while j < len(date_match):\n",
    "            n = 1\n",
    "            if (j+n) < len(date_match) and pd.isnull(date_match[j + n]):\n",
    "                total = col_value.iloc[j]\n",
    "                while (j+n) < len(date_match) and pd.isnull(date_match[j + n]):\n",
    "                    total = total + col_value.iloc[j + n]\n",
    "                    n = n + 1\n",
    "                new_col.append(total/n)\n",
    "            else:\n",
    "                new_col.append(col_value.iloc[j])\n",
    "    \n",
    "            j = j + n \n",
    "        \n",
    "        \n",
    "        new_df[i] = new_col\n",
    "\n",
    "    not_null = date_match[date_match.notnull()]\n",
    "    new_df[\"Date\"] = not_null.reset_index(drop=True)\n",
    "    \n",
    "    return new_df"
   ]
  },
  {
   "cell_type": "code",
   "execution_count": 11,
   "metadata": {},
   "outputs": [],
   "source": [
    "final_df = merge_column(merging_data, [\"GoldsteinScale\", \"AvgTone\"])"
   ]
  },
  {
   "cell_type": "code",
   "execution_count": 12,
   "metadata": {},
   "outputs": [],
   "source": [
    "final_df = pd.merge(final_df, dow, on=\"Date\")"
   ]
  },
  {
   "cell_type": "code",
   "execution_count": 13,
   "metadata": {},
   "outputs": [],
   "source": [
    "final_df.set_index('Date', inplace=True)"
   ]
  },
  {
   "cell_type": "code",
   "execution_count": 14,
   "metadata": {},
   "outputs": [],
   "source": [
    "final_df.drop([\"Open\", \"Close\", \"Low\", \"High\", \"Adj Close\", \"Volume\"], axis=1, inplace=True)"
   ]
  },
  {
   "cell_type": "code",
   "execution_count": 15,
   "metadata": {},
   "outputs": [],
   "source": [
    "def func(x):\n",
    "    if x < 0:\n",
    "        return 0 \n",
    "    if x > 0:\n",
    "        return 1 \n",
    "    return 0"
   ]
  },
  {
   "cell_type": "code",
   "execution_count": 16,
   "metadata": {},
   "outputs": [],
   "source": [
    "final_df[\"Diff\"] = final_df[\"Diff\"].apply(func)"
   ]
  },
  {
   "cell_type": "code",
   "execution_count": 17,
   "metadata": {},
   "outputs": [
    {
     "data": {
      "text/plain": [
       "GoldsteinScale    float64\n",
       "AvgTone           float64\n",
       "Diff                int64\n",
       "dtype: object"
      ]
     },
     "execution_count": 17,
     "metadata": {},
     "output_type": "execute_result"
    }
   ],
   "source": [
    "final_df.dtypes"
   ]
  },
  {
   "cell_type": "code",
   "execution_count": 18,
   "metadata": {
    "scrolled": true
   },
   "outputs": [],
   "source": [
    "final_df.Diff = final_df.Diff.shift(-1)"
   ]
  },
  {
   "cell_type": "code",
   "execution_count": 19,
   "metadata": {},
   "outputs": [],
   "source": [
    "final_df.drop(final_df.tail(1).index, inplace=True)"
   ]
  },
  {
   "cell_type": "code",
   "execution_count": 20,
   "metadata": {},
   "outputs": [
    {
     "data": {
      "text/html": [
       "<div>\n",
       "<style scoped>\n",
       "    .dataframe tbody tr th:only-of-type {\n",
       "        vertical-align: middle;\n",
       "    }\n",
       "\n",
       "    .dataframe tbody tr th {\n",
       "        vertical-align: top;\n",
       "    }\n",
       "\n",
       "    .dataframe thead th {\n",
       "        text-align: right;\n",
       "    }\n",
       "</style>\n",
       "<table border=\"1\" class=\"dataframe\">\n",
       "  <thead>\n",
       "    <tr style=\"text-align: right;\">\n",
       "      <th></th>\n",
       "      <th>GoldsteinScale</th>\n",
       "      <th>AvgTone</th>\n",
       "      <th>Diff</th>\n",
       "    </tr>\n",
       "    <tr>\n",
       "      <th>Date</th>\n",
       "      <th></th>\n",
       "      <th></th>\n",
       "      <th></th>\n",
       "    </tr>\n",
       "  </thead>\n",
       "  <tbody>\n",
       "    <tr>\n",
       "      <th>2020-03-02</th>\n",
       "      <td>-1.674000</td>\n",
       "      <td>-2.298869</td>\n",
       "      <td>1.0</td>\n",
       "    </tr>\n",
       "    <tr>\n",
       "      <th>2020-03-03</th>\n",
       "      <td>-3.372414</td>\n",
       "      <td>-3.788864</td>\n",
       "      <td>0.0</td>\n",
       "    </tr>\n",
       "    <tr>\n",
       "      <th>2020-03-04</th>\n",
       "      <td>-3.457692</td>\n",
       "      <td>-3.350338</td>\n",
       "      <td>1.0</td>\n",
       "    </tr>\n",
       "    <tr>\n",
       "      <th>2020-03-05</th>\n",
       "      <td>0.081395</td>\n",
       "      <td>-2.504286</td>\n",
       "      <td>0.0</td>\n",
       "    </tr>\n",
       "    <tr>\n",
       "      <th>2020-03-06</th>\n",
       "      <td>-1.303922</td>\n",
       "      <td>-2.169450</td>\n",
       "      <td>1.0</td>\n",
       "    </tr>\n",
       "  </tbody>\n",
       "</table>\n",
       "</div>"
      ],
      "text/plain": [
       "            GoldsteinScale   AvgTone  Diff\n",
       "Date                                      \n",
       "2020-03-02       -1.674000 -2.298869   1.0\n",
       "2020-03-03       -3.372414 -3.788864   0.0\n",
       "2020-03-04       -3.457692 -3.350338   1.0\n",
       "2020-03-05        0.081395 -2.504286   0.0\n",
       "2020-03-06       -1.303922 -2.169450   1.0"
      ]
     },
     "execution_count": 20,
     "metadata": {},
     "output_type": "execute_result"
    }
   ],
   "source": [
    "final_df.head()"
   ]
  },
  {
   "cell_type": "markdown",
   "metadata": {},
   "source": [
    "## Classifiers"
   ]
  },
  {
   "cell_type": "code",
   "execution_count": 21,
   "metadata": {},
   "outputs": [],
   "source": [
    "from sklearn.model_selection import train_test_split\n",
    "from sklearn.metrics import r2_score, accuracy_score"
   ]
  },
  {
   "cell_type": "code",
   "execution_count": 22,
   "metadata": {},
   "outputs": [],
   "source": [
    "def split(final_df):\n",
    "    X = final_df.drop(\"Diff\", axis=1)\n",
    "    Y = final_df[\"Diff\"]\n",
    "    return train_test_split(X, Y, stratify=Y, random_state=42, test_size=0.2)"
   ]
  },
  {
   "cell_type": "code",
   "execution_count": 23,
   "metadata": {},
   "outputs": [],
   "source": [
    "from sklearn.linear_model import LogisticRegression\n",
    "from sklearn.ensemble import RandomForestClassifier\n",
    "from sklearn.naive_bayes import BernoulliNB\n",
    "from sklearn.svm import SVC"
   ]
  },
  {
   "cell_type": "code",
   "execution_count": 74,
   "metadata": {},
   "outputs": [],
   "source": [
    "def rf(X_train, X_test, Y_train, Y_test):\n",
    "    forest = RandomForestClassifier(random_state=0)\n",
    "    forest.fit(X_train, Y_train)\n",
    "    predict = forest.predict(X_test)\n",
    "    accuracy = accuracy_score(Y_test, predict)\n",
    "    print(accuracy)\n",
    "    return forest, accuracy\n",
    "\n",
    "def log(X_train, X_test, Y_train, Y_test):\n",
    "    log = LogisticRegression()\n",
    "    log.fit(X_train, Y_train)\n",
    "    predict = log.predict(X_test)\n",
    "    accuracy = accuracy_score(Y_test, predict)\n",
    "    print(accuracy)\n",
    "    return log, accuracy\n",
    "\n",
    "def nb(X_train, X_test, Y_train, Y_test):\n",
    "    regr = BernoulliNB()\n",
    "    regr.fit(X_train, Y_train)\n",
    "    predict = regr.predict(X_test)\n",
    "    accuracy = accuracy_score(Y_test, predict)\n",
    "    print(accuracy)\n",
    "    return regr, accuracy\n",
    "\n",
    "def svm(X_train, X_test, Y_train, Y_test):\n",
    "    svm = SVC()\n",
    "    svm.fit(X_train, Y_train)\n",
    "    predict = svm.predict(X_test)\n",
    "    accuracy = accuracy_score(Y_test, predict)\n",
    "    print(accuracy)\n",
    "    return svm, accuracy"
   ]
  },
  {
   "cell_type": "code",
   "execution_count": 25,
   "metadata": {},
   "outputs": [],
   "source": [
    "Results = []"
   ]
  },
  {
   "cell_type": "markdown",
   "metadata": {},
   "source": [
    "## No Smoothing"
   ]
  },
  {
   "cell_type": "code",
   "execution_count": 26,
   "metadata": {},
   "outputs": [
    {
     "name": "stdout",
     "output_type": "stream",
     "text": [
      "0.4444444444444444\n",
      "0.3333333333333333\n",
      "0.4444444444444444\n",
      "0.4444444444444444\n"
     ]
    }
   ],
   "source": [
    "copy_df = final_df.copy()\n",
    "X_train, X_test, Y_train, Y_test = split(copy_df) \n",
    "\n",
    "nb_clf, acc_nb_clf = nb(X_train, X_test, Y_train, Y_test)\n",
    "log_clf, acc_log_clf = log(X_train, X_test, Y_train, Y_test)\n",
    "rf_clf, acc_rf_clf = rf(X_train, X_test, Y_train, Y_test)\n",
    "svm_clf, acc_svm_clf = svm(X_train, X_test, Y_train, Y_test)"
   ]
  },
  {
   "cell_type": "code",
   "execution_count": 27,
   "metadata": {},
   "outputs": [],
   "source": [
    "copy_df[\"prev_day\"] = copy_df[\"Diff\"].shift(1)\n",
    "copy_df.dropna(inplace=True)"
   ]
  },
  {
   "cell_type": "code",
   "execution_count": 28,
   "metadata": {
    "scrolled": true
   },
   "outputs": [
    {
     "name": "stdout",
     "output_type": "stream",
     "text": [
      "0.75\n",
      "0.75\n",
      "0.625\n",
      "0.625\n"
     ]
    }
   ],
   "source": [
    "X_train, X_test, Y_train, Y_test = split(copy_df) \n",
    "\n",
    "nb_clf_p, acc_nb_clf_p = nb(X_train, X_test, Y_train, Y_test)\n",
    "log_clf_p, acc_log_clf_p = log(X_train, X_test, Y_train, Y_test)\n",
    "rf_clf_p, acc_rf_clf_p = rf(X_train, X_test, Y_train, Y_test)\n",
    "svm_clf_p, acc_svm_clf_p = svm(X_train, X_test, Y_train, Y_test)"
   ]
  },
  {
   "cell_type": "code",
   "execution_count": 29,
   "metadata": {},
   "outputs": [],
   "source": [
    "Results = Results + ([\n",
    "    (\"nb_clf_p\", nb_clf_p, acc_nb_clf_p), \n",
    "    (\"log_clf_p\", log_clf_p, acc_log_clf_p), \n",
    "    (\"rf_clf_p\", rf_clf_p, acc_rf_clf_p), \n",
    "    (\"svm_clf_p\", svm_clf_p, acc_svm_clf_p)\n",
    "])"
   ]
  },
  {
   "cell_type": "markdown",
   "metadata": {},
   "source": [
    "## Using average lag, so each day is weighted the same"
   ]
  },
  {
   "cell_type": "code",
   "execution_count": 61,
   "metadata": {},
   "outputs": [],
   "source": [
    "copy_df = final_df.copy()\n",
    "k=3\n",
    "copy_df.GoldsteinScale = copy_df[\"GoldsteinScale\"].rolling(k).mean()\n",
    "copy_df.AvgTone = copy_df[\"AvgTone\"].rolling(k).mean()\n",
    "copy_df.drop(final_df.head(k-1).index, inplace=True)"
   ]
  },
  {
   "cell_type": "code",
   "execution_count": 31,
   "metadata": {},
   "outputs": [
    {
     "name": "stdout",
     "output_type": "stream",
     "text": [
      "0.625\n",
      "0.25\n",
      "0.625\n",
      "0.5\n"
     ]
    }
   ],
   "source": [
    "X_train, X_test, Y_train, Y_test = split(copy_df) \n",
    "\n",
    "nb_clf_a, acc_nb_clf_a = nb(X_train, X_test, Y_train, Y_test)\n",
    "log_clf_a, acc_log_clf_a = log(X_train, X_test, Y_train, Y_test)\n",
    "rf_clf_a, acc_rf_clf_a = rf(X_train, X_test, Y_train, Y_test)\n",
    "svm_clf_a, acc_svm_clf_a = svm(X_train, X_test, Y_train, Y_test)"
   ]
  },
  {
   "cell_type": "code",
   "execution_count": 62,
   "metadata": {},
   "outputs": [],
   "source": [
    "copy_df[\"prev_day\"] = copy_df[\"Diff\"].shift(1)\n",
    "copy_df.dropna(inplace=True)"
   ]
  },
  {
   "cell_type": "code",
   "execution_count": 65,
   "metadata": {
    "scrolled": true
   },
   "outputs": [
    {
     "name": "stdout",
     "output_type": "stream",
     "text": [
      "0.625\n",
      "0.625\n",
      "0.75\n",
      "0.625\n"
     ]
    }
   ],
   "source": [
    "X_train, X_test, Y_train, Y_test = split(copy_df) \n",
    "\n",
    "a_nb_clf_p, acc_a_nb_clf_p = nb(X_train, X_test, Y_train, Y_test)\n",
    "a_log_clf_p, acc_a_log_clf_p = log(X_train, X_test, Y_train, Y_test)\n",
    "a_rf_clf_p, acc_a_rf_clf_p = rf(X_train, X_test, Y_train, Y_test)\n",
    "a_svm_clf_p, acc_a_svm_clf_p = svm(X_train, X_test, Y_train, Y_test)"
   ]
  },
  {
   "cell_type": "code",
   "execution_count": 34,
   "metadata": {},
   "outputs": [],
   "source": [
    "Results = Results + ([\n",
    "\n",
    "(\"a_nb_clf_p\", a_nb_clf_p, acc_a_nb_clf_p),\n",
    "(\"a_log_clf_p\", a_log_clf_p, acc_a_log_clf_p),\n",
    "(\"a_rf_clf_p\", a_rf_clf_p, acc_a_rf_clf_p),\n",
    "(\"a_svm_clf_p\", a_svm_clf_p, acc_a_svm_clf_p)\n",
    "\n",
    "]) "
   ]
  },
  {
   "cell_type": "markdown",
   "metadata": {},
   "source": [
    "## Using Gaussian smoothing so effect of x days is prevalent, but not the same"
   ]
  },
  {
   "cell_type": "code",
   "execution_count": 35,
   "metadata": {},
   "outputs": [],
   "source": [
    "from scipy.stats import norm\n",
    "import math\n",
    "\n",
    "def half_gaussian_convolution(input):\n",
    "    normal_weighting = norm.pdf(np.array(range(-len(input) + 1, 1)), scale=(len(input) - 1) / 1.6448536269514722)\n",
    "    normal_weighting = normal_weighting / np.sum(normal_weighting)\n",
    "    return np.sum(normal_weighting * input)\n"
   ]
  },
  {
   "cell_type": "code",
   "execution_count": 36,
   "metadata": {},
   "outputs": [],
   "source": [
    "k=3 \n",
    "gauss_df = final_df.copy()\n",
    "gauss_df.GoldsteinScale = gauss_df[\"GoldsteinScale\"].rolling(k).apply(func=half_gaussian_convolution)\n",
    "gauss_df.AvgTone = gauss_df[\"AvgTone\"].rolling(k).apply(func=half_gaussian_convolution)\n",
    "gauss_df.dropna(inplace=True)"
   ]
  },
  {
   "cell_type": "code",
   "execution_count": 37,
   "metadata": {},
   "outputs": [
    {
     "name": "stdout",
     "output_type": "stream",
     "text": [
      "0.375\n",
      "0.25\n",
      "0.5\n",
      "0.5\n"
     ]
    }
   ],
   "source": [
    "X_train, X_test, Y_train, Y_test = split(gauss_df) \n",
    "\n",
    "nb_clf_g, acc_nb_clf_g = nb(X_train, X_test, Y_train, Y_test)\n",
    "log_clf_g, acc_log_clf_g = log(X_train, X_test, Y_train, Y_test)\n",
    "rf_clf_g, acc_rf_clf_g = rf(X_train, X_test, Y_train, Y_test)\n",
    "svm_clf_g, acc_svm_clf_g = svm(X_train, X_test, Y_train, Y_test)"
   ]
  },
  {
   "cell_type": "code",
   "execution_count": 38,
   "metadata": {},
   "outputs": [],
   "source": [
    "gauss_df[\"prev_day\"] = gauss_df[\"Diff\"].shift(1)\n",
    "gauss_df.dropna(inplace=True)"
   ]
  },
  {
   "cell_type": "code",
   "execution_count": 52,
   "metadata": {},
   "outputs": [
    {
     "name": "stdout",
     "output_type": "stream",
     "text": [
      "0.625\n",
      "0.625\n",
      "0.75\n",
      "0.625\n"
     ]
    }
   ],
   "source": [
    "X_train, X_test, Y_train, Y_test = split(gauss_df) \n",
    "\n",
    "g_nb_clf_p, acc_g_nb_clf_p = nb(X_train, X_test, Y_train, Y_test)\n",
    "g_log_clf_p, acc_g_log_clf_p = log(X_train, X_test, Y_train, Y_test)\n",
    "g_rf_clf_p, acc_g_rf_clf_p = rf(X_train, X_test, Y_train, Y_test)\n",
    "g_svm_clf_p, acc_g_svm_clf_p = svm(X_train, X_test, Y_train, Y_test)"
   ]
  },
  {
   "cell_type": "code",
   "execution_count": 40,
   "metadata": {},
   "outputs": [],
   "source": [
    "Results = Results + ([\n",
    "\n",
    "(\"g_nb_clf_p\", g_nb_clf_p, acc_g_nb_clf_p),\n",
    "(\"g_log_clf_p\", g_log_clf_p, acc_g_log_clf_p),\n",
    "(\"g_rf_clf_p\", g_rf_clf_p, acc_g_rf_clf_p),\n",
    "(\"g_svm_clf_p\", g_svm_clf_p, acc_g_svm_clf_p)\n",
    "\n",
    "]) "
   ]
  },
  {
   "cell_type": "markdown",
   "metadata": {},
   "source": [
    "## Exponential Smoothing"
   ]
  },
  {
   "cell_type": "code",
   "execution_count": 41,
   "metadata": {},
   "outputs": [],
   "source": [
    "from statsmodels.tsa.api import ExponentialSmoothing, SimpleExpSmoothing, Holt"
   ]
  },
  {
   "cell_type": "code",
   "execution_count": 42,
   "metadata": {},
   "outputs": [],
   "source": [
    "exp_smooth = final_df.copy()"
   ]
  },
  {
   "cell_type": "code",
   "execution_count": 43,
   "metadata": {},
   "outputs": [],
   "source": [
    "exp_smooth.GoldsteinScale = exp_smooth.GoldsteinScale.ewm(span=3).mean()\n",
    "exp_smooth.AvgTone = exp_smooth.AvgTone.ewm(span=3).mean()"
   ]
  },
  {
   "cell_type": "code",
   "execution_count": 44,
   "metadata": {},
   "outputs": [
    {
     "name": "stdout",
     "output_type": "stream",
     "text": [
      "0.4444444444444444\n",
      "0.4444444444444444\n",
      "0.2222222222222222\n",
      "0.4444444444444444\n"
     ]
    }
   ],
   "source": [
    "X_train, X_test, Y_train, Y_test = split(exp_smooth) \n",
    "\n",
    "nb_clf_e, acc_nb_clf_e = nb(X_train, X_test, Y_train, Y_test)\n",
    "log_clf_e, acc_log_clf_e = log(X_train, X_test, Y_train, Y_test)\n",
    "rf_clf_e, acc_rf_clf_e = rf(X_train, X_test, Y_train, Y_test)\n",
    "svm_clf_e, acc_svm_clf_e = svm(X_train, X_test, Y_train, Y_test)"
   ]
  },
  {
   "cell_type": "code",
   "execution_count": 45,
   "metadata": {},
   "outputs": [],
   "source": [
    "exp_smooth[\"prev_day\"] = exp_smooth[\"Diff\"].shift(1)\n",
    "exp_smooth.dropna(inplace=True)"
   ]
  },
  {
   "cell_type": "code",
   "execution_count": 77,
   "metadata": {},
   "outputs": [
    {
     "name": "stdout",
     "output_type": "stream",
     "text": [
      "0.75\n",
      "0.75\n",
      "0.625\n",
      "0.625\n"
     ]
    }
   ],
   "source": [
    "X_train, X_test, Y_train, Y_test = split(exp_smooth) \n",
    "\n",
    "e_nb_clf_p, acc_e_nb_clf_p = nb(X_train, X_test, Y_train, Y_test)\n",
    "e_log_clf_p, acc_e_log_clf_p = log(X_train, X_test, Y_train, Y_test)\n",
    "e_rf_clf_p, acc_e_rf_clf_p = rf(X_train, X_test, Y_train, Y_test)\n",
    "e_svm_clf_p, acc_e_svm_clf_p = svm(X_train, X_test, Y_train, Y_test)"
   ]
  },
  {
   "cell_type": "code",
   "execution_count": 49,
   "metadata": {},
   "outputs": [],
   "source": [
    "Results = Results + ([\n",
    "\n",
    "(\"e_nb_clf_p\", e_nb_clf_p, acc_e_nb_clf_p),\n",
    "(\"e_log_clf_p\", e_log_clf_p, acc_e_log_clf_p),\n",
    "(\"e_rf_clf_p\", e_rf_clf_p, acc_e_rf_clf_p),\n",
    "(\"e_svm_clf_p\", e_svm_clf_p, acc_e_svm_clf_p)\n",
    "\n",
    "])"
   ]
  },
  {
   "cell_type": "markdown",
   "metadata": {},
   "source": [
    "## Neural Net"
   ]
  },
  {
   "cell_type": "code",
   "execution_count": 101,
   "metadata": {},
   "outputs": [],
   "source": [
    "import tensorflow as tf\n",
    "from tensorflow import keras"
   ]
  },
  {
   "cell_type": "code",
   "execution_count": 102,
   "metadata": {},
   "outputs": [],
   "source": [
    "from tensorflow.keras.layers import *"
   ]
  },
  {
   "cell_type": "code",
   "execution_count": 103,
   "metadata": {},
   "outputs": [],
   "source": [
    "tf.random.set_seed(42)"
   ]
  },
  {
   "cell_type": "code",
   "execution_count": 104,
   "metadata": {},
   "outputs": [],
   "source": [
    "nn_df = final_df.copy()"
   ]
  },
  {
   "cell_type": "code",
   "execution_count": 105,
   "metadata": {},
   "outputs": [],
   "source": [
    "nn_df[\"Diff\"] = [int(i) for i in nn_df[\"Diff\"]]"
   ]
  },
  {
   "cell_type": "code",
   "execution_count": 106,
   "metadata": {},
   "outputs": [],
   "source": [
    "nn_df[\"prev_day\"] = nn_df[\"Diff\"].shift(1)\n",
    "nn_df.dropna(inplace=True)"
   ]
  },
  {
   "cell_type": "code",
   "execution_count": 107,
   "metadata": {},
   "outputs": [],
   "source": [
    "X_train, X_test, Y_train, Y_test = split(nn_df) "
   ]
  },
  {
   "cell_type": "code",
   "execution_count": 108,
   "metadata": {},
   "outputs": [],
   "source": [
    "model = keras.Sequential()"
   ]
  },
  {
   "cell_type": "code",
   "execution_count": null,
   "metadata": {
    "scrolled": true
   },
   "outputs": [],
   "source": [
    "model.add(keras.layers.Input(shape=X_train.shape[1:]))\n",
    "model.add(keras.layers.Dense(128, activation='relu'))\n",
    "model.add(keras.layers.Dense(128, activation='relu'))\n",
    "model.add(keras.layers.Dense(1, activation='sigmoid'))"
   ]
  },
  {
   "cell_type": "code",
   "execution_count": null,
   "metadata": {},
   "outputs": [],
   "source": [
    "model.summary()"
   ]
  },
  {
   "cell_type": "code",
   "execution_count": null,
   "metadata": {},
   "outputs": [],
   "source": [
    "from tensorflow.keras.optimizers import *"
   ]
  },
  {
   "cell_type": "code",
   "execution_count": null,
   "metadata": {},
   "outputs": [],
   "source": [
    "model.compile(\n",
    "    optimizer=keras.optimizers.SGD(),\n",
    "    loss=keras.losses.BinaryCrossentropy(),\n",
    "    metrics=[\"accuracy\"],\n",
    ")"
   ]
  },
  {
   "cell_type": "code",
   "execution_count": null,
   "metadata": {},
   "outputs": [],
   "source": [
    "history = model.fit(\n",
    "    X_train,\n",
    "    Y_train,\n",
    "    epochs=30,\n",
    "    verbose=0,\n",
    "#     validation_data=(X_test, Y_test),\n",
    ")"
   ]
  },
  {
   "cell_type": "code",
   "execution_count": null,
   "metadata": {},
   "outputs": [],
   "source": [
    "model.evaluate(X_test, Y_test)"
   ]
  },
  {
   "cell_type": "code",
   "execution_count": null,
   "metadata": {},
   "outputs": [],
   "source": [
    "Results.append((\"nn\", model, 0.5))"
   ]
  },
  {
   "cell_type": "markdown",
   "metadata": {},
   "source": [
    "## Manual Lagging"
   ]
  },
  {
   "cell_type": "code",
   "execution_count": 153,
   "metadata": {},
   "outputs": [],
   "source": [
    "man_lag = final_df.copy()\n",
    "\n",
    "for i in [\"GoldsteinScale\", \"AvgTone\"]:\n",
    "    for j in range(1,5):\n",
    "        man_lag[i + str(j)] = man_lag[i].shift(j)"
   ]
  },
  {
   "cell_type": "code",
   "execution_count": 154,
   "metadata": {},
   "outputs": [],
   "source": [
    "man_lag.dropna(inplace=True)"
   ]
  },
  {
   "cell_type": "code",
   "execution_count": 155,
   "metadata": {},
   "outputs": [],
   "source": [
    "from statsmodels.regression.linear_model import OLS"
   ]
  },
  {
   "cell_type": "code",
   "execution_count": 156,
   "metadata": {},
   "outputs": [
    {
     "name": "stdout",
     "output_type": "stream",
     "text": [
      "0.375\n",
      "0.25\n",
      "0.25\n",
      "0.375\n"
     ]
    }
   ],
   "source": [
    "X_train, X_test, Y_train, Y_test = split(man_lag) \n",
    "\n",
    "nb_clf_man, acc_nb_clf_man = nb(X_train, X_test, Y_train, Y_test)\n",
    "log_clf_man, acc_log_clf_man = log(X_train, X_test, Y_train, Y_test)\n",
    "rf_clf_man, acc_rf_clf_man = rf(X_train, X_test, Y_train, Y_test)\n",
    "svm_clf_man, acc_svm_clf_man = svm(X_train, X_test, Y_train, Y_test)"
   ]
  },
  {
   "cell_type": "code",
   "execution_count": 157,
   "metadata": {},
   "outputs": [],
   "source": [
    "man_lag[\"prev_day\"] = man_lag[\"Diff\"].shift(1)\n",
    "man_lag.dropna(inplace=True)"
   ]
  },
  {
   "cell_type": "code",
   "execution_count": 158,
   "metadata": {},
   "outputs": [
    {
     "name": "stdout",
     "output_type": "stream",
     "text": [
      "0.5\n",
      "0.5\n",
      "0.625\n",
      "0.375\n"
     ]
    }
   ],
   "source": [
    "X_train, X_test, Y_train, Y_test = split(man_lag) \n",
    "\n",
    "man_nb_clf_p, acc_man_nb_clf_p = nb(X_train, X_test, Y_train, Y_test)\n",
    "man_log_clf_p, acc_man_log_clf_p = log(X_train, X_test, Y_train, Y_test)\n",
    "man_rf_clf_p, acc_man_rf_clf_p = rf(X_train, X_test, Y_train, Y_test)\n",
    "man_svm_clf_p, acc_man_svm_clf_p = svm(X_train, X_test, Y_train, Y_test)"
   ]
  },
  {
   "cell_type": "code",
   "execution_count": 159,
   "metadata": {},
   "outputs": [],
   "source": [
    "Results = Results + ([\n",
    "\n",
    "(\"man_nb_clf_p\", man_nb_clf_p, acc_man_nb_clf_p),\n",
    "(\"man_log_clf_p\", man_log_clf_p, acc_man_log_clf_p),\n",
    "(\"man_rf_clf_p\", man_rf_clf_p, acc_man_rf_clf_p),\n",
    "(\"man_svm_clf_p\", man_svm_clf_p, acc_man_svm_clf_p)\n",
    "\n",
    "])\n"
   ]
  },
  {
   "cell_type": "markdown",
   "metadata": {},
   "source": [
    "## OLS"
   ]
  },
  {
   "cell_type": "code",
   "execution_count": 183,
   "metadata": {
    "scrolled": true
   },
   "outputs": [],
   "source": [
    "ols = OLS(Y_train, X_train)"
   ]
  },
  {
   "cell_type": "code",
   "execution_count": 184,
   "metadata": {},
   "outputs": [],
   "source": [
    "res = ols.fit()"
   ]
  },
  {
   "cell_type": "code",
   "execution_count": 185,
   "metadata": {},
   "outputs": [
    {
     "data": {
      "text/plain": [
       "GoldsteinScale    -0.051478\n",
       "AvgTone           -0.255230\n",
       "GoldsteinScale1   -0.057975\n",
       "GoldsteinScale2   -0.006400\n",
       "GoldsteinScale3    0.094149\n",
       "GoldsteinScale4    0.018423\n",
       "AvgTone1           0.311692\n",
       "AvgTone2          -0.099537\n",
       "AvgTone3          -0.336495\n",
       "AvgTone4           0.156176\n",
       "prev_day          -0.575584\n",
       "dtype: float64"
      ]
     },
     "execution_count": 185,
     "metadata": {},
     "output_type": "execute_result"
    }
   ],
   "source": [
    "res.params"
   ]
  },
  {
   "cell_type": "code",
   "execution_count": 186,
   "metadata": {},
   "outputs": [
    {
     "data": {
      "text/html": [
       "<table class=\"simpletable\">\n",
       "<caption>OLS Regression Results</caption>\n",
       "<tr>\n",
       "  <th>Dep. Variable:</th>          <td>Diff</td>       <th>  R-squared (uncentered):</th>      <td>   0.735</td>\n",
       "</tr>\n",
       "<tr>\n",
       "  <th>Model:</th>                   <td>OLS</td>       <th>  Adj. R-squared (uncentered):</th> <td>   0.563</td>\n",
       "</tr>\n",
       "<tr>\n",
       "  <th>Method:</th>             <td>Least Squares</td>  <th>  F-statistic:       </th>          <td>   4.280</td>\n",
       "</tr>\n",
       "<tr>\n",
       "  <th>Date:</th>             <td>Wed, 29 Jul 2020</td> <th>  Prob (F-statistic):</th>           <td>0.00375</td>\n",
       "</tr>\n",
       "<tr>\n",
       "  <th>Time:</th>                 <td>15:41:52</td>     <th>  Log-Likelihood:    </th>          <td> -11.449</td>\n",
       "</tr>\n",
       "<tr>\n",
       "  <th>No. Observations:</th>      <td>    28</td>      <th>  AIC:               </th>          <td>   44.90</td>\n",
       "</tr>\n",
       "<tr>\n",
       "  <th>Df Residuals:</th>          <td>    17</td>      <th>  BIC:               </th>          <td>   59.55</td>\n",
       "</tr>\n",
       "<tr>\n",
       "  <th>Df Model:</th>              <td>    11</td>      <th>                     </th>              <td> </td>   \n",
       "</tr>\n",
       "<tr>\n",
       "  <th>Covariance Type:</th>      <td>nonrobust</td>    <th>                     </th>              <td> </td>   \n",
       "</tr>\n",
       "</table>\n",
       "<table class=\"simpletable\">\n",
       "<tr>\n",
       "         <td></td>            <th>coef</th>     <th>std err</th>      <th>t</th>      <th>P>|t|</th>  <th>[0.025</th>    <th>0.975]</th>  \n",
       "</tr>\n",
       "<tr>\n",
       "  <th>GoldsteinScale</th>  <td>   -0.0515</td> <td>    0.115</td> <td>   -0.446</td> <td> 0.661</td> <td>   -0.295</td> <td>    0.192</td>\n",
       "</tr>\n",
       "<tr>\n",
       "  <th>AvgTone</th>         <td>   -0.2552</td> <td>    0.190</td> <td>   -1.345</td> <td> 0.196</td> <td>   -0.656</td> <td>    0.145</td>\n",
       "</tr>\n",
       "<tr>\n",
       "  <th>GoldsteinScale1</th> <td>   -0.0580</td> <td>    0.100</td> <td>   -0.578</td> <td> 0.571</td> <td>   -0.270</td> <td>    0.154</td>\n",
       "</tr>\n",
       "<tr>\n",
       "  <th>GoldsteinScale2</th> <td>   -0.0064</td> <td>    0.107</td> <td>   -0.060</td> <td> 0.953</td> <td>   -0.233</td> <td>    0.220</td>\n",
       "</tr>\n",
       "<tr>\n",
       "  <th>GoldsteinScale3</th> <td>    0.0941</td> <td>    0.098</td> <td>    0.956</td> <td> 0.352</td> <td>   -0.114</td> <td>    0.302</td>\n",
       "</tr>\n",
       "<tr>\n",
       "  <th>GoldsteinScale4</th> <td>    0.0184</td> <td>    0.097</td> <td>    0.191</td> <td> 0.851</td> <td>   -0.185</td> <td>    0.222</td>\n",
       "</tr>\n",
       "<tr>\n",
       "  <th>AvgTone1</th>        <td>    0.3117</td> <td>    0.223</td> <td>    1.396</td> <td> 0.181</td> <td>   -0.159</td> <td>    0.783</td>\n",
       "</tr>\n",
       "<tr>\n",
       "  <th>AvgTone2</th>        <td>   -0.0995</td> <td>    0.212</td> <td>   -0.470</td> <td> 0.644</td> <td>   -0.546</td> <td>    0.347</td>\n",
       "</tr>\n",
       "<tr>\n",
       "  <th>AvgTone3</th>        <td>   -0.3365</td> <td>    0.218</td> <td>   -1.543</td> <td> 0.141</td> <td>   -0.797</td> <td>    0.124</td>\n",
       "</tr>\n",
       "<tr>\n",
       "  <th>AvgTone4</th>        <td>    0.1562</td> <td>    0.175</td> <td>    0.893</td> <td> 0.385</td> <td>   -0.213</td> <td>    0.525</td>\n",
       "</tr>\n",
       "<tr>\n",
       "  <th>prev_day</th>        <td>   -0.5756</td> <td>    0.196</td> <td>   -2.931</td> <td> 0.009</td> <td>   -0.990</td> <td>   -0.161</td>\n",
       "</tr>\n",
       "</table>\n",
       "<table class=\"simpletable\">\n",
       "<tr>\n",
       "  <th>Omnibus:</th>       <td> 0.557</td> <th>  Durbin-Watson:     </th> <td>   1.789</td>\n",
       "</tr>\n",
       "<tr>\n",
       "  <th>Prob(Omnibus):</th> <td> 0.757</td> <th>  Jarque-Bera (JB):  </th> <td>   0.537</td>\n",
       "</tr>\n",
       "<tr>\n",
       "  <th>Skew:</th>          <td>-0.296</td> <th>  Prob(JB):          </th> <td>   0.764</td>\n",
       "</tr>\n",
       "<tr>\n",
       "  <th>Kurtosis:</th>      <td> 2.667</td> <th>  Cond. No.          </th> <td>    26.5</td>\n",
       "</tr>\n",
       "</table><br/><br/>Warnings:<br/>[1] Standard Errors assume that the covariance matrix of the errors is correctly specified."
      ],
      "text/plain": [
       "<class 'statsmodels.iolib.summary.Summary'>\n",
       "\"\"\"\n",
       "                                 OLS Regression Results                                \n",
       "=======================================================================================\n",
       "Dep. Variable:                   Diff   R-squared (uncentered):                   0.735\n",
       "Model:                            OLS   Adj. R-squared (uncentered):              0.563\n",
       "Method:                 Least Squares   F-statistic:                              4.280\n",
       "Date:                Wed, 29 Jul 2020   Prob (F-statistic):                     0.00375\n",
       "Time:                        15:41:52   Log-Likelihood:                         -11.449\n",
       "No. Observations:                  28   AIC:                                      44.90\n",
       "Df Residuals:                      17   BIC:                                      59.55\n",
       "Df Model:                          11                                                  \n",
       "Covariance Type:            nonrobust                                                  \n",
       "===================================================================================\n",
       "                      coef    std err          t      P>|t|      [0.025      0.975]\n",
       "-----------------------------------------------------------------------------------\n",
       "GoldsteinScale     -0.0515      0.115     -0.446      0.661      -0.295       0.192\n",
       "AvgTone            -0.2552      0.190     -1.345      0.196      -0.656       0.145\n",
       "GoldsteinScale1    -0.0580      0.100     -0.578      0.571      -0.270       0.154\n",
       "GoldsteinScale2    -0.0064      0.107     -0.060      0.953      -0.233       0.220\n",
       "GoldsteinScale3     0.0941      0.098      0.956      0.352      -0.114       0.302\n",
       "GoldsteinScale4     0.0184      0.097      0.191      0.851      -0.185       0.222\n",
       "AvgTone1            0.3117      0.223      1.396      0.181      -0.159       0.783\n",
       "AvgTone2           -0.0995      0.212     -0.470      0.644      -0.546       0.347\n",
       "AvgTone3           -0.3365      0.218     -1.543      0.141      -0.797       0.124\n",
       "AvgTone4            0.1562      0.175      0.893      0.385      -0.213       0.525\n",
       "prev_day           -0.5756      0.196     -2.931      0.009      -0.990      -0.161\n",
       "==============================================================================\n",
       "Omnibus:                        0.557   Durbin-Watson:                   1.789\n",
       "Prob(Omnibus):                  0.757   Jarque-Bera (JB):                0.537\n",
       "Skew:                          -0.296   Prob(JB):                        0.764\n",
       "Kurtosis:                       2.667   Cond. No.                         26.5\n",
       "==============================================================================\n",
       "\n",
       "Warnings:\n",
       "[1] Standard Errors assume that the covariance matrix of the errors is correctly specified.\n",
       "\"\"\""
      ]
     },
     "execution_count": 186,
     "metadata": {},
     "output_type": "execute_result"
    }
   ],
   "source": [
    "res.summary()"
   ]
  },
  {
   "cell_type": "code",
   "execution_count": null,
   "metadata": {},
   "outputs": [],
   "source": [
    "res.predict(X_test)"
   ]
  },
  {
   "cell_type": "code",
   "execution_count": null,
   "metadata": {},
   "outputs": [],
   "source": [
    "Y_test"
   ]
  },
  {
   "cell_type": "markdown",
   "metadata": {},
   "source": [
    "## Calculating the Best Model"
   ]
  },
  {
   "cell_type": "code",
   "execution_count": 168,
   "metadata": {},
   "outputs": [],
   "source": [
    "sort = sorted(Results, key=lambda x: x[2], reverse=True)"
   ]
  },
  {
   "cell_type": "code",
   "execution_count": 161,
   "metadata": {},
   "outputs": [
    {
     "data": {
      "text/plain": [
       "[0.75,\n",
       " 0.75,\n",
       " 0.75,\n",
       " 0.75,\n",
       " 0.75,\n",
       " 0.75,\n",
       " 0.75,\n",
       " 0.625,\n",
       " 0.625,\n",
       " 0.625,\n",
       " 0.625,\n",
       " 0.625,\n",
       " 0.625,\n",
       " 0.625,\n",
       " 0.625,\n",
       " 0.625,\n",
       " 0.625,\n",
       " 0.5,\n",
       " 0.5,\n",
       " 0.375]"
      ]
     },
     "execution_count": 161,
     "metadata": {},
     "output_type": "execute_result"
    }
   ],
   "source": [
    "[i[2] for i in sort]"
   ]
  },
  {
   "cell_type": "code",
   "execution_count": 162,
   "metadata": {},
   "outputs": [],
   "source": [
    "sort = sort[0:6]"
   ]
  },
  {
   "cell_type": "code",
   "execution_count": 163,
   "metadata": {},
   "outputs": [
    {
     "data": {
      "text/plain": [
       "['nb_clf_p',\n",
       " 'log_clf_p',\n",
       " 'a_rf_clf_p',\n",
       " 'g_rf_clf_p',\n",
       " 'e_nb_clf_p',\n",
       " 'e_log_clf_p']"
      ]
     },
     "execution_count": 163,
     "metadata": {},
     "output_type": "execute_result"
    }
   ],
   "source": [
    "[i[0] for i in sort]"
   ]
  },
  {
   "cell_type": "markdown",
   "metadata": {},
   "source": [
    "I pick the gaussian smoothed random forest. Random forests did well in all examples, and if the results are tied (although on a tiny sample size) I will pick the classifier with the best overall result"
   ]
  },
  {
   "cell_type": "code",
   "execution_count": 206,
   "metadata": {},
   "outputs": [],
   "source": [
    "results = pd.DataFrame([(str(i[0]), i[2]) for i in sort], columns=['Classifier', 'Accuracy',])"
   ]
  },
  {
   "cell_type": "code",
   "execution_count": 207,
   "metadata": {},
   "outputs": [],
   "source": [
    "results.Classifier = results.Classifier.str.replace(\"_clf_p\", \"\")\n",
    "results.Classifier = results.Classifier.str.replace(\"a_\", \"Averaged \")\n",
    "results.Classifier = results.Classifier.str.replace(\"g_\", \"Gaussian Averaged \")\n",
    "results.Classifier = results.Classifier.str.replace(\"e_\", \"Exponential \")\n",
    "results.Classifier = results.Classifier.str.replace(\"man_\", \"Manually 4 day lagged \")\n",
    "\n",
    "\n",
    "results.Classifier = results.Classifier.str.replace(\"nb\", \"Naive Bayes\")\n",
    "results.Classifier = results.Classifier.str.replace(\"rf\", \"Random Forests\")\n",
    "results.Classifier = results.Classifier.str.replace(\"log\", \"Logistic Regression\")\n",
    "results.Classifier = results.Classifier.str.replace(\"svm\", \"Support Vector Machine\")"
   ]
  },
  {
   "cell_type": "code",
   "execution_count": 204,
   "metadata": {},
   "outputs": [],
   "source": [
    "results = results.sort_values('Classifier', ascending=False)"
   ]
  },
  {
   "cell_type": "code",
   "execution_count": 208,
   "metadata": {},
   "outputs": [
    {
     "name": "stdout",
     "output_type": "stream",
     "text": [
      "\\begin{tabular}{lr}\n",
      "\\toprule\n",
      "                                   Classifier &  Accuracy \\\\\n",
      "\\midrule\n",
      "                                  Naive Bayes &     0.750 \\\\\n",
      "                          Logistic Regression &     0.750 \\\\\n",
      "                      Averaged Random Forests &     0.750 \\\\\n",
      "             Gaussian Averaged Random Forests &     0.750 \\\\\n",
      "                      Exponential Naive Bayes &     0.750 \\\\\n",
      "              Exponential Logistic Regression &     0.750 \\\\\n",
      "                   Exponential Random Forests &     0.750 \\\\\n",
      "                               Random Forests &     0.625 \\\\\n",
      "                       Support Vector Machine &     0.625 \\\\\n",
      "                         Averaged Naive Bayes &     0.625 \\\\\n",
      "                 Averaged Logistic Regression &     0.625 \\\\\n",
      "              Averaged Support Vector Machine &     0.625 \\\\\n",
      "                Gaussian Averaged Naive Bayes &     0.625 \\\\\n",
      "        Gaussian Averaged Logistic Regression &     0.625 \\\\\n",
      "     Gaussian Averaged Support Vector Machine &     0.625 \\\\\n",
      "           Exponential Support Vector Machine &     0.625 \\\\\n",
      "         Manually 4 day lagged Random Forests &     0.625 \\\\\n",
      "            Manually 4 day lagged Naive Bayes &     0.500 \\\\\n",
      "    Manually 4 day lagged Logistic Regression &     0.500 \\\\\n",
      " Manually 4 day lagged Support Vector Machine &     0.375 \\\\\n",
      "\\bottomrule\n",
      "\\end{tabular}\n",
      "\n"
     ]
    },
    {
     "data": {
      "text/plain": [
       "(None,)"
      ]
     },
     "execution_count": 208,
     "metadata": {},
     "output_type": "execute_result"
    }
   ],
   "source": [
    "print(results.to_latex(index=False)),"
   ]
  },
  {
   "cell_type": "code",
   "execution_count": 224,
   "metadata": {},
   "outputs": [],
   "source": [
    "best_model = e_rf_clf_p"
   ]
  },
  {
   "cell_type": "markdown",
   "metadata": {},
   "source": [
    "## Reference model, using just previous day"
   ]
  },
  {
   "cell_type": "code",
   "execution_count": 211,
   "metadata": {},
   "outputs": [],
   "source": [
    "ref_df = final_df.copy()"
   ]
  },
  {
   "cell_type": "code",
   "execution_count": 212,
   "metadata": {},
   "outputs": [],
   "source": [
    "ref_df[\"prev_day\"] = ref_df[\"Diff\"].shift(1)\n",
    "ref_df.dropna(inplace=True)"
   ]
  },
  {
   "cell_type": "code",
   "execution_count": 213,
   "metadata": {},
   "outputs": [
    {
     "data": {
      "text/plain": [
       "RandomForestClassifier(bootstrap=True, ccp_alpha=0.0, class_weight=None,\n",
       "                       criterion='gini', max_depth=None, max_features='auto',\n",
       "                       max_leaf_nodes=None, max_samples=None,\n",
       "                       min_impurity_decrease=0.0, min_impurity_split=None,\n",
       "                       min_samples_leaf=1, min_samples_split=2,\n",
       "                       min_weight_fraction_leaf=0.0, n_estimators=100,\n",
       "                       n_jobs=None, oob_score=False, random_state=None,\n",
       "                       verbose=0, warm_start=False)"
      ]
     },
     "execution_count": 213,
     "metadata": {},
     "output_type": "execute_result"
    }
   ],
   "source": [
    "X_train, X_test, Y_train, Y_test = split(ref_df.drop([\"GoldsteinScale\", \"AvgTone\"], axis=1))\n",
    "\n",
    "ref_clf = RandomForestClassifier()\n",
    "ref_clf.fit(X_train, Y_train)"
   ]
  },
  {
   "cell_type": "code",
   "execution_count": 214,
   "metadata": {},
   "outputs": [
    {
     "name": "stdout",
     "output_type": "stream",
     "text": [
      "0.75\n"
     ]
    }
   ],
   "source": [
    "predict = ref_clf.predict(X_test)\n",
    "print(accuracy_score(Y_test, predict))"
   ]
  },
  {
   "cell_type": "markdown",
   "metadata": {},
   "source": [
    "## Predictions"
   ]
  },
  {
   "cell_type": "code",
   "execution_count": 109,
   "metadata": {},
   "outputs": [],
   "source": [
    "import wget\n",
    "import requests"
   ]
  },
  {
   "cell_type": "code",
   "execution_count": 110,
   "metadata": {},
   "outputs": [],
   "source": [
    "url = \"https://query1.finance.yahoo.com/v7/finance/download/^DJI?period1=1588291200&period2=1593561600&interval=1d&events=history\"\n",
    "\n",
    "filename = requests.get(url)\n",
    "\n",
    "f= open('./may_june_dow.csv', 'wb')\n",
    "f.write(filename.content)\n",
    "f.close()"
   ]
  },
  {
   "cell_type": "code",
   "execution_count": 111,
   "metadata": {},
   "outputs": [],
   "source": [
    "may_june_us_chn_data = pd.read_csv(\"MayJuneData.csv\")"
   ]
  },
  {
   "cell_type": "code",
   "execution_count": 112,
   "metadata": {},
   "outputs": [],
   "source": [
    "new_data = may_june_us_chn_data.groupby('SQLDATE', as_index=False, sort=False)['GoldsteinScale'].mean()\n",
    "format_str = '%Y%m%d'\n",
    "new_data.SQLDATE = [datetime.strptime(str(x), format_str) for x in new_data.SQLDATE]\n",
    "pred_goldstein = new_data[new_data.SQLDATE > datetime(2020,4,30)].sort_values(by=\"SQLDATE\")\n",
    "\n",
    "new_data = may_june_us_chn_data.groupby('SQLDATE', as_index=False, sort=False)['AvgTone'].mean()\n",
    "new_data.SQLDATE = [datetime.strptime(str(x), format_str) for x in new_data.SQLDATE]\n",
    "pred_tone = new_data[new_data.SQLDATE > datetime(2020,4,30)].sort_values(by=\"SQLDATE\")\n",
    "\n",
    "pred_data = pd.merge(pred_tone, pred_goldstein, on=\"SQLDATE\")\n",
    "pred_data[\"SQLDATE\"] = pd.to_datetime(pred_data[\"SQLDATE\"])"
   ]
  },
  {
   "cell_type": "code",
   "execution_count": 113,
   "metadata": {},
   "outputs": [
    {
     "data": {
      "text/html": [
       "<div>\n",
       "<style scoped>\n",
       "    .dataframe tbody tr th:only-of-type {\n",
       "        vertical-align: middle;\n",
       "    }\n",
       "\n",
       "    .dataframe tbody tr th {\n",
       "        vertical-align: top;\n",
       "    }\n",
       "\n",
       "    .dataframe thead th {\n",
       "        text-align: right;\n",
       "    }\n",
       "</style>\n",
       "<table border=\"1\" class=\"dataframe\">\n",
       "  <thead>\n",
       "    <tr style=\"text-align: right;\">\n",
       "      <th></th>\n",
       "      <th>SQLDATE</th>\n",
       "      <th>AvgTone</th>\n",
       "      <th>GoldsteinScale</th>\n",
       "    </tr>\n",
       "  </thead>\n",
       "  <tbody>\n",
       "    <tr>\n",
       "      <th>0</th>\n",
       "      <td>2020-05-01</td>\n",
       "      <td>-3.326702</td>\n",
       "      <td>0.546114</td>\n",
       "    </tr>\n",
       "    <tr>\n",
       "      <th>1</th>\n",
       "      <td>2020-05-02</td>\n",
       "      <td>-3.328630</td>\n",
       "      <td>0.264565</td>\n",
       "    </tr>\n",
       "    <tr>\n",
       "      <th>2</th>\n",
       "      <td>2020-05-03</td>\n",
       "      <td>-3.374564</td>\n",
       "      <td>1.082721</td>\n",
       "    </tr>\n",
       "    <tr>\n",
       "      <th>3</th>\n",
       "      <td>2020-05-04</td>\n",
       "      <td>-3.441615</td>\n",
       "      <td>0.579567</td>\n",
       "    </tr>\n",
       "    <tr>\n",
       "      <th>4</th>\n",
       "      <td>2020-05-05</td>\n",
       "      <td>-3.318267</td>\n",
       "      <td>0.104493</td>\n",
       "    </tr>\n",
       "    <tr>\n",
       "      <th>...</th>\n",
       "      <td>...</td>\n",
       "      <td>...</td>\n",
       "      <td>...</td>\n",
       "    </tr>\n",
       "    <tr>\n",
       "      <th>56</th>\n",
       "      <td>2020-06-26</td>\n",
       "      <td>-3.102075</td>\n",
       "      <td>0.218441</td>\n",
       "    </tr>\n",
       "    <tr>\n",
       "      <th>57</th>\n",
       "      <td>2020-06-27</td>\n",
       "      <td>-4.348583</td>\n",
       "      <td>-0.312575</td>\n",
       "    </tr>\n",
       "    <tr>\n",
       "      <th>58</th>\n",
       "      <td>2020-06-28</td>\n",
       "      <td>-3.036777</td>\n",
       "      <td>0.678022</td>\n",
       "    </tr>\n",
       "    <tr>\n",
       "      <th>59</th>\n",
       "      <td>2020-06-29</td>\n",
       "      <td>-3.177634</td>\n",
       "      <td>-0.272390</td>\n",
       "    </tr>\n",
       "    <tr>\n",
       "      <th>60</th>\n",
       "      <td>2020-06-30</td>\n",
       "      <td>-5.475570</td>\n",
       "      <td>-0.150000</td>\n",
       "    </tr>\n",
       "  </tbody>\n",
       "</table>\n",
       "<p>61 rows × 3 columns</p>\n",
       "</div>"
      ],
      "text/plain": [
       "      SQLDATE   AvgTone  GoldsteinScale\n",
       "0  2020-05-01 -3.326702        0.546114\n",
       "1  2020-05-02 -3.328630        0.264565\n",
       "2  2020-05-03 -3.374564        1.082721\n",
       "3  2020-05-04 -3.441615        0.579567\n",
       "4  2020-05-05 -3.318267        0.104493\n",
       "..        ...       ...             ...\n",
       "56 2020-06-26 -3.102075        0.218441\n",
       "57 2020-06-27 -4.348583       -0.312575\n",
       "58 2020-06-28 -3.036777        0.678022\n",
       "59 2020-06-29 -3.177634       -0.272390\n",
       "60 2020-06-30 -5.475570       -0.150000\n",
       "\n",
       "[61 rows x 3 columns]"
      ]
     },
     "execution_count": 113,
     "metadata": {},
     "output_type": "execute_result"
    }
   ],
   "source": [
    "pred_data"
   ]
  },
  {
   "cell_type": "code",
   "execution_count": 114,
   "metadata": {},
   "outputs": [
    {
     "data": {
      "text/html": [
       "<div>\n",
       "<style scoped>\n",
       "    .dataframe tbody tr th:only-of-type {\n",
       "        vertical-align: middle;\n",
       "    }\n",
       "\n",
       "    .dataframe tbody tr th {\n",
       "        vertical-align: top;\n",
       "    }\n",
       "\n",
       "    .dataframe thead th {\n",
       "        text-align: right;\n",
       "    }\n",
       "</style>\n",
       "<table border=\"1\" class=\"dataframe\">\n",
       "  <thead>\n",
       "    <tr style=\"text-align: right;\">\n",
       "      <th></th>\n",
       "      <th>SQLDATE</th>\n",
       "      <th>AvgTone</th>\n",
       "      <th>GoldsteinScale</th>\n",
       "      <th>Date</th>\n",
       "    </tr>\n",
       "  </thead>\n",
       "  <tbody>\n",
       "    <tr>\n",
       "      <th>0</th>\n",
       "      <td>2020-05-01</td>\n",
       "      <td>-3.326702</td>\n",
       "      <td>0.546114</td>\n",
       "      <td>2020-05-01</td>\n",
       "    </tr>\n",
       "    <tr>\n",
       "      <th>1</th>\n",
       "      <td>2020-05-02</td>\n",
       "      <td>-3.328630</td>\n",
       "      <td>0.264565</td>\n",
       "      <td>NaT</td>\n",
       "    </tr>\n",
       "    <tr>\n",
       "      <th>2</th>\n",
       "      <td>2020-05-03</td>\n",
       "      <td>-3.374564</td>\n",
       "      <td>1.082721</td>\n",
       "      <td>NaT</td>\n",
       "    </tr>\n",
       "    <tr>\n",
       "      <th>3</th>\n",
       "      <td>2020-05-04</td>\n",
       "      <td>-3.441615</td>\n",
       "      <td>0.579567</td>\n",
       "      <td>2020-05-04</td>\n",
       "    </tr>\n",
       "    <tr>\n",
       "      <th>4</th>\n",
       "      <td>2020-05-05</td>\n",
       "      <td>-3.318267</td>\n",
       "      <td>0.104493</td>\n",
       "      <td>2020-05-05</td>\n",
       "    </tr>\n",
       "  </tbody>\n",
       "</table>\n",
       "</div>"
      ],
      "text/plain": [
       "     SQLDATE   AvgTone  GoldsteinScale       Date\n",
       "0 2020-05-01 -3.326702        0.546114 2020-05-01\n",
       "1 2020-05-02 -3.328630        0.264565        NaT\n",
       "2 2020-05-03 -3.374564        1.082721        NaT\n",
       "3 2020-05-04 -3.441615        0.579567 2020-05-04\n",
       "4 2020-05-05 -3.318267        0.104493 2020-05-05"
      ]
     },
     "execution_count": 114,
     "metadata": {},
     "output_type": "execute_result"
    }
   ],
   "source": [
    "may_june_dow = pd.read_csv(\"may_june_dow.csv\")\n",
    "may_june_dow[\"Diff\"] = may_june_dow[\"Open\"] - may_june_dow[\"Close\"]\n",
    "may_june_dow[\"Date\"] = pd.to_datetime(may_june_dow[\"Date\"])\n",
    "\n",
    "may_merging_data = pd.merge(pred_data, may_june_dow[\"Date\"], how=\"left\", left_on=\"SQLDATE\", right_on=\"Date\")\n",
    "may_merging_data.head()"
   ]
  },
  {
   "cell_type": "code",
   "execution_count": 115,
   "metadata": {},
   "outputs": [],
   "source": [
    "pred_df = merge_column(may_merging_data, [\"GoldsteinScale\", \"AvgTone\"])\n",
    "pred_df = pd.merge(pred_df, may_june_dow, on=\"Date\")"
   ]
  },
  {
   "cell_type": "code",
   "execution_count": 116,
   "metadata": {},
   "outputs": [
    {
     "data": {
      "text/html": [
       "<div>\n",
       "<style scoped>\n",
       "    .dataframe tbody tr th:only-of-type {\n",
       "        vertical-align: middle;\n",
       "    }\n",
       "\n",
       "    .dataframe tbody tr th {\n",
       "        vertical-align: top;\n",
       "    }\n",
       "\n",
       "    .dataframe thead th {\n",
       "        text-align: right;\n",
       "    }\n",
       "</style>\n",
       "<table border=\"1\" class=\"dataframe\">\n",
       "  <thead>\n",
       "    <tr style=\"text-align: right;\">\n",
       "      <th></th>\n",
       "      <th>GoldsteinScale</th>\n",
       "      <th>AvgTone</th>\n",
       "      <th>Diff</th>\n",
       "    </tr>\n",
       "    <tr>\n",
       "      <th>Date</th>\n",
       "      <th></th>\n",
       "      <th></th>\n",
       "      <th></th>\n",
       "    </tr>\n",
       "  </thead>\n",
       "  <tbody>\n",
       "    <tr>\n",
       "      <th>2020-05-01</th>\n",
       "      <td>0.631133</td>\n",
       "      <td>-3.343299</td>\n",
       "      <td>0.0</td>\n",
       "    </tr>\n",
       "    <tr>\n",
       "      <th>2020-05-04</th>\n",
       "      <td>0.579567</td>\n",
       "      <td>-3.441615</td>\n",
       "      <td>1.0</td>\n",
       "    </tr>\n",
       "    <tr>\n",
       "      <th>2020-05-05</th>\n",
       "      <td>0.104493</td>\n",
       "      <td>-3.318267</td>\n",
       "      <td>1.0</td>\n",
       "    </tr>\n",
       "    <tr>\n",
       "      <th>2020-05-06</th>\n",
       "      <td>0.615290</td>\n",
       "      <td>-3.299201</td>\n",
       "      <td>0.0</td>\n",
       "    </tr>\n",
       "    <tr>\n",
       "      <th>2020-05-07</th>\n",
       "      <td>0.060809</td>\n",
       "      <td>-3.733817</td>\n",
       "      <td>0.0</td>\n",
       "    </tr>\n",
       "  </tbody>\n",
       "</table>\n",
       "</div>"
      ],
      "text/plain": [
       "            GoldsteinScale   AvgTone  Diff\n",
       "Date                                      \n",
       "2020-05-01        0.631133 -3.343299   0.0\n",
       "2020-05-04        0.579567 -3.441615   1.0\n",
       "2020-05-05        0.104493 -3.318267   1.0\n",
       "2020-05-06        0.615290 -3.299201   0.0\n",
       "2020-05-07        0.060809 -3.733817   0.0"
      ]
     },
     "execution_count": 116,
     "metadata": {},
     "output_type": "execute_result"
    }
   ],
   "source": [
    "pred_df.set_index('Date', inplace=True)\n",
    "pred_df.drop([\"Open\", \"Close\", \"Low\", \"High\", \"Adj Close\", \"Volume\"], axis=1, inplace=True)\n",
    "pred_df[\"Diff\"] = pred_df[\"Diff\"].apply(func)\n",
    "pred_df.Diff = pred_df.Diff.shift(-1)\n",
    "pred_df.drop(pred_df.tail(1).index, inplace=True)\n",
    "pred_df.head()"
   ]
  },
  {
   "cell_type": "markdown",
   "metadata": {},
   "source": [
    "### Model Predictions"
   ]
  },
  {
   "cell_type": "code",
   "execution_count": 237,
   "metadata": {},
   "outputs": [],
   "source": [
    "pred_copy_df = pred_df.copy()\n",
    "k=3\n",
    "pred_copy_df.GoldsteinScale = pred_copy_df[\"GoldsteinScale\"].ewm(span=k).mean()\n",
    "pred_copy_df.AvgTone = pred_copy_df[\"AvgTone\"].ewm(span=k).mean()"
   ]
  },
  {
   "cell_type": "code",
   "execution_count": 238,
   "metadata": {},
   "outputs": [],
   "source": [
    "pred_copy_df.GoldsteinScale.fillna(pred_df.GoldsteinScale, inplace=True)\n",
    "pred_copy_df.AvgTone.fillna(pred_df.AvgTone, inplace=True)"
   ]
  },
  {
   "cell_type": "code",
   "execution_count": 239,
   "metadata": {},
   "outputs": [],
   "source": [
    "pred_copy_df[\"prev_day\"] = pred_copy_df[\"Diff\"].shift(1)\n",
    "pred_copy_df.dropna(inplace=True)"
   ]
  },
  {
   "cell_type": "code",
   "execution_count": 240,
   "metadata": {},
   "outputs": [
    {
     "data": {
      "text/plain": [
       "0.625"
      ]
     },
     "execution_count": 240,
     "metadata": {},
     "output_type": "execute_result"
    }
   ],
   "source": [
    "model_predictions = best_model.predict(pred_copy_df.drop([\"Diff\"], axis=1))\n",
    "accuracy_score(pred_copy_df[\"Diff\"], model_predictions)"
   ]
  },
  {
   "cell_type": "code",
   "execution_count": 241,
   "metadata": {
    "scrolled": true
   },
   "outputs": [
    {
     "data": {
      "text/plain": [
       "0.5"
      ]
     },
     "execution_count": 241,
     "metadata": {},
     "output_type": "execute_result"
    }
   ],
   "source": [
    "ref_predictions = ref_clf.predict(pred_copy_df[[\"prev_day\"]])\n",
    "accuracy_score(pred_copy_df[\"Diff\"], ref_predictions)"
   ]
  },
  {
   "cell_type": "code",
   "execution_count": 242,
   "metadata": {},
   "outputs": [],
   "source": [
    "temp_dow = may_june_dow.copy()\n",
    "temp_dow[\"Diff\"] = temp_dow[\"Diff\"].shift(-1)"
   ]
  },
  {
   "cell_type": "code",
   "execution_count": 243,
   "metadata": {},
   "outputs": [],
   "source": [
    "diff_dist = pd.merge(pred_copy_df, temp_dow[[\"Diff\", \"Date\"]], how=\"left\", left_on=\"Date\", right_on=\"Date\")"
   ]
  },
  {
   "cell_type": "code",
   "execution_count": 244,
   "metadata": {},
   "outputs": [],
   "source": [
    "diff_dist[\"model_pred\"] = model_predictions\n",
    "diff_dist[\"ref_pred\"] = ref_predictions"
   ]
  },
  {
   "cell_type": "code",
   "execution_count": 245,
   "metadata": {},
   "outputs": [],
   "source": [
    "diff_dist = diff_dist[[\"Date\", \"Diff_x\", \"Diff_y\", \"model_pred\", \"ref_pred\"]]"
   ]
  },
  {
   "cell_type": "code",
   "execution_count": 246,
   "metadata": {},
   "outputs": [
    {
     "data": {
      "text/html": [
       "<div>\n",
       "<style scoped>\n",
       "    .dataframe tbody tr th:only-of-type {\n",
       "        vertical-align: middle;\n",
       "    }\n",
       "\n",
       "    .dataframe tbody tr th {\n",
       "        vertical-align: top;\n",
       "    }\n",
       "\n",
       "    .dataframe thead th {\n",
       "        text-align: right;\n",
       "    }\n",
       "</style>\n",
       "<table border=\"1\" class=\"dataframe\">\n",
       "  <thead>\n",
       "    <tr style=\"text-align: right;\">\n",
       "      <th></th>\n",
       "      <th>Date</th>\n",
       "      <th>Diff_x</th>\n",
       "      <th>Diff_y</th>\n",
       "      <th>model_pred</th>\n",
       "      <th>ref_pred</th>\n",
       "    </tr>\n",
       "  </thead>\n",
       "  <tbody>\n",
       "    <tr>\n",
       "      <th>0</th>\n",
       "      <td>2020-05-04</td>\n",
       "      <td>1.0</td>\n",
       "      <td>75.791015</td>\n",
       "      <td>1.0</td>\n",
       "      <td>1.0</td>\n",
       "    </tr>\n",
       "    <tr>\n",
       "      <th>1</th>\n",
       "      <td>2020-05-05</td>\n",
       "      <td>1.0</td>\n",
       "      <td>314.240234</td>\n",
       "      <td>0.0</td>\n",
       "      <td>0.0</td>\n",
       "    </tr>\n",
       "    <tr>\n",
       "      <th>2</th>\n",
       "      <td>2020-05-06</td>\n",
       "      <td>0.0</td>\n",
       "      <td>-38.679687</td>\n",
       "      <td>0.0</td>\n",
       "      <td>0.0</td>\n",
       "    </tr>\n",
       "    <tr>\n",
       "      <th>3</th>\n",
       "      <td>2020-05-07</td>\n",
       "      <td>0.0</td>\n",
       "      <td>-223.500000</td>\n",
       "      <td>1.0</td>\n",
       "      <td>1.0</td>\n",
       "    </tr>\n",
       "    <tr>\n",
       "      <th>4</th>\n",
       "      <td>2020-05-08</td>\n",
       "      <td>1.0</td>\n",
       "      <td>34.458985</td>\n",
       "      <td>1.0</td>\n",
       "      <td>1.0</td>\n",
       "    </tr>\n",
       "  </tbody>\n",
       "</table>\n",
       "</div>"
      ],
      "text/plain": [
       "        Date  Diff_x      Diff_y  model_pred  ref_pred\n",
       "0 2020-05-04     1.0   75.791015         1.0       1.0\n",
       "1 2020-05-05     1.0  314.240234         0.0       0.0\n",
       "2 2020-05-06     0.0  -38.679687         0.0       0.0\n",
       "3 2020-05-07     0.0 -223.500000         1.0       1.0\n",
       "4 2020-05-08     1.0   34.458985         1.0       1.0"
      ]
     },
     "execution_count": 246,
     "metadata": {},
     "output_type": "execute_result"
    }
   ],
   "source": [
    "diff_dist.head()"
   ]
  },
  {
   "cell_type": "code",
   "execution_count": 247,
   "metadata": {},
   "outputs": [],
   "source": [
    "correct_predictions = diff_dist[diff_dist[\"Diff_x\"] == diff_dist[\"model_pred\"]]\n",
    "incorrect_predictions = diff_dist[diff_dist[\"Diff_x\"] != diff_dist[\"model_pred\"]]"
   ]
  },
  {
   "cell_type": "code",
   "execution_count": 248,
   "metadata": {},
   "outputs": [
    {
     "data": {
      "image/png": "[encoded data removed]",
      "text/plain": [
       "<Figure size 720x432 with 1 Axes>"
      ]
     },
     "metadata": {
      "needs_background": "light"
     },
     "output_type": "display_data"
    }
   ],
   "source": [
    "fig = plt.figure(figsize=(10,6))\n",
    "sns.distplot(correct_predictions[\"Diff_y\"])\n",
    "sns.distplot(incorrect_predictions[\"Diff_y\"])\n",
    "fig.legend(labels=['Correct Predictions','Incorrect Predictions'])\n",
    "plt.savefig(\"dist_of_model.png\")"
   ]
  },
  {
   "cell_type": "code",
   "execution_count": 249,
   "metadata": {},
   "outputs": [
    {
     "data": {
      "text/html": [
       "<div>\n",
       "<style scoped>\n",
       "    .dataframe tbody tr th:only-of-type {\n",
       "        vertical-align: middle;\n",
       "    }\n",
       "\n",
       "    .dataframe tbody tr th {\n",
       "        vertical-align: top;\n",
       "    }\n",
       "\n",
       "    .dataframe thead th {\n",
       "        text-align: right;\n",
       "    }\n",
       "</style>\n",
       "<table border=\"1\" class=\"dataframe\">\n",
       "  <thead>\n",
       "    <tr style=\"text-align: right;\">\n",
       "      <th></th>\n",
       "      <th>Date</th>\n",
       "      <th>Diff_x</th>\n",
       "      <th>Diff_y</th>\n",
       "      <th>model_pred</th>\n",
       "      <th>ref_pred</th>\n",
       "    </tr>\n",
       "  </thead>\n",
       "  <tbody>\n",
       "    <tr>\n",
       "      <th>0</th>\n",
       "      <td>2020-05-04</td>\n",
       "      <td>1.0</td>\n",
       "      <td>75.791015</td>\n",
       "      <td>1.0</td>\n",
       "      <td>1.0</td>\n",
       "    </tr>\n",
       "    <tr>\n",
       "      <th>1</th>\n",
       "      <td>2020-05-05</td>\n",
       "      <td>1.0</td>\n",
       "      <td>314.240234</td>\n",
       "      <td>0.0</td>\n",
       "      <td>0.0</td>\n",
       "    </tr>\n",
       "    <tr>\n",
       "      <th>2</th>\n",
       "      <td>2020-05-06</td>\n",
       "      <td>0.0</td>\n",
       "      <td>-38.679687</td>\n",
       "      <td>0.0</td>\n",
       "      <td>0.0</td>\n",
       "    </tr>\n",
       "    <tr>\n",
       "      <th>3</th>\n",
       "      <td>2020-05-07</td>\n",
       "      <td>0.0</td>\n",
       "      <td>-223.500000</td>\n",
       "      <td>1.0</td>\n",
       "      <td>1.0</td>\n",
       "    </tr>\n",
       "    <tr>\n",
       "      <th>4</th>\n",
       "      <td>2020-05-08</td>\n",
       "      <td>1.0</td>\n",
       "      <td>34.458985</td>\n",
       "      <td>1.0</td>\n",
       "      <td>1.0</td>\n",
       "    </tr>\n",
       "  </tbody>\n",
       "</table>\n",
       "</div>"
      ],
      "text/plain": [
       "        Date  Diff_x      Diff_y  model_pred  ref_pred\n",
       "0 2020-05-04     1.0   75.791015         1.0       1.0\n",
       "1 2020-05-05     1.0  314.240234         0.0       0.0\n",
       "2 2020-05-06     0.0  -38.679687         0.0       0.0\n",
       "3 2020-05-07     0.0 -223.500000         1.0       1.0\n",
       "4 2020-05-08     1.0   34.458985         1.0       1.0"
      ]
     },
     "execution_count": 249,
     "metadata": {},
     "output_type": "execute_result"
    }
   ],
   "source": [
    "diff_dist.head()"
   ]
  },
  {
   "cell_type": "code",
   "execution_count": 250,
   "metadata": {},
   "outputs": [],
   "source": [
    "diff_dist.replace(0, -1, inplace=True)"
   ]
  },
  {
   "cell_type": "code",
   "execution_count": 251,
   "metadata": {},
   "outputs": [
    {
     "data": {
      "image/png": "[encoded data removed]",
      "text/plain": [
       "<Figure size 720x720 with 2 Axes>"
      ]
     },
     "metadata": {
      "needs_background": "light"
     },
     "output_type": "display_data"
    }
   ],
   "source": [
    "\n",
    "fig, axes = plt.subplots(2, 1, figsize=(10,10),  sharex=True)\n",
    "\n",
    "for i, ax in enumerate(axes.flatten()):\n",
    "    if i == 1:\n",
    "        fig.add_subplot(ax)\n",
    "        ax.bar(diff_dist[\"Date\"], diff_dist[\"model_pred\"], color=diff_dist[\"model_pred\"].map({1: 'g', -1: 'r'}))\n",
    "#         clrs = ['green' if x == 1 else 'red' for x in  diff_dist[\"model_pred\"]]\n",
    "#         sns.barplot(diff_dist[\"Date\"], diff_dist[\"model_pred\"], palette=clrs)\n",
    "    else:\n",
    "        fig.add_subplot(ax)\n",
    "        sns.lineplot(diff_dist[\"Date\"], diff_dist[\"Diff_y\"])\n",
    "#         ax.plot(diff_dist[\"Date\"], diff_dist[\"Diff_y\"])\n",
    "\n",
    "plt.subplots_adjust(wspace=0, hspace=0)\n",
    "fig.suptitle(\"Model Predictions Over Time\")\n",
    "plt.margins(x=0, y=0)\n",
    "plt.tight_layout()\n",
    "fig.subplots_adjust(top=0.88)\n",
    "plt.xlabel(\"Date\")\n",
    "plt.savefig(\"model_pred_time.png\")\n",
    "plt.show()"
   ]
  },
  {
   "cell_type": "markdown",
   "metadata": {},
   "source": [
    "## Random"
   ]
  },
  {
   "cell_type": "code",
   "execution_count": null,
   "metadata": {},
   "outputs": [],
   "source": [
    "logit = sm.Logit(Y_train, X_train)"
   ]
  },
  {
   "cell_type": "code",
   "execution_count": null,
   "metadata": {},
   "outputs": [],
   "source": []
  },
  {
   "cell_type": "code",
   "execution_count": null,
   "metadata": {},
   "outputs": [],
   "source": [
    "total_data.set_index('SQLDATE', inplace=True)"
   ]
  },
  {
   "cell_type": "code",
   "execution_count": null,
   "metadata": {},
   "outputs": [],
   "source": [
    "dow[\"Date\"] = pd.to_datetime(dow[\"Date\"])"
   ]
  },
  {
   "cell_type": "code",
   "execution_count": null,
   "metadata": {},
   "outputs": [],
   "source": [
    "merging_data = pd.merge(total_data, dow, how=\"left\", left_on=\"SQLDATE\", right_on=\"Date\")"
   ]
  },
  {
   "cell_type": "code",
   "execution_count": null,
   "metadata": {},
   "outputs": [],
   "source": [
    "import numpy as np\n",
    "from datetime import datetime, timedelta"
   ]
  },
  {
   "cell_type": "code",
   "execution_count": null,
   "metadata": {},
   "outputs": [],
   "source": [
    "def merge_column(df):\n",
    "    new_df = pd.DataFrame()\n",
    "    indices = df.index.dayofweek < 5\n",
    "    fst_occurrence = np.where(indices == False)[0][0]\n",
    "    if fst_occurrence == 0:\n",
    "        true_fst_occurrence = np.where(indices == True)[0][0]\n",
    "        df = df.iloc[true_fst_occurrence:]\n",
    "        indices = df.index.dayofweek < 5\n",
    "    for i in df.columns:\n",
    "        col_value = df[i]\n",
    "        new_col = []\n",
    "        prev = True\n",
    "        for j in range(0, len(col_value) - 1):\n",
    "            if j < (len(col_value) - 2):\n",
    "                if indices[j] == True:\n",
    "                    if indices[j + 1] == False:\n",
    "                        new_col.append(np.mean([col_value[j], col_value[j+1], col_value[j+2]]))\n",
    "                    else:\n",
    "                        new_col.append(col_value[j])\n",
    "                prev = indices[j]\n",
    "            else:\n",
    "#                 essentially dealing with 5 possibilities TTF, FTT, TTT, TFF, TFF\n",
    "#                 false dealt with previously \n",
    "                if prev == True:\n",
    "                    if indices[j] == True:\n",
    "                        if indices[j + 1] == True:\n",
    "                            new_col.extend((col_value[j], col_value[j + 1]))\n",
    "                        else:\n",
    "                            new_col.append(np.mean([col_value[j], col_value[j + 1]]))\n",
    "                else:\n",
    "                    if indices[j] == True:\n",
    "                        new_col.extend((col_value[j], col_value[j + 1]))\n",
    "                    else:\n",
    "                        new_col.append(col_value[j + 1])\n",
    "        new_df[i] = new_col\n",
    "        new_df[\"Date\"] = df[df.index.dayofweek < 5].index\n",
    "        \n",
    "    return new_df"
   ]
  },
  {
   "cell_type": "code",
   "execution_count": null,
   "metadata": {},
   "outputs": [],
   "source": [
    "final = merge_column(total_data)"
   ]
  },
  {
   "cell_type": "code",
   "execution_count": null,
   "metadata": {},
   "outputs": [],
   "source": []
  },
  {
   "cell_type": "markdown",
   "metadata": {},
   "source": [
    "## Things"
   ]
  },
  {
   "cell_type": "code",
   "execution_count": null,
   "metadata": {},
   "outputs": [],
   "source": [
    "from sklearn.linear_model import LinearRegression\n",
    "\n",
    "regr = LinearRegression()\n",
    "\n",
    "X = merged[[\"AvgTone\", \"GoldsteinScale\"]]\n",
    "Y = merged[\"Close\"]\n",
    "\n",
    "from sklearn.model_selection import cross_val_score\n",
    "\n",
    "scores = cross_val_score(regr, X, Y, cv=5, scoring=\"r2\")\n",
    "scores"
   ]
  },
  {
   "cell_type": "code",
   "execution_count": null,
   "metadata": {},
   "outputs": [],
   "source": [
    "from statsmodels.tsa import arima_model\n",
    "from statsmodels.tsa.api import VAR\n",
    "from statsmodels.tsa.stattools import adfuller"
   ]
  },
  {
   "cell_type": "code",
   "execution_count": null,
   "metadata": {},
   "outputs": [],
   "source": [
    "def adfuller_test(series, signif=0.05, name='', verbose=False):\n",
    "    \"\"\"Perform ADFuller to test for Stationarity of given series and print report\"\"\"\n",
    "    r = adfuller(series, autolag='AIC')\n",
    "    output = {'test_statistic':round(r[0], 4), 'pvalue':round(r[1], 4), 'n_lags':round(r[2], 4), 'n_obs':r[3]}\n",
    "    p_value = output['pvalue'] \n",
    "    def adjust(val, length= 6): return str(val).ljust(length)\n",
    "\n",
    "    # Print Summary\n",
    "    print(f'    Augmented Dickey-Fuller Test on \"{name}\"', \"\\n   \", '-'*47)\n",
    "    print(f' Null Hypothesis: Data has unit root. Non-Stationary.')\n",
    "    print(f' Significance Level    = {signif}')\n",
    "    print(f' Test Statistic        = {output[\"test_statistic\"]}')\n",
    "    print(f' No. Lags Chosen       = {output[\"n_lags\"]}')\n",
    "\n",
    "    for key,val in r[4].items():\n",
    "        print(f' Critical value {adjust(key)} = {round(val, 3)}')\n",
    "\n",
    "    if p_value <= signif:\n",
    "        print(f\" => P-Value = {p_value}. Rejecting Null Hypothesis.\")\n",
    "        print(f\" => Series is Stationary.\")\n",
    "    else:\n",
    "        print(f\" => P-Value = {p_value}. Weak evidence to reject the Null Hypothesis.\")\n",
    "        print(f\" => Series is Non-Stationary.\") "
   ]
  },
  {
   "cell_type": "code",
   "execution_count": null,
   "metadata": {},
   "outputs": [],
   "source": [
    "# ADF Test on each column\n",
    "for name, column in X.iteritems():\n",
    "    adfuller_test(column, name=column.name)\n",
    "    print('\\n')"
   ]
  },
  {
   "cell_type": "code",
   "execution_count": null,
   "metadata": {},
   "outputs": [],
   "source": [
    "model = VAR(X)\n",
    "model_fit = model.fit()\n",
    "\n",
    "model_fit.summary()"
   ]
  },
  {
   "cell_type": "code",
   "execution_count": null,
   "metadata": {},
   "outputs": [],
   "source": [
    "x = model.select_order(maxlags=12)\n",
    "x.summary()"
   ]
  }
 ],
 "metadata": {
  "kernelspec": {
   "display_name": "Python 3",
   "language": "python",
   "name": "python3"
  },
  "language_info": {
   "codemirror_mode": {
    "name": "ipython",
    "version": 3
   },
   "file_extension": ".py",
   "mimetype": "text/x-python",
   "name": "python",
   "nbconvert_exporter": "python",
   "pygments_lexer": "ipython3",
   "version": "3.7.8"
  }
 },
 "nbformat": 4,
 "nbformat_minor": 4
}
